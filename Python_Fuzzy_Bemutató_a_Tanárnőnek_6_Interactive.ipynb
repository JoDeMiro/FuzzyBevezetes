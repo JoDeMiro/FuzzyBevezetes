{
  "nbformat": 4,
  "nbformat_minor": 0,
  "metadata": {
    "colab": {
      "name": "Python Fuzzy - Bemutató a Tanárnőnek 6 Interactive.ipynb",
      "provenance": [],
      "collapsed_sections": [],
      "authorship_tag": "ABX9TyPV7m83xwiXG7HFoNHJVcTb",
      "include_colab_link": true
    },
    "kernelspec": {
      "name": "python3",
      "display_name": "Python 3"
    },
    "language_info": {
      "name": "python"
    },
    "widgets": {
      "application/vnd.jupyter.widget-state+json": {
        "67decf0eebfb46ed95d9ed9f4c8233fe": {
          "model_module": "@jupyter-widgets/controls",
          "model_name": "VBoxModel",
          "state": {
            "_view_name": "VBoxView",
            "_dom_classes": [
              "widget-interact"
            ],
            "_model_name": "VBoxModel",
            "_view_module": "@jupyter-widgets/controls",
            "_model_module_version": "1.5.0",
            "_view_count": null,
            "_view_module_version": "1.5.0",
            "box_style": "",
            "layout": "IPY_MODEL_803c814c747f4e698d6d26de5a85509d",
            "_model_module": "@jupyter-widgets/controls",
            "children": [
              "IPY_MODEL_f99b871746054149b7ba4e15e496ba08",
              "IPY_MODEL_3e823dcb4d784a76b73c52cee0e5bea3"
            ]
          }
        },
        "803c814c747f4e698d6d26de5a85509d": {
          "model_module": "@jupyter-widgets/base",
          "model_name": "LayoutModel",
          "state": {
            "_view_name": "LayoutView",
            "grid_template_rows": null,
            "right": null,
            "justify_content": null,
            "_view_module": "@jupyter-widgets/base",
            "overflow": null,
            "_model_module_version": "1.2.0",
            "_view_count": null,
            "flex_flow": null,
            "width": null,
            "min_width": null,
            "border": null,
            "align_items": null,
            "bottom": null,
            "_model_module": "@jupyter-widgets/base",
            "top": null,
            "grid_column": null,
            "overflow_y": null,
            "overflow_x": null,
            "grid_auto_flow": null,
            "grid_area": null,
            "grid_template_columns": null,
            "flex": null,
            "_model_name": "LayoutModel",
            "justify_items": null,
            "grid_row": null,
            "max_height": null,
            "align_content": null,
            "visibility": null,
            "align_self": null,
            "height": null,
            "min_height": null,
            "padding": null,
            "grid_auto_rows": null,
            "grid_gap": null,
            "max_width": null,
            "order": null,
            "_view_module_version": "1.2.0",
            "grid_template_areas": null,
            "object_position": null,
            "object_fit": null,
            "grid_auto_columns": null,
            "margin": null,
            "display": null,
            "left": null
          }
        },
        "f99b871746054149b7ba4e15e496ba08": {
          "model_module": "@jupyter-widgets/controls",
          "model_name": "IntSliderModel",
          "state": {
            "_view_name": "IntSliderView",
            "style": "IPY_MODEL_000943d3ef1a4eb2a58c2870a2eae2e2",
            "_dom_classes": [],
            "description": "x_",
            "step": 1,
            "_model_name": "IntSliderModel",
            "orientation": "horizontal",
            "max": 200,
            "_view_module": "@jupyter-widgets/controls",
            "_model_module_version": "1.5.0",
            "value": 168,
            "_view_count": null,
            "disabled": false,
            "_view_module_version": "1.5.0",
            "min": 150,
            "continuous_update": true,
            "readout_format": "d",
            "description_tooltip": null,
            "readout": true,
            "_model_module": "@jupyter-widgets/controls",
            "layout": "IPY_MODEL_5ead94c81fdc4345be0cb2a147e51a11"
          }
        },
        "3e823dcb4d784a76b73c52cee0e5bea3": {
          "model_module": "@jupyter-widgets/output",
          "model_name": "OutputModel",
          "state": {
            "_view_name": "OutputView",
            "msg_id": "",
            "_dom_classes": [],
            "_model_name": "OutputModel",
            "outputs": [
              {
                "output_type": "stream",
                "metadata": {
                  "tags": []
                },
                "text": "Magassag['alacsony'](3) : \t0.20\nMagassag['közepes'](3) : \t0.80\nMagassag['magas'](3) : \t0.00\n",
                "stream": "stdout"
              },
              {
                "output_type": "display_data",
                "metadata": {
                  "tags": [],
                  "needs_background": "light"
                },
                "image/png": "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\n",
                "text/plain": "<Figure size 432x288 with 1 Axes>"
              }
            ],
            "_view_module": "@jupyter-widgets/output",
            "_model_module_version": "1.0.0",
            "_view_count": null,
            "_view_module_version": "1.0.0",
            "layout": "IPY_MODEL_9d905cd359f84582940b0176efabff3f",
            "_model_module": "@jupyter-widgets/output"
          }
        },
        "000943d3ef1a4eb2a58c2870a2eae2e2": {
          "model_module": "@jupyter-widgets/controls",
          "model_name": "SliderStyleModel",
          "state": {
            "_view_name": "StyleView",
            "handle_color": null,
            "_model_name": "SliderStyleModel",
            "description_width": "",
            "_view_module": "@jupyter-widgets/base",
            "_model_module_version": "1.5.0",
            "_view_count": null,
            "_view_module_version": "1.2.0",
            "_model_module": "@jupyter-widgets/controls"
          }
        },
        "5ead94c81fdc4345be0cb2a147e51a11": {
          "model_module": "@jupyter-widgets/base",
          "model_name": "LayoutModel",
          "state": {
            "_view_name": "LayoutView",
            "grid_template_rows": null,
            "right": null,
            "justify_content": null,
            "_view_module": "@jupyter-widgets/base",
            "overflow": null,
            "_model_module_version": "1.2.0",
            "_view_count": null,
            "flex_flow": null,
            "width": null,
            "min_width": null,
            "border": null,
            "align_items": null,
            "bottom": null,
            "_model_module": "@jupyter-widgets/base",
            "top": null,
            "grid_column": null,
            "overflow_y": null,
            "overflow_x": null,
            "grid_auto_flow": null,
            "grid_area": null,
            "grid_template_columns": null,
            "flex": null,
            "_model_name": "LayoutModel",
            "justify_items": null,
            "grid_row": null,
            "max_height": null,
            "align_content": null,
            "visibility": null,
            "align_self": null,
            "height": null,
            "min_height": null,
            "padding": null,
            "grid_auto_rows": null,
            "grid_gap": null,
            "max_width": null,
            "order": null,
            "_view_module_version": "1.2.0",
            "grid_template_areas": null,
            "object_position": null,
            "object_fit": null,
            "grid_auto_columns": null,
            "margin": null,
            "display": null,
            "left": null
          }
        },
        "9d905cd359f84582940b0176efabff3f": {
          "model_module": "@jupyter-widgets/base",
          "model_name": "LayoutModel",
          "state": {
            "_view_name": "LayoutView",
            "grid_template_rows": null,
            "right": null,
            "justify_content": null,
            "_view_module": "@jupyter-widgets/base",
            "overflow": null,
            "_model_module_version": "1.2.0",
            "_view_count": null,
            "flex_flow": null,
            "width": null,
            "min_width": null,
            "border": null,
            "align_items": null,
            "bottom": null,
            "_model_module": "@jupyter-widgets/base",
            "top": null,
            "grid_column": null,
            "overflow_y": null,
            "overflow_x": null,
            "grid_auto_flow": null,
            "grid_area": null,
            "grid_template_columns": null,
            "flex": null,
            "_model_name": "LayoutModel",
            "justify_items": null,
            "grid_row": null,
            "max_height": null,
            "align_content": null,
            "visibility": null,
            "align_self": null,
            "height": null,
            "min_height": null,
            "padding": null,
            "grid_auto_rows": null,
            "grid_gap": null,
            "max_width": null,
            "order": null,
            "_view_module_version": "1.2.0",
            "grid_template_areas": null,
            "object_position": null,
            "object_fit": null,
            "grid_auto_columns": null,
            "margin": null,
            "display": null,
            "left": null
          }
        },
        "74276493ff8540cda85ae0489bf89bed": {
          "model_module": "@jupyter-widgets/controls",
          "model_name": "VBoxModel",
          "state": {
            "_view_name": "VBoxView",
            "_dom_classes": [
              "widget-interact"
            ],
            "_model_name": "VBoxModel",
            "_view_module": "@jupyter-widgets/controls",
            "_model_module_version": "1.5.0",
            "_view_count": null,
            "_view_module_version": "1.5.0",
            "box_style": "",
            "layout": "IPY_MODEL_2716324aa8724eb590afea919a5a533e",
            "_model_module": "@jupyter-widgets/controls",
            "children": [
              "IPY_MODEL_2c202770b22e4a7f9493e3fdd0a8f350",
              "IPY_MODEL_28eb858589184412a04860f5c0dd7c99",
              "IPY_MODEL_de91f0230ebb4953a93a3bca8e5e3c1c",
              "IPY_MODEL_022395a649fc4b488b5f978bc145c136"
            ]
          }
        },
        "2716324aa8724eb590afea919a5a533e": {
          "model_module": "@jupyter-widgets/base",
          "model_name": "LayoutModel",
          "state": {
            "_view_name": "LayoutView",
            "grid_template_rows": null,
            "right": null,
            "justify_content": null,
            "_view_module": "@jupyter-widgets/base",
            "overflow": null,
            "_model_module_version": "1.2.0",
            "_view_count": null,
            "flex_flow": null,
            "width": null,
            "min_width": null,
            "border": null,
            "align_items": null,
            "bottom": null,
            "_model_module": "@jupyter-widgets/base",
            "top": null,
            "grid_column": null,
            "overflow_y": null,
            "overflow_x": null,
            "grid_auto_flow": null,
            "grid_area": null,
            "grid_template_columns": null,
            "flex": null,
            "_model_name": "LayoutModel",
            "justify_items": null,
            "grid_row": null,
            "max_height": null,
            "align_content": null,
            "visibility": null,
            "align_self": null,
            "height": null,
            "min_height": null,
            "padding": null,
            "grid_auto_rows": null,
            "grid_gap": null,
            "max_width": null,
            "order": null,
            "_view_module_version": "1.2.0",
            "grid_template_areas": null,
            "object_position": null,
            "object_fit": null,
            "grid_auto_columns": null,
            "margin": null,
            "display": null,
            "left": null
          }
        },
        "2c202770b22e4a7f9493e3fdd0a8f350": {
          "model_module": "@jupyter-widgets/controls",
          "model_name": "IntSliderModel",
          "state": {
            "_view_name": "IntSliderView",
            "style": "IPY_MODEL_5e5f59be2736468dbd5973d903c3469c",
            "_dom_classes": [],
            "description": "x_",
            "step": 1,
            "_model_name": "IntSliderModel",
            "orientation": "horizontal",
            "max": 200,
            "_view_module": "@jupyter-widgets/controls",
            "_model_module_version": "1.5.0",
            "value": 168,
            "_view_count": null,
            "disabled": false,
            "_view_module_version": "1.5.0",
            "min": 150,
            "continuous_update": true,
            "readout_format": "d",
            "description_tooltip": null,
            "readout": true,
            "_model_module": "@jupyter-widgets/controls",
            "layout": "IPY_MODEL_d67d58a9aec94412b8a97933ccbdfff2"
          }
        },
        "28eb858589184412a04860f5c0dd7c99": {
          "model_module": "@jupyter-widgets/controls",
          "model_name": "IntSliderModel",
          "state": {
            "_view_name": "IntSliderView",
            "style": "IPY_MODEL_74785bfb4d7148b78b3977e2256d0161",
            "_dom_classes": [],
            "description": "a1",
            "step": 1,
            "_model_name": "IntSliderModel",
            "orientation": "horizontal",
            "max": 200,
            "_view_module": "@jupyter-widgets/controls",
            "_model_module_version": "1.5.0",
            "value": 176,
            "_view_count": null,
            "disabled": false,
            "_view_module_version": "1.5.0",
            "min": 150,
            "continuous_update": true,
            "readout_format": "d",
            "description_tooltip": null,
            "readout": true,
            "_model_module": "@jupyter-widgets/controls",
            "layout": "IPY_MODEL_078a28649bb94189ba90589a18e0efef"
          }
        },
        "de91f0230ebb4953a93a3bca8e5e3c1c": {
          "model_module": "@jupyter-widgets/controls",
          "model_name": "IntSliderModel",
          "state": {
            "_view_name": "IntSliderView",
            "style": "IPY_MODEL_c19c6d434044429eab051d25691a5f6b",
            "_dom_classes": [],
            "description": "a2",
            "step": 1,
            "_model_name": "IntSliderModel",
            "orientation": "horizontal",
            "max": 200,
            "_view_module": "@jupyter-widgets/controls",
            "_model_module_version": "1.5.0",
            "value": 186,
            "_view_count": null,
            "disabled": false,
            "_view_module_version": "1.5.0",
            "min": 185,
            "continuous_update": true,
            "readout_format": "d",
            "description_tooltip": null,
            "readout": true,
            "_model_module": "@jupyter-widgets/controls",
            "layout": "IPY_MODEL_31c19592a8a6457d82be21ad7cf2636b"
          }
        },
        "022395a649fc4b488b5f978bc145c136": {
          "model_module": "@jupyter-widgets/output",
          "model_name": "OutputModel",
          "state": {
            "_view_name": "OutputView",
            "msg_id": "",
            "_dom_classes": [],
            "_model_name": "OutputModel",
            "outputs": [
              {
                "output_type": "stream",
                "metadata": {
                  "tags": []
                },
                "text": "Magassag['alacsony'](3) : \t0.20\nMagassag['közepes'](3) : \t0.80\nMagassag['magas'](3) : \t0.00\n",
                "stream": "stdout"
              },
              {
                "output_type": "display_data",
                "metadata": {
                  "tags": [],
                  "needs_background": "light"
                },
                "image/png": "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\n",
                "text/plain": "<Figure size 1440x432 with 1 Axes>"
              }
            ],
            "_view_module": "@jupyter-widgets/output",
            "_model_module_version": "1.0.0",
            "_view_count": null,
            "_view_module_version": "1.0.0",
            "layout": "IPY_MODEL_52f8c50323384e8d83eaf1285751939a",
            "_model_module": "@jupyter-widgets/output"
          }
        },
        "5e5f59be2736468dbd5973d903c3469c": {
          "model_module": "@jupyter-widgets/controls",
          "model_name": "SliderStyleModel",
          "state": {
            "_view_name": "StyleView",
            "handle_color": null,
            "_model_name": "SliderStyleModel",
            "description_width": "",
            "_view_module": "@jupyter-widgets/base",
            "_model_module_version": "1.5.0",
            "_view_count": null,
            "_view_module_version": "1.2.0",
            "_model_module": "@jupyter-widgets/controls"
          }
        },
        "d67d58a9aec94412b8a97933ccbdfff2": {
          "model_module": "@jupyter-widgets/base",
          "model_name": "LayoutModel",
          "state": {
            "_view_name": "LayoutView",
            "grid_template_rows": null,
            "right": null,
            "justify_content": null,
            "_view_module": "@jupyter-widgets/base",
            "overflow": null,
            "_model_module_version": "1.2.0",
            "_view_count": null,
            "flex_flow": null,
            "width": null,
            "min_width": null,
            "border": null,
            "align_items": null,
            "bottom": null,
            "_model_module": "@jupyter-widgets/base",
            "top": null,
            "grid_column": null,
            "overflow_y": null,
            "overflow_x": null,
            "grid_auto_flow": null,
            "grid_area": null,
            "grid_template_columns": null,
            "flex": null,
            "_model_name": "LayoutModel",
            "justify_items": null,
            "grid_row": null,
            "max_height": null,
            "align_content": null,
            "visibility": null,
            "align_self": null,
            "height": null,
            "min_height": null,
            "padding": null,
            "grid_auto_rows": null,
            "grid_gap": null,
            "max_width": null,
            "order": null,
            "_view_module_version": "1.2.0",
            "grid_template_areas": null,
            "object_position": null,
            "object_fit": null,
            "grid_auto_columns": null,
            "margin": null,
            "display": null,
            "left": null
          }
        },
        "74785bfb4d7148b78b3977e2256d0161": {
          "model_module": "@jupyter-widgets/controls",
          "model_name": "SliderStyleModel",
          "state": {
            "_view_name": "StyleView",
            "handle_color": null,
            "_model_name": "SliderStyleModel",
            "description_width": "",
            "_view_module": "@jupyter-widgets/base",
            "_model_module_version": "1.5.0",
            "_view_count": null,
            "_view_module_version": "1.2.0",
            "_model_module": "@jupyter-widgets/controls"
          }
        },
        "078a28649bb94189ba90589a18e0efef": {
          "model_module": "@jupyter-widgets/base",
          "model_name": "LayoutModel",
          "state": {
            "_view_name": "LayoutView",
            "grid_template_rows": null,
            "right": null,
            "justify_content": null,
            "_view_module": "@jupyter-widgets/base",
            "overflow": null,
            "_model_module_version": "1.2.0",
            "_view_count": null,
            "flex_flow": null,
            "width": null,
            "min_width": null,
            "border": null,
            "align_items": null,
            "bottom": null,
            "_model_module": "@jupyter-widgets/base",
            "top": null,
            "grid_column": null,
            "overflow_y": null,
            "overflow_x": null,
            "grid_auto_flow": null,
            "grid_area": null,
            "grid_template_columns": null,
            "flex": null,
            "_model_name": "LayoutModel",
            "justify_items": null,
            "grid_row": null,
            "max_height": null,
            "align_content": null,
            "visibility": null,
            "align_self": null,
            "height": null,
            "min_height": null,
            "padding": null,
            "grid_auto_rows": null,
            "grid_gap": null,
            "max_width": null,
            "order": null,
            "_view_module_version": "1.2.0",
            "grid_template_areas": null,
            "object_position": null,
            "object_fit": null,
            "grid_auto_columns": null,
            "margin": null,
            "display": null,
            "left": null
          }
        },
        "c19c6d434044429eab051d25691a5f6b": {
          "model_module": "@jupyter-widgets/controls",
          "model_name": "SliderStyleModel",
          "state": {
            "_view_name": "StyleView",
            "handle_color": null,
            "_model_name": "SliderStyleModel",
            "description_width": "",
            "_view_module": "@jupyter-widgets/base",
            "_model_module_version": "1.5.0",
            "_view_count": null,
            "_view_module_version": "1.2.0",
            "_model_module": "@jupyter-widgets/controls"
          }
        },
        "31c19592a8a6457d82be21ad7cf2636b": {
          "model_module": "@jupyter-widgets/base",
          "model_name": "LayoutModel",
          "state": {
            "_view_name": "LayoutView",
            "grid_template_rows": null,
            "right": null,
            "justify_content": null,
            "_view_module": "@jupyter-widgets/base",
            "overflow": null,
            "_model_module_version": "1.2.0",
            "_view_count": null,
            "flex_flow": null,
            "width": null,
            "min_width": null,
            "border": null,
            "align_items": null,
            "bottom": null,
            "_model_module": "@jupyter-widgets/base",
            "top": null,
            "grid_column": null,
            "overflow_y": null,
            "overflow_x": null,
            "grid_auto_flow": null,
            "grid_area": null,
            "grid_template_columns": null,
            "flex": null,
            "_model_name": "LayoutModel",
            "justify_items": null,
            "grid_row": null,
            "max_height": null,
            "align_content": null,
            "visibility": null,
            "align_self": null,
            "height": null,
            "min_height": null,
            "padding": null,
            "grid_auto_rows": null,
            "grid_gap": null,
            "max_width": null,
            "order": null,
            "_view_module_version": "1.2.0",
            "grid_template_areas": null,
            "object_position": null,
            "object_fit": null,
            "grid_auto_columns": null,
            "margin": null,
            "display": null,
            "left": null
          }
        },
        "52f8c50323384e8d83eaf1285751939a": {
          "model_module": "@jupyter-widgets/base",
          "model_name": "LayoutModel",
          "state": {
            "_view_name": "LayoutView",
            "grid_template_rows": null,
            "right": null,
            "justify_content": null,
            "_view_module": "@jupyter-widgets/base",
            "overflow": null,
            "_model_module_version": "1.2.0",
            "_view_count": null,
            "flex_flow": null,
            "width": null,
            "min_width": null,
            "border": null,
            "align_items": null,
            "bottom": null,
            "_model_module": "@jupyter-widgets/base",
            "top": null,
            "grid_column": null,
            "overflow_y": null,
            "overflow_x": null,
            "grid_auto_flow": null,
            "grid_area": null,
            "grid_template_columns": null,
            "flex": null,
            "_model_name": "LayoutModel",
            "justify_items": null,
            "grid_row": null,
            "max_height": null,
            "align_content": null,
            "visibility": null,
            "align_self": null,
            "height": null,
            "min_height": null,
            "padding": null,
            "grid_auto_rows": null,
            "grid_gap": null,
            "max_width": null,
            "order": null,
            "_view_module_version": "1.2.0",
            "grid_template_areas": null,
            "object_position": null,
            "object_fit": null,
            "grid_auto_columns": null,
            "margin": null,
            "display": null,
            "left": null
          }
        },
        "4b847364ccad4d3db003f71d0cac855e": {
          "model_module": "@jupyter-widgets/controls",
          "model_name": "VBoxModel",
          "state": {
            "_view_name": "VBoxView",
            "_dom_classes": [
              "widget-interact"
            ],
            "_model_name": "VBoxModel",
            "_view_module": "@jupyter-widgets/controls",
            "_model_module_version": "1.5.0",
            "_view_count": null,
            "_view_module_version": "1.5.0",
            "box_style": "",
            "layout": "IPY_MODEL_ab18978943ee49a393099c74fd5f76ea",
            "_model_module": "@jupyter-widgets/controls",
            "children": [
              "IPY_MODEL_659315eb36304a6390d62b6ce849d12a",
              "IPY_MODEL_99ef10ef5783458682b3bcb4c85dec62",
              "IPY_MODEL_ca9626b1290248d08a0991a778e304d2",
              "IPY_MODEL_ccb1bad35993490bb913e20605d66c57"
            ]
          }
        },
        "ab18978943ee49a393099c74fd5f76ea": {
          "model_module": "@jupyter-widgets/base",
          "model_name": "LayoutModel",
          "state": {
            "_view_name": "LayoutView",
            "grid_template_rows": null,
            "right": null,
            "justify_content": null,
            "_view_module": "@jupyter-widgets/base",
            "overflow": null,
            "_model_module_version": "1.2.0",
            "_view_count": null,
            "flex_flow": null,
            "width": null,
            "min_width": null,
            "border": null,
            "align_items": null,
            "bottom": null,
            "_model_module": "@jupyter-widgets/base",
            "top": null,
            "grid_column": null,
            "overflow_y": null,
            "overflow_x": null,
            "grid_auto_flow": null,
            "grid_area": null,
            "grid_template_columns": null,
            "flex": null,
            "_model_name": "LayoutModel",
            "justify_items": null,
            "grid_row": null,
            "max_height": null,
            "align_content": null,
            "visibility": null,
            "align_self": null,
            "height": null,
            "min_height": null,
            "padding": null,
            "grid_auto_rows": null,
            "grid_gap": null,
            "max_width": null,
            "order": null,
            "_view_module_version": "1.2.0",
            "grid_template_areas": null,
            "object_position": null,
            "object_fit": null,
            "grid_auto_columns": null,
            "margin": null,
            "display": null,
            "left": null
          }
        },
        "659315eb36304a6390d62b6ce849d12a": {
          "model_module": "@jupyter-widgets/controls",
          "model_name": "IntSliderModel",
          "state": {
            "_view_name": "IntSliderView",
            "style": "IPY_MODEL_091088e624934baba71cbfa977007978",
            "_dom_classes": [],
            "description": "x_",
            "step": 1,
            "_model_name": "IntSliderModel",
            "orientation": "horizontal",
            "max": 200,
            "_view_module": "@jupyter-widgets/controls",
            "_model_module_version": "1.5.0",
            "value": 168,
            "_view_count": null,
            "disabled": false,
            "_view_module_version": "1.5.0",
            "min": 150,
            "continuous_update": true,
            "readout_format": "d",
            "description_tooltip": null,
            "readout": true,
            "_model_module": "@jupyter-widgets/controls",
            "layout": "IPY_MODEL_d01dc6653ae44e4ea8e0de4eaaef3445"
          }
        },
        "99ef10ef5783458682b3bcb4c85dec62": {
          "model_module": "@jupyter-widgets/controls",
          "model_name": "IntSliderModel",
          "state": {
            "_view_name": "IntSliderView",
            "style": "IPY_MODEL_4964f3c4b2d8442b8bdb47cbbef95280",
            "_dom_classes": [],
            "description": "a1",
            "step": 1,
            "_model_name": "IntSliderModel",
            "orientation": "horizontal",
            "max": 200,
            "_view_module": "@jupyter-widgets/controls",
            "_model_module_version": "1.5.0",
            "value": 176,
            "_view_count": null,
            "disabled": false,
            "_view_module_version": "1.5.0",
            "min": 150,
            "continuous_update": true,
            "readout_format": "d",
            "description_tooltip": null,
            "readout": true,
            "_model_module": "@jupyter-widgets/controls",
            "layout": "IPY_MODEL_518ef970711f459e8684f3df0eba23ad"
          }
        },
        "ca9626b1290248d08a0991a778e304d2": {
          "model_module": "@jupyter-widgets/controls",
          "model_name": "IntSliderModel",
          "state": {
            "_view_name": "IntSliderView",
            "style": "IPY_MODEL_b63c381f76474a6cbc378e5bcb4fb27d",
            "_dom_classes": [],
            "description": "a2",
            "step": 1,
            "_model_name": "IntSliderModel",
            "orientation": "horizontal",
            "max": 200,
            "_view_module": "@jupyter-widgets/controls",
            "_model_module_version": "1.5.0",
            "value": 186,
            "_view_count": null,
            "disabled": false,
            "_view_module_version": "1.5.0",
            "min": 185,
            "continuous_update": true,
            "readout_format": "d",
            "description_tooltip": null,
            "readout": true,
            "_model_module": "@jupyter-widgets/controls",
            "layout": "IPY_MODEL_175246ad7ef74f88b1898381e21176a4"
          }
        },
        "ccb1bad35993490bb913e20605d66c57": {
          "model_module": "@jupyter-widgets/output",
          "model_name": "OutputModel",
          "state": {
            "_view_name": "OutputView",
            "msg_id": "",
            "_dom_classes": [],
            "_model_name": "OutputModel",
            "outputs": [
              {
                "output_type": "stream",
                "metadata": {
                  "tags": []
                },
                "text": "Magassag['alacsony'](3) : \t0.20\nMagassag['közepes'](3) : \t0.80\nMagassag['magas'](3) : \t0.00\n",
                "stream": "stdout"
              },
              {
                "output_type": "display_data",
                "metadata": {
                  "tags": [],
                  "needs_background": "light"
                },
                "image/png": "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\n",
                "text/plain": "<Figure size 1440x432 with 1 Axes>"
              }
            ],
            "_view_module": "@jupyter-widgets/output",
            "_model_module_version": "1.0.0",
            "_view_count": null,
            "_view_module_version": "1.0.0",
            "layout": "IPY_MODEL_12e707d2167147629bb86c8e798ff1b1",
            "_model_module": "@jupyter-widgets/output"
          }
        },
        "091088e624934baba71cbfa977007978": {
          "model_module": "@jupyter-widgets/controls",
          "model_name": "SliderStyleModel",
          "state": {
            "_view_name": "StyleView",
            "handle_color": null,
            "_model_name": "SliderStyleModel",
            "description_width": "",
            "_view_module": "@jupyter-widgets/base",
            "_model_module_version": "1.5.0",
            "_view_count": null,
            "_view_module_version": "1.2.0",
            "_model_module": "@jupyter-widgets/controls"
          }
        },
        "d01dc6653ae44e4ea8e0de4eaaef3445": {
          "model_module": "@jupyter-widgets/base",
          "model_name": "LayoutModel",
          "state": {
            "_view_name": "LayoutView",
            "grid_template_rows": null,
            "right": null,
            "justify_content": null,
            "_view_module": "@jupyter-widgets/base",
            "overflow": null,
            "_model_module_version": "1.2.0",
            "_view_count": null,
            "flex_flow": null,
            "width": null,
            "min_width": null,
            "border": null,
            "align_items": null,
            "bottom": null,
            "_model_module": "@jupyter-widgets/base",
            "top": null,
            "grid_column": null,
            "overflow_y": null,
            "overflow_x": null,
            "grid_auto_flow": null,
            "grid_area": null,
            "grid_template_columns": null,
            "flex": null,
            "_model_name": "LayoutModel",
            "justify_items": null,
            "grid_row": null,
            "max_height": null,
            "align_content": null,
            "visibility": null,
            "align_self": null,
            "height": null,
            "min_height": null,
            "padding": null,
            "grid_auto_rows": null,
            "grid_gap": null,
            "max_width": null,
            "order": null,
            "_view_module_version": "1.2.0",
            "grid_template_areas": null,
            "object_position": null,
            "object_fit": null,
            "grid_auto_columns": null,
            "margin": null,
            "display": null,
            "left": null
          }
        },
        "4964f3c4b2d8442b8bdb47cbbef95280": {
          "model_module": "@jupyter-widgets/controls",
          "model_name": "SliderStyleModel",
          "state": {
            "_view_name": "StyleView",
            "handle_color": null,
            "_model_name": "SliderStyleModel",
            "description_width": "",
            "_view_module": "@jupyter-widgets/base",
            "_model_module_version": "1.5.0",
            "_view_count": null,
            "_view_module_version": "1.2.0",
            "_model_module": "@jupyter-widgets/controls"
          }
        },
        "518ef970711f459e8684f3df0eba23ad": {
          "model_module": "@jupyter-widgets/base",
          "model_name": "LayoutModel",
          "state": {
            "_view_name": "LayoutView",
            "grid_template_rows": null,
            "right": null,
            "justify_content": null,
            "_view_module": "@jupyter-widgets/base",
            "overflow": null,
            "_model_module_version": "1.2.0",
            "_view_count": null,
            "flex_flow": null,
            "width": null,
            "min_width": null,
            "border": null,
            "align_items": null,
            "bottom": null,
            "_model_module": "@jupyter-widgets/base",
            "top": null,
            "grid_column": null,
            "overflow_y": null,
            "overflow_x": null,
            "grid_auto_flow": null,
            "grid_area": null,
            "grid_template_columns": null,
            "flex": null,
            "_model_name": "LayoutModel",
            "justify_items": null,
            "grid_row": null,
            "max_height": null,
            "align_content": null,
            "visibility": null,
            "align_self": null,
            "height": null,
            "min_height": null,
            "padding": null,
            "grid_auto_rows": null,
            "grid_gap": null,
            "max_width": null,
            "order": null,
            "_view_module_version": "1.2.0",
            "grid_template_areas": null,
            "object_position": null,
            "object_fit": null,
            "grid_auto_columns": null,
            "margin": null,
            "display": null,
            "left": null
          }
        },
        "b63c381f76474a6cbc378e5bcb4fb27d": {
          "model_module": "@jupyter-widgets/controls",
          "model_name": "SliderStyleModel",
          "state": {
            "_view_name": "StyleView",
            "handle_color": null,
            "_model_name": "SliderStyleModel",
            "description_width": "",
            "_view_module": "@jupyter-widgets/base",
            "_model_module_version": "1.5.0",
            "_view_count": null,
            "_view_module_version": "1.2.0",
            "_model_module": "@jupyter-widgets/controls"
          }
        },
        "175246ad7ef74f88b1898381e21176a4": {
          "model_module": "@jupyter-widgets/base",
          "model_name": "LayoutModel",
          "state": {
            "_view_name": "LayoutView",
            "grid_template_rows": null,
            "right": null,
            "justify_content": null,
            "_view_module": "@jupyter-widgets/base",
            "overflow": null,
            "_model_module_version": "1.2.0",
            "_view_count": null,
            "flex_flow": null,
            "width": null,
            "min_width": null,
            "border": null,
            "align_items": null,
            "bottom": null,
            "_model_module": "@jupyter-widgets/base",
            "top": null,
            "grid_column": null,
            "overflow_y": null,
            "overflow_x": null,
            "grid_auto_flow": null,
            "grid_area": null,
            "grid_template_columns": null,
            "flex": null,
            "_model_name": "LayoutModel",
            "justify_items": null,
            "grid_row": null,
            "max_height": null,
            "align_content": null,
            "visibility": null,
            "align_self": null,
            "height": null,
            "min_height": null,
            "padding": null,
            "grid_auto_rows": null,
            "grid_gap": null,
            "max_width": null,
            "order": null,
            "_view_module_version": "1.2.0",
            "grid_template_areas": null,
            "object_position": null,
            "object_fit": null,
            "grid_auto_columns": null,
            "margin": null,
            "display": null,
            "left": null
          }
        },
        "12e707d2167147629bb86c8e798ff1b1": {
          "model_module": "@jupyter-widgets/base",
          "model_name": "LayoutModel",
          "state": {
            "_view_name": "LayoutView",
            "grid_template_rows": null,
            "right": null,
            "justify_content": null,
            "_view_module": "@jupyter-widgets/base",
            "overflow": null,
            "_model_module_version": "1.2.0",
            "_view_count": null,
            "flex_flow": null,
            "width": null,
            "min_width": null,
            "border": null,
            "align_items": null,
            "bottom": null,
            "_model_module": "@jupyter-widgets/base",
            "top": null,
            "grid_column": null,
            "overflow_y": null,
            "overflow_x": null,
            "grid_auto_flow": null,
            "grid_area": null,
            "grid_template_columns": null,
            "flex": null,
            "_model_name": "LayoutModel",
            "justify_items": null,
            "grid_row": null,
            "max_height": null,
            "align_content": null,
            "visibility": null,
            "align_self": null,
            "height": null,
            "min_height": null,
            "padding": null,
            "grid_auto_rows": null,
            "grid_gap": null,
            "max_width": null,
            "order": null,
            "_view_module_version": "1.2.0",
            "grid_template_areas": null,
            "object_position": null,
            "object_fit": null,
            "grid_auto_columns": null,
            "margin": null,
            "display": null,
            "left": null
          }
        },
        "3b81b3138c0046368dd5fc3a539e0990": {
          "model_module": "@jupyter-widgets/controls",
          "model_name": "HBoxModel",
          "state": {
            "_view_name": "HBoxView",
            "_dom_classes": [],
            "_model_name": "HBoxModel",
            "_view_module": "@jupyter-widgets/controls",
            "_model_module_version": "1.5.0",
            "_view_count": null,
            "_view_module_version": "1.5.0",
            "box_style": "",
            "layout": "IPY_MODEL_65dcb4fcb3f64637a15bcf91d807cfe2",
            "_model_module": "@jupyter-widgets/controls",
            "children": [
              "IPY_MODEL_a11fd844507043b98ea7c2d0a7240aa4",
              "IPY_MODEL_b7634ec03f014a0eb27972cd8b7d03e1",
              "IPY_MODEL_613a2e34714a4a7683352ec9409e0de9",
              "IPY_MODEL_2535c92dfe6a458fa9279b90eca0e2e5"
            ]
          }
        },
        "65dcb4fcb3f64637a15bcf91d807cfe2": {
          "model_module": "@jupyter-widgets/base",
          "model_name": "LayoutModel",
          "state": {
            "_view_name": "LayoutView",
            "grid_template_rows": null,
            "right": null,
            "justify_content": null,
            "_view_module": "@jupyter-widgets/base",
            "overflow": null,
            "_model_module_version": "1.2.0",
            "_view_count": null,
            "flex_flow": null,
            "width": null,
            "min_width": null,
            "border": null,
            "align_items": null,
            "bottom": null,
            "_model_module": "@jupyter-widgets/base",
            "top": null,
            "grid_column": null,
            "overflow_y": null,
            "overflow_x": null,
            "grid_auto_flow": null,
            "grid_area": null,
            "grid_template_columns": null,
            "flex": null,
            "_model_name": "LayoutModel",
            "justify_items": null,
            "grid_row": null,
            "max_height": null,
            "align_content": null,
            "visibility": null,
            "align_self": null,
            "height": null,
            "min_height": null,
            "padding": null,
            "grid_auto_rows": null,
            "grid_gap": null,
            "max_width": null,
            "order": null,
            "_view_module_version": "1.2.0",
            "grid_template_areas": null,
            "object_position": null,
            "object_fit": null,
            "grid_auto_columns": null,
            "margin": null,
            "display": null,
            "left": null
          }
        },
        "a11fd844507043b98ea7c2d0a7240aa4": {
          "model_module": "@jupyter-widgets/controls",
          "model_name": "IntSliderModel",
          "state": {
            "_view_name": "IntSliderView",
            "style": "IPY_MODEL_b8f1b7efeca345388fe89dd10ce24e26",
            "_dom_classes": [],
            "description": "",
            "step": 1,
            "_model_name": "IntSliderModel",
            "orientation": "horizontal",
            "max": 200,
            "_view_module": "@jupyter-widgets/controls",
            "_model_module_version": "1.5.0",
            "value": 166,
            "_view_count": null,
            "disabled": false,
            "_view_module_version": "1.5.0",
            "min": 150,
            "continuous_update": true,
            "readout_format": "d",
            "description_tooltip": null,
            "readout": true,
            "_model_module": "@jupyter-widgets/controls",
            "layout": "IPY_MODEL_d3e49881ed8140eaaf4faf88cb1f8524"
          }
        },
        "b7634ec03f014a0eb27972cd8b7d03e1": {
          "model_module": "@jupyter-widgets/controls",
          "model_name": "IntSliderModel",
          "state": {
            "_view_name": "IntSliderView",
            "style": "IPY_MODEL_354368ebe7184ba6a7f8f27351139158",
            "_dom_classes": [],
            "description": "",
            "step": 1,
            "_model_name": "IntSliderModel",
            "orientation": "horizontal",
            "max": 100,
            "_view_module": "@jupyter-widgets/controls",
            "_model_module_version": "1.5.0",
            "value": 88,
            "_view_count": null,
            "disabled": false,
            "_view_module_version": "1.5.0",
            "min": 50,
            "continuous_update": true,
            "readout_format": "d",
            "description_tooltip": null,
            "readout": true,
            "_model_module": "@jupyter-widgets/controls",
            "layout": "IPY_MODEL_1e065bed07534867b2fae840bb561f36"
          }
        },
        "613a2e34714a4a7683352ec9409e0de9": {
          "model_module": "@jupyter-widgets/controls",
          "model_name": "IntSliderModel",
          "state": {
            "_view_name": "IntSliderView",
            "style": "IPY_MODEL_0bdbd1a9cac045c490133ae97f7dc785",
            "_dom_classes": [],
            "description": "",
            "step": 1,
            "_model_name": "IntSliderModel",
            "orientation": "horizontal",
            "max": 15,
            "_view_module": "@jupyter-widgets/controls",
            "_model_module_version": "1.5.0",
            "value": 11,
            "_view_count": null,
            "disabled": false,
            "_view_module_version": "1.5.0",
            "min": 8,
            "continuous_update": true,
            "readout_format": "d",
            "description_tooltip": null,
            "readout": true,
            "_model_module": "@jupyter-widgets/controls",
            "layout": "IPY_MODEL_b87a74b1b489446d8781e9a5878f6b7a"
          }
        },
        "2535c92dfe6a458fa9279b90eca0e2e5": {
          "model_module": "@jupyter-widgets/controls",
          "model_name": "IntSliderModel",
          "state": {
            "_view_name": "IntSliderView",
            "style": "IPY_MODEL_7eb0b8faf94643fbba8777b861665d89",
            "_dom_classes": [],
            "description": "",
            "step": 1,
            "_model_name": "IntSliderModel",
            "orientation": "horizontal",
            "max": 10,
            "_view_module": "@jupyter-widgets/controls",
            "_model_module_version": "1.5.0",
            "value": 3,
            "_view_count": null,
            "disabled": false,
            "_view_module_version": "1.5.0",
            "min": 2,
            "continuous_update": true,
            "readout_format": "d",
            "description_tooltip": null,
            "readout": true,
            "_model_module": "@jupyter-widgets/controls",
            "layout": "IPY_MODEL_47cf595370174b75b06b9f6515bee7f7"
          }
        },
        "b8f1b7efeca345388fe89dd10ce24e26": {
          "model_module": "@jupyter-widgets/controls",
          "model_name": "SliderStyleModel",
          "state": {
            "_view_name": "StyleView",
            "handle_color": null,
            "_model_name": "SliderStyleModel",
            "description_width": "",
            "_view_module": "@jupyter-widgets/base",
            "_model_module_version": "1.5.0",
            "_view_count": null,
            "_view_module_version": "1.2.0",
            "_model_module": "@jupyter-widgets/controls"
          }
        },
        "d3e49881ed8140eaaf4faf88cb1f8524": {
          "model_module": "@jupyter-widgets/base",
          "model_name": "LayoutModel",
          "state": {
            "_view_name": "LayoutView",
            "grid_template_rows": null,
            "right": null,
            "justify_content": null,
            "_view_module": "@jupyter-widgets/base",
            "overflow": null,
            "_model_module_version": "1.2.0",
            "_view_count": null,
            "flex_flow": null,
            "width": null,
            "min_width": null,
            "border": null,
            "align_items": null,
            "bottom": null,
            "_model_module": "@jupyter-widgets/base",
            "top": null,
            "grid_column": null,
            "overflow_y": null,
            "overflow_x": null,
            "grid_auto_flow": null,
            "grid_area": null,
            "grid_template_columns": null,
            "flex": null,
            "_model_name": "LayoutModel",
            "justify_items": null,
            "grid_row": null,
            "max_height": null,
            "align_content": null,
            "visibility": null,
            "align_self": null,
            "height": null,
            "min_height": null,
            "padding": null,
            "grid_auto_rows": null,
            "grid_gap": null,
            "max_width": null,
            "order": null,
            "_view_module_version": "1.2.0",
            "grid_template_areas": null,
            "object_position": null,
            "object_fit": null,
            "grid_auto_columns": null,
            "margin": null,
            "display": null,
            "left": null
          }
        },
        "354368ebe7184ba6a7f8f27351139158": {
          "model_module": "@jupyter-widgets/controls",
          "model_name": "SliderStyleModel",
          "state": {
            "_view_name": "StyleView",
            "handle_color": null,
            "_model_name": "SliderStyleModel",
            "description_width": "",
            "_view_module": "@jupyter-widgets/base",
            "_model_module_version": "1.5.0",
            "_view_count": null,
            "_view_module_version": "1.2.0",
            "_model_module": "@jupyter-widgets/controls"
          }
        },
        "1e065bed07534867b2fae840bb561f36": {
          "model_module": "@jupyter-widgets/base",
          "model_name": "LayoutModel",
          "state": {
            "_view_name": "LayoutView",
            "grid_template_rows": null,
            "right": null,
            "justify_content": null,
            "_view_module": "@jupyter-widgets/base",
            "overflow": null,
            "_model_module_version": "1.2.0",
            "_view_count": null,
            "flex_flow": null,
            "width": null,
            "min_width": null,
            "border": null,
            "align_items": null,
            "bottom": null,
            "_model_module": "@jupyter-widgets/base",
            "top": null,
            "grid_column": null,
            "overflow_y": null,
            "overflow_x": null,
            "grid_auto_flow": null,
            "grid_area": null,
            "grid_template_columns": null,
            "flex": null,
            "_model_name": "LayoutModel",
            "justify_items": null,
            "grid_row": null,
            "max_height": null,
            "align_content": null,
            "visibility": null,
            "align_self": null,
            "height": null,
            "min_height": null,
            "padding": null,
            "grid_auto_rows": null,
            "grid_gap": null,
            "max_width": null,
            "order": null,
            "_view_module_version": "1.2.0",
            "grid_template_areas": null,
            "object_position": null,
            "object_fit": null,
            "grid_auto_columns": null,
            "margin": null,
            "display": null,
            "left": null
          }
        },
        "0bdbd1a9cac045c490133ae97f7dc785": {
          "model_module": "@jupyter-widgets/controls",
          "model_name": "SliderStyleModel",
          "state": {
            "_view_name": "StyleView",
            "handle_color": null,
            "_model_name": "SliderStyleModel",
            "description_width": "",
            "_view_module": "@jupyter-widgets/base",
            "_model_module_version": "1.5.0",
            "_view_count": null,
            "_view_module_version": "1.2.0",
            "_model_module": "@jupyter-widgets/controls"
          }
        },
        "b87a74b1b489446d8781e9a5878f6b7a": {
          "model_module": "@jupyter-widgets/base",
          "model_name": "LayoutModel",
          "state": {
            "_view_name": "LayoutView",
            "grid_template_rows": null,
            "right": null,
            "justify_content": null,
            "_view_module": "@jupyter-widgets/base",
            "overflow": null,
            "_model_module_version": "1.2.0",
            "_view_count": null,
            "flex_flow": null,
            "width": null,
            "min_width": null,
            "border": null,
            "align_items": null,
            "bottom": null,
            "_model_module": "@jupyter-widgets/base",
            "top": null,
            "grid_column": null,
            "overflow_y": null,
            "overflow_x": null,
            "grid_auto_flow": null,
            "grid_area": null,
            "grid_template_columns": null,
            "flex": null,
            "_model_name": "LayoutModel",
            "justify_items": null,
            "grid_row": null,
            "max_height": null,
            "align_content": null,
            "visibility": null,
            "align_self": null,
            "height": null,
            "min_height": null,
            "padding": null,
            "grid_auto_rows": null,
            "grid_gap": null,
            "max_width": null,
            "order": null,
            "_view_module_version": "1.2.0",
            "grid_template_areas": null,
            "object_position": null,
            "object_fit": null,
            "grid_auto_columns": null,
            "margin": null,
            "display": null,
            "left": null
          }
        },
        "7eb0b8faf94643fbba8777b861665d89": {
          "model_module": "@jupyter-widgets/controls",
          "model_name": "SliderStyleModel",
          "state": {
            "_view_name": "StyleView",
            "handle_color": null,
            "_model_name": "SliderStyleModel",
            "description_width": "",
            "_view_module": "@jupyter-widgets/base",
            "_model_module_version": "1.5.0",
            "_view_count": null,
            "_view_module_version": "1.2.0",
            "_model_module": "@jupyter-widgets/controls"
          }
        },
        "47cf595370174b75b06b9f6515bee7f7": {
          "model_module": "@jupyter-widgets/base",
          "model_name": "LayoutModel",
          "state": {
            "_view_name": "LayoutView",
            "grid_template_rows": null,
            "right": null,
            "justify_content": null,
            "_view_module": "@jupyter-widgets/base",
            "overflow": null,
            "_model_module_version": "1.2.0",
            "_view_count": null,
            "flex_flow": null,
            "width": null,
            "min_width": null,
            "border": null,
            "align_items": null,
            "bottom": null,
            "_model_module": "@jupyter-widgets/base",
            "top": null,
            "grid_column": null,
            "overflow_y": null,
            "overflow_x": null,
            "grid_auto_flow": null,
            "grid_area": null,
            "grid_template_columns": null,
            "flex": null,
            "_model_name": "LayoutModel",
            "justify_items": null,
            "grid_row": null,
            "max_height": null,
            "align_content": null,
            "visibility": null,
            "align_self": null,
            "height": null,
            "min_height": null,
            "padding": null,
            "grid_auto_rows": null,
            "grid_gap": null,
            "max_width": null,
            "order": null,
            "_view_module_version": "1.2.0",
            "grid_template_areas": null,
            "object_position": null,
            "object_fit": null,
            "grid_auto_columns": null,
            "margin": null,
            "display": null,
            "left": null
          }
        },
        "89231b131e7e498b8a5a50c9416c8903": {
          "model_module": "@jupyter-widgets/output",
          "model_name": "OutputModel",
          "state": {
            "_view_name": "OutputView",
            "msg_id": "",
            "_dom_classes": [],
            "_model_name": "OutputModel",
            "outputs": [
              {
                "output_type": "display_data",
                "metadata": {
                  "tags": [],
                  "needs_background": "light"
                },
                "image/png": "iVBORw0KGgoAAAANSUhEUgAAAosAAADCCAYAAAAhIoiaAAAABHNCSVQICAgIfAhkiAAAAAlwSFlzAAALEgAACxIB0t1+/AAAADh0RVh0U29mdHdhcmUAbWF0cGxvdGxpYiB2ZXJzaW9uMy4yLjIsIGh0dHA6Ly9tYXRwbG90bGliLm9yZy+WH4yJAAAgAElEQVR4nOzdeXyUVZrw/d+pquwJWclSJBBCIJDEBEVQEBVkSzBBJTajz9P9vt09r/bTOs8zjna349qtrWgvOky3y2Pb3eLojOJIlDUViYIgKIjIUgmrpAhJ2EIWErJXnfePmyAhe1JVdyp1vp9PPpq6l3MlcB9O1XXOdYSUEkVRFEVRFEXpjkHvABRFURRFUZThSw0WFUVRFEVRlB6pwaKiKIqiKIrSIzVYVBRFURRFUXqkBouKoiiKoihKj9RgUVEURVEURemRSa+Go6KiZGJiol7NK4oyQn3zzTdVUsrResfhKqrvVBTFFXrrO3UbLCYmJrJ79269mlcUZYQSQpzQOwZXUn2noiiu0FvfqdLQiqIoiqIoSo/UYFFRFEVRFEXpUZ+DRSHE34UQZ4UQ1h6OCyHEn4QQx4QQ+4UQ1zk/TEVRFM+i+k5FUUaK/nyyuBLI6uV4NjDx0tf9wOtDD0tRFMXjrUT1nYqijAB9LnCRUm4VQiT2csodwH9IKSXwlRAiTAgRJ6U85aQYAfjVh/uQ0pl31E+gr5FfZk0m2E+39UXOUfktfP1XGCF/LqTdCRMX6B3FkNgddl7d+yrnms7pHcqgPDbjMQJ9AvUOwymGQ99ZXtPIvxcdddbtdDcmPIB/njcRIYTeoQzNwXVw2KJ3FM4hBNz4AMSk6h3JkNS11PHnb/9Mi71F71AGLNwvnIevf9ilbThjtDIGOHnF9+WXXuvS4Qkh7kd7B83YsWMH1Mj2Y+eRI2C0KIFTdc1Mig3hf94wTu9whuaz56F0KwSNgColTTVQtgOS92id3zBkMmmPa3t7e4/nfHPmG9488CaR/pH4GH3cFZrTtMuef7YRyOV958UWO9uPVQ0tymGipd3B+YutzJscwzXxoW5tuz/PXr857LDhEWhtBH/3/hwu0XAGWi/CD97SO5Ih+ejoR6w6vIqYwBiPezMSGxjr8jbc+tGWlPIvwF8Arr/++gGN/Lb/620uicndpJTMe/lz1u2r9OzBYmM1HN8MMx+EBc/qHc3QffM2rPs/cGovmK/VO5pBK7AVEGAKoCBP+68yMgy270yJDWHHY/NcFpc71Ta2cv1zRazbX+n2waJTndiuDbDufgvSl+odzdCt/xfY9742YPQN0juaQSuwFZAWmcb7Oe/rHcqw5IzV0BVAwhXfx196TemGEILcDDM7S6s5e6FZ73AG7+BacLRDep7ekTjHlFwwmMCar3ckg9bmaKPoRBFzEuaogaJnUH3nAIQF+nLLpNFs2H8Kh8ODs0zWfPAJgkmL9I7EOdLzoK0RjnhuWr3sQhkl50vIHp+tdyjDljMGi2uB/+fSyr4bgTpnz1ccaXIz45ASNhzw4F+TdTVEJkNsht6ROEdgBEyYB8UfgcOhdzSDsvPUTmpbaslOVB2eh1B95wDlZsZRUdvEtydr9A5lcOxtULIGUrI9+lO4TsbOhOBYj36jbbFpA91FiSNkAO8C/Smd8x7wJZAihCgXQvyjEOJ/CSH+16VTNgLHgWPAm8ADLot2hEiODmFybAjr93vovwv1Z8D2BaQtHbbz+wYlfSnUnYTyr/WOpFs+Pj74+PQ8D7GgtIAQnxBuGnOTG6NSeqL6TuebPyUGX5OBdfvc23f29ez1W+nn0FQ9MtLPHQxGSLsLjm6C5jq9oxkUi83CtdHXEhvk+rl/nqo/q6Hv7eO4BB50WkReIjfTzB8KD1NR28SYMA9LGZasAekYOSnoDimLwegHxfkw9ga9o+miqampx2Ot9lY+K/uMeWPn4Wv0dWNUSk9U3+l8If4+3JYSzYYDp3gqJxWjwT1vVnt79gbEmg9+oZA83zn3Gy7S82Dn63BoI0zt9a/9sHOs5hhHa47y2IzH9A5lWFM7uOgkN8MMwIb9lTpHMgjF+RCdCtGT9Y7EufxHaaVzij/SVix6kC8qvqChrYGs8b2V9VMUz5ebaeZcfQs7S8/rHcrAtLfAwfUw+XYw+ekdjXPFXw+hY7XpSR7GYrNgEAYWJi7UO5RhTQ0WdTI2MpDM+FC3p1OGrK4cyr4cWWmUK6XnaSsVT+zQO5IuxowZw5gxY7o9ZrFZCPML44a44feJqKI4022Town0Nbq17+zt2eu3Y59CS93Iy8iANh0p/S6tQkZjtd7R9JuUkkJbIdNjphMVEKV3OMOaGizqKCfDzIGKOmxVF/UOpf+KP9L+mzZCB4uTFoFP4LB8h3zmzBnOnDnT5fXGtka2nNzC/HHz8TF4Xm1FRRmIAF8j86fEYLGeos3unsVoPT17A2JdDQERkHSrc4IabtKWahUyDq7VO5J+O1R9CNsFm8rI9IMaLOro9ow4ANZ7Uiramg9xUyFygt6RuIZvkLZSsWSNtnLRA2yt2EpTe5NaBa14jdxMMzWNbZ5TcLy1EQ4XQOoS8MBi+f0SlwkREzxqVbTFZsEkTMwfO8LmkLqAGizqyBwWwPTEcM9JRVcfh8o9IzONcqX0PG3FYunnekfSL4WlhUQFRDEtZpreoSiKW9wyKYoQf5Pn9J1HC6Ht4sjuO4XQfj7bNmg4q3c0fZJSYim1cKP5RsL8w/QOZ9hTg0Wd5WSYOXymniNn6vUOpW+XU9B36RuHqyXPB79RHvEOuaG1ga3lW1k4biFGg1HvcBTFLfxMRhalxfJJ8Wla2j1gMZp1NQTHwLgRXtYqfalWKaNkjd6R9Gl/1X4qL1aqQtz9pAaLOsu+JhaDgPX7PCAVbc2HhBsgLKHvcz2ZyQ8m52grF9uHz6by/v7++Pv7d3pt88nNtDpaVYeneJ3cTDP1Le18fvicy9vq7tnrt+YLWg3C1Du1moQjWfQUrVLGMJzzfTVLqQUfgw9zE+bqHYpHUINFnUWH+HNjUiTr959CK7s2TJ07DGesI3dhy9XSl2orF499qncklzU0NNDQ0NDpNYvNQmxQLBmjR8hOOorST7MmRBIe6OOWzQ26e/b67XABtDeP7BT0ldKWahUz6sr1jqRHDungE9sn3DzmZkJ8Q/QOxyOoweIwkJtp5njVRYorL+gdSs+s+YCAtDv1jsQ9kuZAQPiwfodc11LHjoodZCVmYRDqUVa8i4/RQPY1cWwqOUNja7ve4fSsOB9GxUP8dL0jcY+Osmod05aGoT1n9nC26axaBT0A6l+YYSArLRaTQQzf7f+k1Dq8xNkQ4iXbIRl9IPUO7VOB1ka9owFg9OjRjB49+vL3n5Z9SrtsJytRdXiKd8rJiKOpzc5nh1y7oOLqZ6/fGqu17ETanWDwkn9uIydoK6OH8Zxvi81CgCmAW+NHaBkjF/CSv73DW3iQL7MnRrFuX+XwTEWfsULVkZFbiLsnaUu1FYxHC/WOBICamhpqamouf19QWkBCSAKpkak6RqUo+rlhfCSjQ/xY7+JV0Vc/e/12aD042uCau50f1HCWnqdVzqgu1TuSLtod7Ww6sYlb428l0CdQ73A8hhosDhO5GWYqapv49mSt3qF0ZV0NwghT7tA7EvdKnA1B0cPyHXJVUxW7Tu8iKzELIdyzP66iDDdGg+D2a+L47PBZ6puHYV1Uaz6Ej9dq03qTjooZxcOv79x1ehfVzdUqIzNAarA4TCxIi8HXaHD5O+QBk1Lr8JLmQFCk3tG4l8GopY+OfqKtaBxGik4U4ZAONedG8Xq5mXG0tjvYVDLEHVacreGcVqs1PU+rQehNwsZC/Ixh+UbbUmohyCeI2fGz9Q7Fo6jB4jAxyt+HOSmjWb+/ErtjGKWiK/ZA7QnvWcl3tfQ8bSXj4QK9I+mkoLSACaETmBg2Ue9QFEVX1yaEMyYsYPjN+T64Rqs56G3Tdzqk52lTmM4d1juSy9rsbRSVFXFbwm34Gf30DsejqMHiMJKbaeZsfQtf24bRRuzW1WD0hcm36x2JPuJnaCsZh0E6JTg4mODgYE5fPM23Z78la7xKQSuKwSC4PSOOrUfOUdvY6pI2Op69AbHmw+jJWt1Bb5R2JyCG1aeLOyp3UN9arzIyg6AGi8PIvCnRBPgYh89e0Q6HVv4geT4EeOl2SAaD1ukd+xSaBjHB3Ylqa2upra3lE9snSKSac6Mol+RmmGl3SAqLT7vk/h3PXr9dqIQTO7wzBd0hJFab912cr01nGgYKbAWE+oUyM26m3qF4HDVYHEYCfU3MmxJNwYHTtNsdeocDJ7+C+krvKcTdk/Q8bUXjwfV6RwJAoa2QKRFTSAxN1DsURRkW0seMYlxk4PDZK7r4Y0CqvjN9qVZJ44xV70hobm9mc9lm5o+dj4/RR+9wPI4aLA4zORlmzl9s5cvj5/UORUtBmwIgxcu3kjNfC+GJuhfoDgsLIzIpkv1V+1mUuEjXWBRlOBFCkJthZsd3VZyrd/4WnWFhYYSFDSC7Yl0NsRkQlez0WDzKlDu0ShrDYHODbRXbaGxvVCnoQVKDxWFmTspogv1MrNN7r2h7u7YZ/KSF4DfAuTojjRDap4ulW7UVjjppaGjAlGYCUB2eolwlJzMOhwSL1fmfLg5ou78aG1Ts9t6FLVcKitQqaVj1T0UXlBYQ4R/B9THX6xqHp1KDxWHG38fIwrQYLNbTtLbrmIq2bYOL57x3FfTV0vNA2rUVjt2wWCykpKSQnJzMiy++2OV4WVkZc+fO5dprryUjI4ONGzdePvbCCy+QnJxMSkoKhYW9FwAfNWMUGaMzGBM8Zmg/j6KMMCkxIUyMDtY/Fd2xzZ23p6A7pOdpFTUq9ugWwsW2i2wt38rCcQsxGUy6xeHJ+jVYFEJkCSEOCyGOCSH+tZvjY4UQm4UQ3woh9gshFjs/VO+Rm2HmQnM7247q9ykWxfngGwwTF+oXw3ASnQpRKd2u7LPb7Tz44IMUFBRQUlLCe++9R0lJSadznnvuOZYtW8a3337L+++/zwMPPABASUkJ77//PsXFxVgsFh544AHsdnu3IfjG+OI/1l8tbPEgqu90HyEEORlmvj5Rzam6Jv0CseZr+0CHj9MvhuFk8u1aRQ0dK0psObmFFnsL2eO9fErVEPQ5WBRCGIFXgWwgFbhXCHF1LYAngQ+klNcC9wCvOTtQb3JTchRhgT76paLbW6FkLaQsBp8AfWIYbjpS0Sd2aCsdr7Br1y6Sk5NJSkrC19eXe+65hzVr1lx1ueDCBa2wd11dHWazGYA1a9Zwzz334Ofnx/jx40lOTmbXrl3dhjBqxiikQ7JwnBrAewLVd7pfTmYcUsIGvWouVh2F0/vVp4pXCgjTKmpY87UKGzqwlFqIDoxmarSX7aTjRP35ZHEGcExKeVxK2Qq8D1y975sERl36/1BgmNR+8Uy+JgNZabFsKjlDc1v3nzK51PHN0FyrUtBXS18KyEsrHb9XUVFBQkLC5e/j4+OpqKjodM5vfvMb3n33XeLj41m8eDF//vOf+30tgJSS8JnhtJW2ERMU48QfSnEh1Xe62YTRwaSZR7HOyYPF8PBwwsPD+z7Rmg+ISzUGlcvSlmqVNU5+5fam61rq+KLyC7ISszAINfNusPqTvB8DnLzi+3LghqvO+Q3wiRDifwNBwHynROfFcjPNvP/1ST47dJbF18S5t3FrPviHwoTb3NvucBc1EWKv0Vb2zXxgQJe+9957/PjHP+aRRx7hyy+/5Ec/+hFWa//LSRytPYopxkTQd0HMmTPn8utPPvkk8+fPZ+/evTz00ENdrlu+fDmzZs1ix44dPP74412Or1ixgqlTp1JUVMRzzz3X5fgbb7xBSkoK69at46WXXupy/J133iEhIYFVq1bx+uuvdzn+4YcfEhUVxcqVK1m5cmWX4xs3biQwMJDXXnuNDz74oMvxLVu2dHnNg6i+Uwc5GWZ+ZzlE2flGxkYGOuWe5871Y0qQlFrfMG4WjDI7pd0RIyVbq6zR8ftxo8/KPqPd0a6m7wyRs4bZ9wIrpZTxwGLgHSG6DuGFEPcLIXYLIXb36+HzYjcmRRIV7Of+At1tzXBoA0zOBZOve9v2BOl52krHmhOXXxozZgwnT34/JigvL2fMmM4LUP72t7+xbNkyAGbOnElzczNVVVX9uha0NIpRGPE9of5MRhjVdzpZTob25nr9ATf3nWdLoOqwWgXdHb9gmLRIq7Bhb3dr0xabhTHBY0iPSndruyOOlLLXL2AmUHjF948Bj111TjGQcMX3x4Ho3u47bdo0qfTuqY8PyJQnN8r65jb3NVqyVspfj5LyaJH72vQk1aXa72fbv11+qa2tTY4fP14eP35ctrS0yIyMDGm1WjtdlpWVJd966y0ppZQlJSUyLi5OOhwOabVaZUZGhmxubpbHjx+X48ePl+3t7Z2udTgcMuvDLDnh0QkyKCjI1T+hxwN2yz76NXd8qb5TP3e88oXMXrHVafcLCgrq+9krelbK34RLWX/Wae2OKMUfa33nd5vd1uT5pvMy8+1MueKbFW5r05P11nf255PFr4GJQojxQghftEnYa686pwyYByCEmAL4A+rt7xDlZpppbnPw6cEz7mvUuhoCI2H8re5r05OEJ8KY6zsVmTWZTLzyyissWrSIKVOmsGzZMtLS0nj66adZu1Z7VF566SXefPNNMjMzuffee1m5ciVCCNLS0li2bBmpqalkZWXx6quvYjQaOzVZcr6E8oZyar6qobm52Z0/rTI0qu/USW6mmZJTF/juXD9rI/ahubm592evIwU9/hYIHu2UNkeciQu1ChtuLNBddKIIu7SrFLQT9DlnUUrZLoT4J6AQMAJ/l1IWCyGeRRuFrgUeAd4UQvwL2oTtH18apSpDMG1sOLGj/Fm37xR3THVDXb3Wi3CkEDLvBaOqRdWj9KVQ+DhUHbu8Q8PixYtZvLhz1ZNnn3328v+npqayffv2bm/3xBNP8MQTT/TYXEFpASaDifo99U4IXnEX1Xfq5/Zr4nhuQwnr953in+dPdH2Dld9CTSnc/Ijr2/JUPgFahY2StbD4JbdMc7LYLIwPHc+k8Ekub2uk69ecRSnlRinlJCnlBCnl85dee/pSZ4eUskRKeZOUMlNKOVVK+Ykrg/YWBoMgJyOOz4+cpa6xzfUNHi6AtkY156YvaXcBwi11wxzSQeGJQm4y34SjcRjsF64MiOo79REb6s/0xAjW7a/ELWPv4nww+MCUHNe35cnS87RKG8e3uLyps41n2X16N1mJWQghXN7eSKfWkQ9zOZlm2uySwpLTrm/Mmg8hcTB2puvb8mSjzNrv6MCHLt/Cat+5fZy+eFpt76coA5SbaebY2QYOn3HxJ/IOB1g/guR5ENCP8jrebMJtWqUNN6SiN53YhESqFLSTqMHiMJcZH0pCRADrXV1ktrkOjm2C1DvBYOz7fG+XvlRb+Xi2pO9zh6CgtAA/ox9zE+YSExNDTIyqsago/ZGdHovRIJyyuUGvz17513ChXBXi7g+TL0zJ1SputLl2/nVBaQGTwieRFJbk0na8hRosDnNCCHIzzGw/VsX5hhbXNXRoA9hbVSHu/kq9E4Sh2+3/nMXusPOJ7RNuib+FIJ8gKioqui3YrShKV1HBfsyaEMn6/aeGnIru9dmzrgaTv1ZLUOlbeh601msfTrhIZUMl+87tU9v7OZEaLHqAnAwzdofEUuzCVLQ1H0LHQvz1rmtjJAkera18tK52WSp695ndnG8+r9IoijJIuRlmTpxv5EBFnWsacNih5GNtpa//qL7PVyDxFgiMcmkqutBWCMCixEUua8PbqMGiB5gSF8KE0UGu2yu6sVrb4i/9Lm0PZKV/0vO0FZCn9rrk9habhQBTADfH3wxAQEAAAQFqr25F6a9FabH4GMWQp/H0+Oyd2A4NZ9SiwIEwmiD1Dq3yRutFlzRRUFpAemQ6CSEJfZ+s9IsaLHoAIQQ5GWZ2llZz9oIL5nkcXAuOdpWCHqjJOWAwueQdcpujjU0nNjE3YS4BJu0fqba2Ntra3LAqXlFGiNBAH26ZOJr1+ypxOAafAejx2bOuBp8gmKg+wRqQ9KVa5Y3DBU6/9YkLJzhYfVAtCnQyNVj0ELmZcUgJGw64YKGLdTVEJkNshvPvPZIFRsCEedpKSIdzy9p8VfkVdS11KgWtKEOUm2mmsq6ZPWU1zr2xvU3bvi4lG3ydswe11xg7U6u8UfyR029tKbUAKgXtbGqw6CGSo0OYHBvi/FXR9WfA9oW2kk+loAcufam2ErL8a6fe1mKzEOITwk1jbnLqfRXF28xPjcHPZHB+33n8c2iqURmZwTAYtXq1Rz/RKnE4kcVm4bro64gNinXqfb2dGix6kNxMM9+cqKGitsl5Ny1ZA9KhOrzBSlkMRj+npqJb7C18VvYZ88bNw9fo+l0OFGUkC/YzcdvkaDYcOIV9CKnoLqyrwS9Uq6+oDFzaUq0Cx6ENTrvlsZpjHKs9plLQLqAGix4kN8MMwHpnLnQpzofoVIie7Lx7ehP/UTBpobYi0mF3yi2/qPiChraGLinosWPHMnbsWKe0oSjeJDfTzLn6FnaWnh/U9V2evfYWbZAz+XYw+TkpSi8Tf71WgcOJ5ccsNgsGYWDBuAVOu6eiUYNFDzI2MpDM+FDnpVPqyqHsS7WSb6jSlmorIk90v/fzQBWWFhLuF86MuBmdXj9+/DjHjx93ShuK4k3mpkQT6Gtk3b7B9Z1dnr1jRdBSpzIyQyGEVoHj+GatIscQSSmx2CxMj51OVECUEwJUrqQGix4mN9PMgYo6bFVOKDnQMblY7TwwNJMWaSsinfAOubGtkS3lW5g/bj4+Bh8nBKcoSoCvkQWpMRRYT9Fmd8JiNGs+BERA0q1Dv5c3S8/TKnEcXDvkWx2sPsiJCyfITlSFuF1BDRY9zOJr4gBYv98JqWhrPsRNhcgJQ7+XN/MNgpQsbf6nfWilbbZWbKWpvanbnQd8fX3x9VVzGBVlMHIyzNQ2trH9WNWAr+307LVehMMbIXUJGNUbuiGJzYCICU6Z822xWTAJE/PHzXdCYMrV1GDRw5jDApieGD7odMpl1cehco9KozhLeh40VWsrJIfAUmphdMBorou+rssxh8OBw8klehTFW9wyKYoQf9Og+s5Oz96RQq1GoOo7h04I7fdo+0KrzDFIUkoKSwuZaZ5JqF+oEwNUOqjBogfKzTRz+Ew9R87UD/4ml1PQdzknKG+XPF9bGVk8+FR0Q2sD28q3sTBxIUaD0YnBKYriZzKSlRbLJ8WnaW4bwmK04nwIjoFxqqyVU6TnaRU5StYM+hb7q/ZTebFS7QXtQmqw6IGy0+MwiCGuirbmQ8INEKa2Q3IKk5+2MvLgem2l5CBsPrmZVkerKsStKC6Sk2mmvqWdrUfODe4GzRfgyCeQeqdWK1AZuujJWkWOIaSiLaUWfA2+zE2Y68TAlCupwaIHGh3ix8wJkazbfwopB1E37NxhOGNVaRRnS8/TVkge+3RQlxeUFhAXFEfm6EwnB6YoCsCsCZFEBPmybrAVJQ4XgL1F9Z3Olr4UTn6lVegYILvDTqGtkJvjbybYN9gFwSmgBoseKzfDTGnVRYorLwz8Yms+CIP27lhxnqRbtRWSg3iHXNdSx5eVX5KVmIXoYSediRMnMnHixKFGqShey8doIDs9lqKSMzS2tvf7usvPnnU1hCZA/HQXRumFOipyDGL7vz1n93Cu6ZwqxO1iarDoobLSYzEZBOsGuipaSq3DG3cThMS4JjhvZfTRVkgeLoDWxgFdWnSiiHbZzqLxPe9nevDgQQ4ePDjUKBXFq+VkmGlqs/PZobP9vubgwYMc/GY7fPcZpN0JBvVPp1NFTtAqcwyi/Jil1EKAKYBbxtzigsCUDupvvIcKC/Tl5olRrN83wFT06QNw/qhKo7hKeh60XYSjhQO6rMBWwNiQsaRGpLooMEVRAGaMjyA6xI91A53zfWg9ONpU3+kq6XlahY7q/m880O5oZ9OJTcyJn0OgT6ALg1PUYNGD5WSYqaht4tuTtf2/qDgfhBGmLHFdYN5s3E3aSskBpKKrmqr4+vTXZI3vOQUNYDKZMJlMzohSUUYMi8VCSkoKycnJvPjii92e88EHH5CamkpaWho/+uH/ZPE1cWw+fI7/+9e/XU4xv/322z22YTKZKFrxAISP1z4BU5yvozLHAFLRu07toqalpteMjOIc/RosCiGyhBCHhRDHhBD/2sM5y4QQJUKIYiHEfzk3TKU7C9Ji8DUZ+v8OuSMFPWEuBEW6NjhvZTBqc0GPbtJWTvbDphObcEiHWgU9Aqm+07XsdjsPPvggBQUFlJSU8N5771FSUtLpnKNHj/LCCy+wfft2iouLWbFiBbmZZprq6/j1b55l586d7Nq1i2eeeYaamppu2xkdCHMTDdqnX728oVOGICxBq9AxgFR0ga2AYJ9gZo+Z7cLAFOjHYFEIYQReBbKBVOBeIUTqVedMBB4DbpJSpgEPuSBW5Sqj/H2YmzKaDftPYXf0IxVdsQdqy1QaxdXS86C9WZu72A+WUgvJYclMDFeLV0YS1Xe63q5du0hOTiYpKQlfX1/uuece1qzpXK/vzTff5MEHHyQ8PByA6OhorhsbRsAZK2HJ04iIiCA8PJwFCxZgsVi6bSdvigmjQai+09XS87RKHecO93lqq72VT8s+5baxt+Fn9HNDcN6tPzmtGcAxKeVxACHE+8AdwJVv3+4DXpVS1gBIKfs/c1gZkpwMM4XFZ/jaVs2NSX18WmhdDUZfrR6g4jrx02FUvJbyz/yHXk89ffE0e87u4cGpD7opOMWNVN/pYhUVFSQkfF8rNj4+np07d3Y658iRIwDcdNNN2O12fvOb35CVlUVyUAs7ZTC1ja2EBfoSHx9PRUVFt+0sSzVRfNbOg//wQKfXN27cSGBgIK+99hoffPBBl+u2bNkCwB//+EfWr1/f6VhAQAAFBdobyt/+9rd8+mnnkluRkZGsXq1NZ3nsscf48ssvOx2Pj4/n3XffBeChhx5i7969nY5PmjSJv/zlLwDcf//9l38PHaZOncqKFSsA+OEPf0rOfe8AACAASURBVEh5eeeyNTNnzuSFF14AIC8vj/Pnz3c6Pm/ePJ566ikAsrOzaWpq6nQ8JyeHX/ziFwDMmTOHqy1btowHHniAxsZGFi9eDECEbxsfzoT/+OUSmPMYP/7xj6mqquLuu+/ucv28++dR31bPtOBp3d7/kUceITc3l8OHD/Ozn/2sy/Enn3yS+fPns3fvXh56qOt7tOXLlzNr1ix27NjB448/3uX4ihUrmDp1KkVFRTz33HNdjr/xxhukpKSwbt06XnrppS7H33nnHRISEli1ahWvv/56l+MffvghUVFRrFy5kpUrV3Y53t+/e87SnzT0GODkFd+XX3rtSpOASUKI7UKIr4QQ3ebThBD3CyF2CyF2nzs3yKKoSifzpkQT4GPsOxXtcGhzQZLng7/aDsmlDAZIv0urt9jUfVqrQ6FNWwijUtAjkuo7h4H29naOHj3Kli1beO+997jvvvuora0l1RyKXUos1tO93+BCJbPHGlhVPLR935W+Vbf6sLc2mNuia7RpU70othcT6hfKteHXuik6Lyel7PULuBv46xXf/wh45apz1gMfAT7AeLQOMqy3+06bNk0qzvHgf34jr332E9nWbu/5JNt2KX89Ssr9/+2+wLxZxR7t9/3Nf/R62r3r75U/WPuDft3yuuuuk9ddd50zohvRgN2yj37NHV+q73S9HTt2yIULF17+fvny5XL58uWdzvnZz34m//73v1/+/rbbbpO7du2S//mf/ynjbsiR//PNr6SUUt5///3yv/7rv7pp5FUpfz1K3nlzumt+CKWzr/+u9Z2n9vd4SmNbo5zx7gz56+2/dl9cXqC3vrM/nyxWAFfuCRd/6bUrlQNrpZRtUspS4AigJmC5SW6mmeqLrez47nzPJ1lXgykAJqlPsNwibqq2crKXVdEn609yoOpAv4vJfvPNN3zzzTfOilBxPdV3utj06dM5evQopaWltLa28v7777NkSedKD3feeefllFxVVRVHjhwhKSmJrKwsmm3fsq3YxtGy03zyyScsWtTNqlrraojN4KOtB9zwEylMWaJV7Oil79xWvo3G9ka1F7Qb9Wew+DUwUQgxXgjhC9wDrL3qnI+BOQBCiCi01Er/iyUpQ3LrpNGE+Jl6TkXb26H4Y5i0CPzUdkhuIS5Nhi/9HBq6Txt2pKAXJfav7ENZWRllZWVOC1FxOdV3upjJZOKVV15h0aJFTJkyhWXLlpGWlsbTTz/N2rXar3rRokVERkaSmprK3Llz+cMf/kBkZCQRERH84tHHqVz5L8yedSNPP/00ERERnRuosUHFbmri56lnz12CIrWKHdbVPaaiLTYLkf6RXB9zvZuD8159LnCRUrYLIf4JKASMwN+llMVCiGfRPrJce+nYQiFECWAHfiml7OVjLsWZ/H2MLEiLobD4NM/dlY6f6aoN7m3boLFKreRzt/SlsO2PcHANTP//uhy2lFrIGJ3BmOCrp7F1LykpCdDmYCnDn+o73WPx4sWXF0h0ePbZZy//vxCCl19+mZdffrnLtY//ywNsIY2wAF9+8pOZXW9+qebf9f/v85yoe049e+6SthTWPKBV8Iif1unQxbaLbC3fytKJSzEajD3cQHG2ftVZlFJulFJOklJOkFI+f+m1py91dlxKdz8spUyVUl4jpXzflUErXeVmmrnQ3M62I1VdD1pXg28ITFzg/sC8WXQqjJ7cbd2w43XHOVxzmOxElUYZyVTfOfzlZpjZZavmVF1T14PW1RA/nRN1A9glSxm6ybdrlTu6SUVvPrmZFnuLSkG7mdrBZYSYnRxFWKAP66/eK7q9FQ6ug8mLwSdAn+C8VUcq+sQOuND5z6WwtBCBYGHiQp2CUxQFICfTDMCG/ac6H6g6qm2PqjIy7hcQBskLtE92HY5OhwpLC4kJjCFzdKZOwXknNVgcIXyMBrLTY9lUcoamVvv3B45vhuZa1eHpJW0pILU5o5dIKSmwFTAtZhrRgdH6xaYoCuOjgkgfM4p1Vw8WrfmA0HZkUtwvfSnUV8LJry6/VNdSxxeVX5CVmIVBqOGLO6nf9giSk2HmYqudzYevqOtrXQ3+YZA0V7/AvFlUMsRmdEqnHKk5QmldqUqjKMowkZNhZt/JWk5WN2ovdGyNOu4mGBWnb3DealKWVsHjir7zs7LPaHe097uChOI8arA4gtyYFElUsN/3qei2Jji0EabkgslX3+C8WfpSqNitraxEW8lnFEbmj5s/oNvMmjWLWbNmuSBARfFut1+jDQjXdfSdZ0ug6rBWXB/17OnCL1ir4FGyRqvogdZ3xgfHkxaZpnNw3kcNFkcQo0Gw+JpYPj14loaWdji6CVrrtcGKop+0S7//4o+QUmIptXBD3A1E+Ef0ft1Vtm7dytatW10QoKJ4t4SIQK4dG8b6fZdS0dbVWq2/KXcA6tnTTXoeXDwHtm1UN1ez89ROssZnIYTQOzKvowaLI0xuppmWdgdFJWe0Di8wChJv0Tss7xY+Ttsv2rqa4vPFlDeUD2p7v6+++oqvvvqq7xMVRRmw3AwzJacu8N3Zeq3vTLoVgkcD6tnTzcQFWiUP62qKThRhl3a1NapO1GBxhJk2NpzYUf5s2vsdHCmE1DvA2Gc5TcXV0pbC6QNYSt7DZDBx29jbBnyL2bNnM3v2bBcEpyjK7RlxCAG7tn+mTRlJ+z4jo549nfgEaJU8Dq7DUrqR8aHjmRQ+Se+ovJIaLI4wBoMgJyMO3+8Kob1JrYIeLtLuxIHAUlbEbPNsQv1C9Y5IUZQrxIzyZ0ZiBMaSfKTBB6bk6B2SApCex9m2enaf2UN2YrZKQetEDRZHoJxMM4vFlzT6RcPYbnYlUNxvlJm946Zxxt7Y7+39FEVxr5yMWGa3bqUh/lYICNc7HAUgaS6fhEYikSwar/pOvajB4giUGSW51biPrT43gUH9EQ8Xlsg4/BwO5vrF6B2KoijdWBJxErOo5nMflXIeNky+WCKimdTWTlKgKmOkFzWSGIHEoY340s5faq7jfEOL3uEogN1h55PGMm5paibocIHe4SiK0o3Q79bRKnz5c2UKUqot/oaDyoZK9tkvkF3foFX4UHShBosjUXE+rSEJ7LEnUWA9rXc0CrD7zG7Ot9SQFTRe2xliEP8QLViwgAUL1P7eiuISDjsUf8yZmFs5XCM5UFF3+ZB69vRTaCsEYJHDD4rzdY7Ge6nB4khz8Tx8txmfjDwmjA5m3b7Kvq9RXK6gtIBAUyA3p/0PqCmFym8Hfo+CAgoK1KeSiuISti/g4lkibrgXH6Po1HeqZ08/BaUFXBN1DQmT74DDFmhp0Dskr6QGiyPNwbUg7Yj0peRkmNllq+bMhWa9o/JqbY42isqKmJMwh4C0u8Dg02kLq/5au3Yta9eudUGEiqJQnA8+QQSlZXPLxNGs338Kh0PLAKhnTx8nLpzgYPVBbVFg2lKtwscRi95heSU1WBxprKshUtuPODczDilhw/5Tekfl1b6q/Iq6ljptL+iAcEieB8Ufg8MxoPssXbqUpUvVbjyK4nT2Nm1bucmLwTeQ3Ewzp+qa2VNWA6hnTy+WUm1guChxkVbZIyROm8ajuJ0aLI4k9ae1VEp6HghBcnQIU+JGfb9XtKILi81CiG8Is8yX9pZNWwoXyqF8l76BKYqiOf45NNVcLsQ9PzUGP5NBTePRmcVm4bro64gNitUqe6TdBcc2QXNd3xcrTqUGiyNJyRpAdtp5ICcjjj1ltZTXNOoXlxdrsbfwWdlnzBs7D1+jr/ZiSjaY/NU7ZEUZLqyrwS9U+9QfCPYzcdvkaDYcOI3doVZF6+FozVGO1R4ja/wV2/ul54G9FQ5t0C8wL6UGiyOJNR+i0yB68uWXcjPMgEpF6+WLii9oaGsgOzH7+xf9R2l7nhZ/pK3AVBRFP+0tcGi9tmOLye/yy7mZZqoaWth5/LyOwXkvi82CQRhYMO6KVehjpkHYWPVGWwdqsDhS1JXDya8gvfO8mrGRgWQmhLFOpaJ1YSm1EO4Xzoy4GZ0PpOfBxbPatAFFUfRzrAhaLnTpO+emRBPka1R9pw6klFhKLcyInUFUQNT3B4TQMmfHN0NjtX4BeiE1WBwpij/S/pvedRJ2bkYc1ooLlFZddHNQ3q2xrZHPyz9nwbgFmAymzgcnLgKfoAHVDcvLyyMvT+31rShOZc2HwEgYf2unlwN8jcxPjaHAepq78u5Wz54bHaw+SFl9GVmJWV0PpueBo12r/KG4jRosjhTW1WC+FiKSuhy6PUPbImm9mqztVlvLt9LU3tR5zk0H30Bt7mLJGm0lZj+sWrWKVatWOTlKRfFsFouFlJQUkpOTefHFF3s8b/Xq1Qgh2L179+XXXnjuGZJ/9jYpf6qhsOizLtfkZpipbWzjgWf/pJ49N7KUWjAJE/PHze96MPYareLHIMqPKYPXr8GiECJLCHFYCHFMCPGvvZyXJ4SQQojrnRei0qfz32lFntO6L+0QFxrA9MRwlU5xM4vNwuiA0VwXfV33J6TnaSswj3/er/u9+eabvPnmm06MUHE11Xe6lt1u58EHH6SgoICSkhLee+89SkpKupxXX1/Pv//7v3PDDTdcfq2kpIT333mL4p8HYvmv/8sDDzyA3d55DvHNk6II8Tfxbx9+rp49N5FSYrFZmGmeSahfaNcThND6TtsXUH/G/QF6qT4Hi0III/AqkA2kAvcKIVK7OS8E+Gdgp7ODVPrQkYJOu6vHU3IzzRw508Dh0/VuCsq71bfWs618G4sSF2E0GLs/KXmetgKzn++Qf/7zn/Pzn//ciVEqrqT6TtfbtWsXycnJJCUl4evryz333MOaNWu6nPfUU0/x6KOP4u/vf/m1NWvWcM91YfiFxTJ+9t0kJyeza1fnclZ+JiNZabHsrZL8/J/+j8t/HgX2ndvHqYuntLq0PUlbCtJxqQKI4g6mvk9hBnBMSnkcQAjxPnAHcPXbt98CvwN+6dQIlb5Z8yHhRghL6PGU7PQ4frO2mPX7K0mJTXFjcN5p88nNtDpau09BdzD5aSswD66Dtn8DH/+ez1U8keo7XayiooKEhO/7vfj4eHbu7Dzm3rNnDydPnuT222/nD3/4w/fXnijlxrbjkPZzMBiJj4+noqKiSxu5mWb++5tyfMdNZc6cOZ2Obdy4kcDAQF577TU++OCDLtdu2bIFgD/+8Y+sX7++07GAgIDLWwj+9re/5dNPP+10PDIyktWrtTeSjz32GF9++WWn4/Hx8bz77rsAPPTQQ+zdu7fT8UmTJvGXv/wFgPvvv58jR450Oj516lRWrFgBwA9/+EPKy8s7HZ85cyYvvPACoM2XPn++86rwefPm8dRTTwGQnZ1NU1NTp+M5OTn84he/AOjyewNYtmwZDzzwAI2NjSxevPjy6xdvuAiToHJbJUyAqqoq7r777i7Xf7xoDGHW1Zw0Z/OjH/2oy/FHHnmE3NxcDh8+zM9+9rMux5988knmz5/P3r17eeihh7ocX758ObNmzWLHjh08/vjjXY6vWLGCqVOnUlRUxHPPPdfl+BtvvEFKSgrr1q3jpZde6nL8nXfeISEhgVWrVvH66693Of7hhx8SFRXFypUrWblyZZfj/f275yz9SUOPAU5e8X35pdcuE0JcByRIKXstfiSEuF8IsVsIsfvcuXMDDlbpxtlDcLa424UtVxod4sfMCZGs338KKVXdMFezlFowB5nJiMro/cS0pdpKzO8+7f08xROpvlNnDoeDhx9+uNt/rKk9AY62HqfvdJg1IRJ7Yx1Bk292UZRKBykkLYkt+Fb44odfr+eWjboeTn6FsUGVhXMLKWWvX8DdwF+v+P5HwCtXfG8AtgCJl77fAlzf132nTZsmFSf47HkpfxMm5YXTfZ763s4Tctyj6+WB8lo3BOa9appq5NS3p8qXdr/U98ntrVK+mCjlf/+kz1ONRqM0Go1OiHBkA3bLPvofd3ypvtP1duzYIRcuXHj5++XLl8vly5df/r62tlZGRkbKcePGyXHjxkk/Pz8ZFxcnv/76a7l8WbpcvjhaSrtdSinlwoUL5Y4dO7ptJ3LRgzLh4Q/lxZY21/5AXm7XqV0yfWW6LCgt6PvkqmNS/nqUlNv/5PrAvERvfWd/PlmsAK7Mb8Zfeq1DCJAObBFC2IAbgbVqorYbSKmloBNnQ0hMn6dnpcdiMgi10MXFPi37lHbZ3n3Zh6sZfSD1DjhcAK2qtNEIo/pOF5s+fTpHjx6ltLSU1tZW3n//fZYsWXL5eGhoKFVVVdhsNmw2GzfeeCNr167l+tQklow+yfsHoaWtjdLSUo4ePcqMGTO6bafp8BcYfPz57NBZd/1oXslSaiHAFMAtY27p++TICVoFEFWg2y36M1j8GpgohBgvhPAF7gEuFziSUtZJKaOklIlSykTgK2CJlHJ397dTnOb0ATh/tM80SoewQF9unhjF+n0qFe1KBbYCxo0ax5SIKf27IH0ptDXCkcJeT/vJT37CT37yEydEqLiJ6jtdzGQy8corr7Bo0SKmTJnCsmXLSEtL4+mnn2bt2l7q8B1aT1qUZNkP7iY1NZWsrCxeffVVjMbuF6PdO386vo4mtVe0C7U52th0YhNz4ucQ6BPYv4vSlkLlHqg+7trglL4XuEgp24UQ/wQUAkbg71LKYiHEs2gfWarKmHqxrgaDCaYs6fvcS3IzzTz8wT72lNUybVy4C4PzTlVNVXx9+mvuu+Y+hBD9u2jcTRAcoxXo7mXuqSrd4VlU3+keixcv7rRAAuDZZ5/t9tzLk/7/47cQkcQT//sVnvhd38/pX998k2fWFfOfO8uob24jxN9nqGErV9l1ahc1LTW9Lwq8WtpdsOkp7dPFW37huuCUfq2GRkq5Edh41WtP93DunKGHpfRJSm1wkTQXgiL7fdmC1Bh8TQbW769Ug0UX2HRiEw7p6F8KuoPBqHV6u9+C5gva3tHd+N3vfgfAo48+6oxQFTdQfecw1HAOSrfCzY9oNfv64Xe/+x217QG0tk9gU8kZll4X7+IgvY/FZiHYJ5jZY2b3/6KwBK0SSPFHarDoYmoHF09V8Q3UlvW5CvpqIf4+zE0ZzYb9p7A7VCra2SylFpLDkkkOTx7YhWlLwd4Chzf2eMoTTzzBE088McQIFcXLlXys1ejr5/Qd0J69P//6YcaEBahUtAu02lv59MSn3Db2NnyNvgO7OH0pnLFqlUEUl1GDRU9lXQ1GX5h8+4Avzc00c7a+hV2laiN2Zzp98TR7zu4Z2KeKHeKnQ2iCmqytKK5mzYfRUyCmS330PuVkxLHtaBU1F1tdEJj32l6xnfq2+sH1nal3gjBomTbFZdRg0RM5HNrH7skLwL+b7ZD6cNvkaAJ8jKxXq6KdqtCmLVAZ0JybDgYDpN2p1VtsVIN4RXGJugoo+3LAGZkOuZlm2h2SwuLTTg7Mu1lsFkL9QrnRfOPALw6J0eZ9W/O16VmKS6jBoicq+xLqTw26wwv0NTE/NYYC62na7Q4nB+e9LKUWpkRMYdyocYO7QXoeONrh0Pq+z1UUZeBKPgbkgFLQV0ozjyIxMlCVH3OipvYmNp/czPyx8/ExDHLhUHqeVhnk9AHnBqdcpgaLnqg4H3wCIaWXvTP7kJsRR/XFVnZ8d77vk5U+naw/ifW8tff9TPsSNxUikvq9V7SiKANkzYe4TIga4JziS4QQ5Gaa+fK785yrb3FycN5pW/k2mtqbhtZ3TlmiVQZRqWiXUYNFT2Nvh+KPYdIi8A0a9G1uTRlNiJ9JTdZ2ko4U9KLERYO/iRDaJx6lW7UVm1d5+OGHefjhhwd/f0XxZjU2qNg9qE8Vr3z2cjLMOCQUWNU2c85gsVmI9I/k+pgh1KIPioSkOdobbZWKdgk1WPQ0tq3QWKV97D4EfiYjC9NisRSfpqXd7qTgvFdBaQGZozMxB5uHdqP0PG2lZsnHXQ79/ve/5/e///3Q7q8o3qpj8VjaXQO+9MpnLyU2hEkxweqNthNcbLvI1vKtLExciNHQfUH0fkvP0yqEVHzjnOCUTtRg0dNY88E3RFvcMkS5mXHUN7ez7UiVEwLzXsdrj3Ok5sjQ0igdYlK1lZrFH3U59Ktf/Ypf/epXQ29DUbxRcT7Ez4Dwgc8pvvrZy80w87WthlN1Tc6M0OtsPrmZFnuLc/rOybdrFUJURQmXUINFT9LeCgfXaQ+Fj/+Qb3dTchThgT6sVe+Qh8RisyAQLBg39AE8oC1cOrFDW7l5hZdffpmXX37ZOW0oijepurT4YZCLAq9+9nIytQzC+n0qFT0UllILMYExZI7OHPrN/EO1D1GK87WKIYpTqcGiJ/nuM2iuHXSHdzUfo4Gs9DiKDp6hqVWlogdDSklBaQHTYqYRHRjtnJum5wGy21S0oiiDYF0NCK0mnxOMjwoifcwoVX5sCOpa6theuZ1FiYswCCcNRdKXapVCyr50zv2Uy9Rg0ZMU54N/mLbFn5PkZsTR2Gpn8+GzTrunNzlScwTbBZtz0igdIidAbIZKpyiKM0ipDRbH3QSj4px225wMM/vK6yg73+i0e3qTz8o+o93R7ty+c1IWmALUqmgXUINFT9HWBIc2QOoSMA1wO6Re3JAUSVSwn5qsPUgFpQUYhZH54+Y798bpedrKzRqbc++rKN7mTDFUHXFaRqbD7ddoA09Vc3FwCkoLiA+OJy0yzXk39QuGlCytYoi93Xn3VdRg0WMc3QStDYMuJtsTo0Fw+zWxfHboLA0t6uEaCCklFpuFG+NuJMI/wrk371ix2c1CF0VRBqA4H4QRUu9w6m0TIgK5bmwY6/ereYsDdb7pPLtO7yJ7fDZCCOfePG2pVjHEts259/VyarDoKayrIWg0JN7s9FvnZpppaXdQVHLG6fceyaxVVioaKoZWW7En4eO0/aKvKND9/PPP8/zzzzu/LUUZqTpS0Em3QlDUoG/T07OXk2Hm4KkLHDvbMJQovU7RiSLs0u6avnPiAq1iiNrcwKnUYNETtDTAkULtnbHR5PTbXzc2nLhQf5WKHiCLzYLJYGLeuHmuaSA9T1vBWXUUgEcffZRHH33UNW0pykhUuUebyjHEurQ9PXu3Z8QhBGqhywBZbBaSQpOYFD7J+Tf3CYDJi+HgWq2CiOIUarDoCY5YoL1pyB1eTwwGQU5GHFuPnqOusc0lbYw0DunAYrMw2zybUb6jXNNI6p2AuLzQ5b777uO+++5zTVuKMhJZ88Hgo5UbG4Kenr2YUf7MSIxg3b5KpNo5pF/ONp7lmzPfkDU+y/kp6A7pedBcB8c3u+b+XkgNFj2BNR9CzJBwo8uayMkw02aXFBafdlkbI8nes3s523iWrPFZrmtkVJy2gtP6IUjJW2+9xVtvveW69hRlJHE4tDm/yfMhIHxIt+rt2cvNNPPduYscOl0/pDa8xSe2T5BIshJd2HcmzdUqh6hUtNOoweJw11QLxzZpCx4MrvvjyogPZWxEoFrZ108FpQX4G/2Zm+C8MkbdSl+qreQ8U+zadhRlpDm5Ey5UOH0V9NWy02MxGoSaxtNPBbYCJkdMZnzoeNc1YvKFKblaBZE2tcuOM6jB4nB3aAPYW12Wgu4ghCA3M44d352nqqHFpW15unZHO5+c+ISb428m0CfQtY2l3qGt5FR1wxRlYIrzweQPKU6s49eNyGA/Zk2IZN1+lYruS0VDBfvP7XfNwparpedpFUSObnJ9W15ADRaHu+J8CBsHY65zeVM5GWbsDkmBVaWie7P7zG6qm6s7FZO1WCykpKSQnJzMiy++2OWal19+mdTUVDIyMpg3bx4nTpy4fOztt99m4sSJTJw4kbfffrvzhUFR2kpOlU5RlP5z2LVaexMXgl+Iy5vLzTRzsrqJ/eV1Lm/LkxXaCgFcm4LukHgzBEapvtNJ+jVYFEJkCSEOCyGOCSH+tZvjDwshSoQQ+4UQnwohBr5Tu9LVxfPw3WYtjeKqicBXmBwbQnJ0MOtVOqVXllILgaZAbh6jlTGy2+08+OCDFBQUUFJSwnvvvUdJSUmna6699lp2797N/v37ufvuu/nVr34FQHV1Nc888ww7d+5k165dPPPMM9TU1HRuMG0p1NiYFqfe23ka1XfqxPYFXDzr8oxMh0WpsfgYVSq6L5ZSCxlRGcSHxLu+MaMJ0u7UKom0qNJGQ9Xnvz5CCCPwKpANpAL3CiFSrzrtW+B6KWUG8CHwe2cH6pUOrgVpd3oh7p4Ioa2K3mWr5nRds1va9DRt9jaKyoqYO3Yu/iZ/AHbt2kVycjJJSUn4+vpyzz33sGbNmk7XzZ07l8BALWV94403Ul5eDkBhYSELFiwgIiKC8PBwFixYgMVi6dzolBww+PDmP2fx+uuvu/6HVJxC9Z06sq4GnyDtk0UneP3113t99kIDfbh10mg2HDiFw6FS0d2x1dk4WH3QPSnoDmlLtUoiRyx9n6v0qj8fVcwAjkkpj0spW4H3gU6l8KWUm6WUHRtkfgW44W2DF7CuhsiJEHuN25rMyTAjJWw4oHYl6M6Xp76krqWO7MTvU9AVFRUkJCRc/j4+Pp6Kiooe7/G3v/2N7Ozs/l8bEA7J88kwHOO+f/xHJ/0kihuovlMP9jbtjfbkxeDrnDnF/SlblZtp5lRdM9+U1fR6nrey2CwIhHsHi2NnQkicSkU7QX8qPI8BTl7xfTlwQy/n/yNQMJSgFKD+DJzYDrf80i0p6A7J0cFMiRvFun2V/ONsF65W81CFtkJCfEOYZZ41qOvfffdddu/ezeeffz6wC9OXwpECcqaOpiHi+zcPTz75JPPnz2fv3r089NBDXS5bvnw5s2bNYseOHTz++ONdjq9YsYKpU6dSVFTEc8891+X4G2+8QUpKCuvWreOll17qcvydd94hISGBVatWdfvJy4cffkhUVBQrV65k5cqVXY5v3LiRwMBAXnvtNT744IMux7ds2dLlNQ+i+k49HN8CTTVOTUH/wz/82funhgAAHB9JREFUAwCrVq3q8Zx5U2LwMxlYt6+S6YlO3v5zBCi0FXJt9LXEBMW4r1GDQask8vVftcoiAWHua3uEceokKCHED4HrgT/0cPx+IcRuIcTuc+fOObPpkafkY5AOt6Wgr5SbGcfek7WcrG7s+2Qv0mJv4dOyT5k/dj4+Rp/Lr48ZM4aTJ78fE5SXlzNmzJgu1xcVFfH888+zdu1a/Pz8BnQtKdk0tUkWxas/k5FI9Z1OZF0NfqEw4Tan3XL16tWsXt37p1PBfibmTYlm44FTtNsdTmt7JDhac5Rjtcc6LQp0m/Q8raLIoQ3ub3skkVL2+gXMBAqv+P4x4LFuzpsPHASi+7qnlJJp06ZJpRd/XSDlqzN1afpE1UU57tH18vUtx3Rpf7gqshXJ9JXpcnv59k6vt7W1yfHjx8vjx4/LlpYWmZGRIa1Wa6dz9uzZI5OSkuSRI0c6vX7+/HmZmJgoq6urZXV1tUxMTJTnz5/vtv0PlwXKU48ES2lvd+4PNsIAu2U/+iBXf6m+UwetTVIuj5fyo5879bZGo1EajcY+z9uwv1KOe3S9/OLoOae27+n+tOdPMuPtDFnVWOX+xh0OKf8tXcr/uMv9bXuY3vrO/nyy+DUwUQgxXgjhC9wDrL3yBCHEtcAbwBIp5dmhDF4VoPakVlDWxcVkezI2MpDMhDC1su8qFpuFcL9wZsTN6PS6yWTilVdeYdGiRUyZMoVly5aRlpbG008/zdq12qPyy1/+koaGBn7wgx8wdepUlixZAkBERARPPfUU06dPZ/r06Tz99NNERHSfwlpV3E5ssEFb6al4AtV3utuxImi5oFvfOTclmiBfo9or+gpSSiylFmbEziAyINL9AQihZeiOb9EqjCiD0uecRSlluxDin4BCwAj8XUpZLIR4Fm0UuhYtdRIM/PelvR7LpJRLXBj3yFb8kfZfnTo8gNyMOJ7bcJDj5xpIGh2sWxzDRWNbI5+Xf05uUi4mQ9fHZvHixSxevLjTa88+++zl/y8qKurx3j/96U/56U9/2mcMBcfsNLRKgq2rtdqLyrCm+k4dWFdDYCSM1+f5CPA1siA1hgLraZ5Zko6vSZW7Kqkuoay+jH+8RsfFeel5sH0FHFwD1/fd1ypd9etvspRyo5RykpRygpTy+UuvPX2ps0NKOV9KGSOlnHrpS3V2Q1GcD+ZrISJJtxBuz4gDYP1+tSoaYGv5Vpram1y7F3Qfmtph7RG7ttLT3qZbHEr/qb7TjVovaiVSUu+AK+YUu1tOhpnaxja2H6vSLYbhpLC0EJMwMW/sPP2CiL0GIpPBqnbCGiz1tme4Of8dVH7rtmKyPYkLDWBGYoRKRV9SUFpAdEA010W7fiednuTn5zNhyS+1lZ7Ht+gWh6IMS0cs0NbokkWB+fn55Of3b6Bx86QoRvmbWKdS0TikA4vNwqwxswj1C9UvECG0f1NtX0C92qFsMNRgcbjp2AM47S5940BbFX30bAOHT9frHYqu6lvr2VaxjYWJCzEajLrFsWTJEm74H49pKz1V3TBF6cyaD8GxMG5wZa16s2TJksvzjPviZzKSlR7LJ8VnaG6zOz0WT7L/3H5OXTzlnu39+pK2FJBQsqbPU5Wu1GBxuLF+BAk3Qqj+tXmz0uMwCLz+08XNJzfT5mjTNQUNkJ2dTXbunTAlVysD0aZ22VEUAJrr4Ogm7U22C97QZWdnXy6k3x85GWYaWtr5/Ih3lzmy2Cz4GnyZmzBX71AgejJEp6k32oOkBovDydlDcLZY9xR0h9EhfsyaEMX6/ZUdJT68UkFpAeYgMxlRGbrGsWnTJjZt2gTpd2krPo/1vGhGUbzKoY1gb3HZosDLz14/zZoQSUSQr1e/0bY77BTaCrkl/haCfYfJIsn0pVqlkdqTfZ+rdKIGi8NJcT4IgzZBe5jIyYjDdr4Ra8UFvUPRRW1zLV9VfsWi8YsQbtxJp1fjb9VWfBarydqKAmjPQuhYiJ+udyQAmIwGstNj+fTgWRpb2/UORxd7/v/27jy8qvpM4Pj3TW4WEpZAgBCQJRiNEAxgAkEFRCirAgpq6YyM82jHVu1MYdo+rbWPT5dnrG117ALTbahttUI7SotWkiAiZZVVlptAgCxAYljCEgFDQpLf/HFOIAuXLCY559y8n+e5T+495yT3fe/J+d3fOb/lnNpNaXkp0xM68PZ+Tak9maidcUQ1m1YW3cIY6/L4kPHQrQNvh9SEGSP64QuRTjtv2Npja6kyVe7oc1MrNAyGzYHcDGsEqFKd2adnIW8dJD/QobdGbcrskf0pv1LN+wc65/SZGQUZdPF1YeKAiU6Hck2vodZMI9oU3WJaWXSLE/vgzBHXNEHXiokKZ+Ktffj7vpJO2RSdWZDJ4O6DGdZrmNOh1DdivjXy81Cm05Eo5awDb0NNlevKzjFDehHXPaJTNkVfqbnCe0ffY9JNk4gKi3I6nPpGzIeSPdbMI6rZtLLoFv6VEOKzrhi5zP0p8RSfL2f3sfNOh9KhSstL2XFyB9OHuKgJutbgu6BrnM4bppR/JfS6GeJHOh1JPaEhwqzb41mfe5pPLneueVG3l2znfMV5xwcFXlftTCPajadFtLLoBsZY/7hD74Wo69/qzUlTh8cR7gvpdGfIawrXUGNqmDmk+aMg29OmTZvYtMm+1V9IqFXoHX4PLnfO/qRKcfEUFG60+qK14wldvWOvBWaP7E9ldQ3vZZ9sh6jcK6Mgg65hXRk/YLzToTTW4yZrxhG/9ltsCa0sukHxLjh/zNHb+91It8gwJif15d39JVTXdJ6m6KzCLBJjEknsmeh0KACMGzeOcePGXVswYr41AvTgu84FpZSTclaBqWn3JuhGx14zjR4Yw4CYLp1qgu7K6krWHVvH5EGTCQ8Ndzqc6xsxz5p55NQBpyPxDK0suoH/LQgNh9vuczqSgO4fGc/pCxVsLzjrdCgd4sSlE+w+tdtVA1smTpzIxIl1OovfNAZ6DNTmFNV5+d+CPsOgb/v2KW507DWTiHD/yHg2HS7l3KXKdojMfTYXb+bClQuuKjsbGf6ANfOIduNpNq0sOq2mxhrGf8s0iHTwdkhNmHxbX6LCQzvNGXJWYRaAq/rcbNmyhS1btlxbIGI1Reets0aEKtWZlBXBsa0dMrCl0bHXArNT+lNVY8jM7hy3mcsozCAmIoZx/Vt+JbbDdIuzZh7JXml1A1NN0sqi045thQslrri9341EhfuYMiyOTP8JrlTXOB1Ou8ssyGRYr2EM7j7Y6VBubMQ8ayTogXecjkSpjpX9N+unS7vv1Eru352E3tGdos93eVU564+v53ODP0dYSJjT4dxY8jxrBpIT+5yOxBO0sug0/1sQFgVJ7hhEcSOzU+I5e6mSLXlnnA6lXR3/5Dj+M35mJrh/nxA/ypo7TOcNU52N/y1rBHTszU5HckMiwuyUeD7MP8OpC8F9i84NRRsoryp3dxN0rWFzrBlItCm6WbSy6KTqKquD9q3TITza6WiadE9SH7pF+Ph7kJ8hZx21mqCnD3HRnQcCEbGa4Qo3WiNDleoMzhbAx7tdN7diIPeP7E+NgYz9wd0UnVWYRWxkLGlxaU6H0rToWGsGEr82RTeHVhadVLgBPi31TIEX4QtlWnI/MrNPUFFV7XQ47SajIIORfUbSv2t/p0NpnuR51ojQnFVOR6JUx6gd1OXy7ju1bo3rRlJct6C+E9bFyotsKNrA9CHTCQ0JdTqc5hkxD8qOQdFOpyNxPa0sOsn/FoR3g8SpTkfSbLNHxnPhchUbDpU6HUq7yD+fz6Fzh1zZBJ2fn09+fn7jFXHDrRGh2hStOgv/SrhpLMQM6pC3C3jstcD9KfHsKDzHx+fL2ygqd/ng+AdUVFe4alBgk267z5qJRGeUaJJWFp1SVWkNSrjtPgiLdDqaZrs7sTc9o8KC9gw5szATQZg2eJrToTQyaNAgBg0K8OU4Yr41WKqsuGODUqqjnc6Fk/4ObZG54bHXTPePtFoqVu8vaYuQXCerMIt+0f0Y2cddd9K5ocge1kwk/pVQE7ytZW1BK4tOyVsHl8s80wRdKyw0hBkj4nkv5yTllcF1cBljyCjIIK1fGn2i+jgdTiOpqamkpqZef2XtiNBsvSuBCnL+lYDA8Lkd9pY3PPaaKaF3NLcP6BGUo6LLKsrY/PFmpg+eToh4rFqR/CBcPGGdbKuAPLZXg0j2SoiMgaGTnI6kxWanxPNpZTUf5AbXgIpD5w5R+Emha0fy7d27l717915/Zax9b1xtTlHBrPbWqEPGQ/f4DnvbGx57LXB/Sjx7i8o4dubTNojKPdYdW0dVTZUru+80KWmmNSOJjoq+Ia0sOuFKuXWLtuFzwOfS2yHdQPrQWHp3jQi6M+SMggxCJZSpg1vehzQzM5OkpCQSExN58cUXG62vqKjg85//PImJiaSnp1NYWHh13Q9/+EMSExNJSkoiKyur9QmMmG/dOvJsQev/hlJudtIPpYfqza3oimOvme5LsSq4wXZzg4yCDAZ2G8jw2OFOh9Jy4dHWjCQ5q6wZStR1NauyKCIzRCRXRI6IyLeusz5CRP5sr98mIkPaOtCgcngNVF60RrF6UGiIcN/t/Vh38BQXK4Lj4DLGkFmYybj4cfSM7Nmi362uruaZZ54hIyODnJwcli9fTk5OTr1tli1bRs+ePTly5AiLFy/mm9/8JgA5OTmsWLGC7OxsMjMzefrpp6mubmXzfu3IUL266BpadrYx/1sgoTDMaoJ2zbHXTDf1jOKOQTFBdaJ9pvwM205sY8aQGYiI0+G0zoj51swkhRucjsS1mqwsikgosBSYCQwHviAiDU8fngDOGWMSgVeAH7V1oEHFvxKi+8CQCU5H0mqzR/anoqqGtTknnQ6lTfhL/RRfLG7VSL7t27eTmJjI0KFDCQ8PZ8GCBaxaVX8am1WrVvHYY48B8NBDD/H+++9jjGHVqlUsWLCAiIgIEhISSExMZPv27a1LImaQNULUr/0W3UDLzjZmjFV2Dp1kzZGHi469Fpg9sj8HT1zgyKkL7f5eHWHt0bXUmBpvjYJuKHGqNTOJzigRkK8Z24wFjhhj8gFEZAUwF6h7+jYX+K79/E1giYiIMW030+U7HzzXVn/KWcZA0XoYehcUZjgdTavVGEPvfjks3ZHLR2djnQ7nMzvwyVZCxcelc7excndRi35368Z9VHfpdfX3SqqiOOz/iKQ6f+dAXiH+8z5K7GW+yGj+sG4/G/bkcuvtd1z93aouPVm5cR8lEQMbvU/U8EnU1NSQ9tDTV5fNnTuX5ORkjh49xp/+9DoLYqv5evx+fvLkFC7UhDF27Fji4vpx8uSJ634R3nXn3cT2jqW4uJjdu3c1Wj9hwkRiYmI4evQo+/Y17rN17+TJdI3uSl5eHjk52Y3WT506jcjISA7l5pJ7KLfR+lkzZxHq85GTnU1efh5b8iuoqrlWbKxfv77R73iI42Vn2flCNnz027b4U867XAZVp2HALMizbm+5eddmTA/DO/br02Gnyd2be/U1wMGCgxysPkhpnjXdV1hUGG/sfINNOZtIGpV0ddua7jWs2rWK0r6NpwXrfmd3TI3hzifurLf8a1//GhHhEax9fy3btzU+vr797W8DsHr1avbs2QNAdWgEviGTefDn7zLv3nQAdu3aTfHH9cudyIhIpk2zZmXYtm0bJ0/VPzGPju7KlMmTrc9hyxbOnKkfd48eMdwzcSIA/9iwgbKy8/XWx8b25u677gLg/XXruHTpYr31cX3jSE+34luzZg2XK+rffWZA/5tITb2DraV/JeRiFF/4t1cQrl1ZHDVqFLNmzQLghRdeaPTZpKenM2XKFCorK3nppZcarZ8wYQITJkzgwoUL/OIXv2i0fsqUKaSnp3Pm7Fl+/atfNVo/c+ZMRo8eTUlJCa+++mqj9Q3Lzu8N6M2E8r/w8jt5GPBU2Zl9KJ/thfWnZGrrslOaKpNE5CFghjHmi/brhUC6MeYrdbbx29sU2a/z7G1KG/ytJ4EnAQYNGpR69OjRZgea8vsRGK9e4laecOWT27lc/M8t/r1LBzdxuWA3sTP/A4CL/nVUluTSa+pTV7f5eNnT9H34+/i69wag+NdfpN/Clynb/Abh/W+ja/K9AJSu/hldhqYSfdv4VuXQh3NsjFhEpFxp1e87bdbWND6tuNYU2JoCT0R2GWMcv4WEG8rOA7mreOTD77RFOq5UtqOMi/svMuDxAQCc23yO8vxy+i+8NqH+4ecOM+RrQwjrZd2rOPcbudz8/M2c+tspom6OIuauGACKlhXRLaUbPcb06PhEPK7i1Awqz0xyOozP5K4QP2+EN67UesHx6lgWbqw/tVNbl53NubLYZowxvwF+A5CWltaiM+d3p/y6XWJyhK+L1QztcTXGcKLsMobguFVS7y5xhIWEtfj3du3owk9/vIPXvjEJgKU/3Qmjx/DMoklXt1m4/RYWzRlI6ph0qqqqGPPbSjY+P4f/+dlhgKvbLtz+Cou+PJXUMemtzuN0+URCKr3ZxPXOd5II9XVoseQJrS07bx4ymdVRja+6eFZEd2sWCduuAbt45cArvP7g6wAsyV8C8fCVB6/Wx3n0j4+y+PbFpI5NpaqqitT/TCVrYRZLTy8Frm376B8fZfED1nbtraKqmtKLFe3+Ph1BJIS+Xfp5b8qcRiZRdHE+Uu29/eIL9bH+B0nt+ybGmBs+gDuBrDqvnwWebbBNFnCn/dwHlGJftQz0SE1NNUoFgytXrpiEhASTn59vKioqTEpKivH7/fW2WbJkifnSl75kjDFm+fLl5uGHHzbGGOP3+01KSoq5fPmyyc/PNwkJCaaqqqrDcwgmwE7TRLnWEQ8tO9ufHntKtZ0blZ3NOYXfAdwiIglAMbAA+KcG27wNPAZsBR4C1tlvrFTQ8/l8LFmyhOnTp1NdXc3jjz9OcnIyzz//PGlpacyZM4cnnniChQsXkpiYSK9evVixYgUAycnJPPLIIwwfPhyfz8fSpUsJDfXIfVVVU7TsbGd67CnVMZrsswggIrOAnwKhwO+MMf8lIt/HqoW+LSKRwGvAaOAssMDYnboDSUtLMzt36s27lVJtyy19FkHLTqWUd3zmPovGmNXA6gbLnq/z/DLw8GcJUimlgo2WnUqpYOD1HqlKKaWUUqodaWVRKaWUUkoF1Kw+i+3yxiKngeZPtGjpjTVa0OuCJQ/QXNwqWHJpTR6DjTHen5sqAC07gyIP0FzcKFjygDYuOx2rLLaGiOx0S8f1zyJY8gDNxa2CJZdgycNpwfI5BkseoLm4UbDkAW2fizZDK6WUUkqpgLSyqJRSSimlAvJaZfE3TgfQRoIlD9Bc3CpYcgmWPJwWLJ9jsOQBmosbBUse0Ma5eKrPolJKKaWU6lheu7KolFJKKaU6kGsriyJSKCL7RWSPiOy0l/USkfdE5LD9s6fTcTaHiMSIyJsiclBEDojInV7MRUSS7P1R+/hERBZ5NJfFIpItIn4RWS4ikSKSICLbROSIiPxZRMKdjrM5ROSrdh7ZIrLIXuaJfSIivxORUyLir7PsurGL5ef2/tknInc4F7l7BPgMvysixXWO1Vl11j1rf4a5IjLdmaiv73q52Mv/3S4/s0Xkx3WWeyoXu1yp3SeFIrKnzjpX5hIgj1Ei8mHt97OIjLWXu/oYDZDLSBHZatc33hGR7nXWuXKfAIjIQBH5QERy7OPiq/by9ik/jTGufACFQO8Gy34MfMt+/i3gR07H2cxc/gB80X4eDsR4NZc6OYUCJ4DBXssFGAAUAF3s138B/tX+ucBe9ivgKadjbUYuIwA/EIV1+861QKJX9gkwEbgD8NdZdt3YgVlABiDAOGCb0/G74RHgM/wu8PXrbDsc2AtEAAlAHhDqdA5N5HKv/X8dYb/u69VcGqx/GXje7bkE2CdrgJn281nA+jrPXXuMBshlB3CP/fxx4Adu3yd2fPHAHfbzbsAhO+Z2KT9de2UxgLlYFS/snw84GEuziEgPrH/QZQDGmEpjzHk8mEsDU4A8Y8xRvJmLD+giIj6silYJMBl4017vlTyGYR30nxpjqoB/APPwyD4xxmwAzjZYHCj2ucAfjeVDIEZE4jsmUvcK8BkGMhdYYYypMMYUAEeAse0WXAsFyOUp4EVjTIW9zSl7uRdzAayrPMAjwHJ7kWtzCZCHAWqvwPUAPrafu/oYDZDLrcAG+/l7wHz7uWv3CYAxpsQYs9t+fgE4gHUhpF3KTzdXFg2wRkR2iciT9rI4Y0yJ/fwEEOdMaC2SAJwGXhWRj0Tkf0UkGm/mUtcCrhV0nsrFGFMMvAQcw6oklgG7gPN2hQugCOvAczs/MEFEYkUkCuvscSAe2ycNBIp9AHC8znZe2UdO+Yrd3PS7Ot0QvPgZ3or1P75NRP4hImPs5V7MpdYE4KQx5rD92mu5LAJ+IiLHscrSZ+3lXssDIBurIgXwMFb5CR7KRUSGAKOBbbRT+enmyuJ4Y8wdwEzgGRGZWHelsa6remEotw/rsvcvjTGjgUtYl4av8lAuAIjVl28O8H8N13khF/uLcy5WRb4/EA3McDSoVjLGHAB+hNUslAnsAaobbOP6fRKIl2N32C+Bm4FRWCdELzsbzmfiA3phNZ19A/iLfWXOy77AtZNtL3oKWGyMGQgsxm4586jHgadFZBdWc26lw/G0iIh0Bd4CFhljPqm7ri3LT9dWFu2rP7VNDn/Fuvx7svayqf3zVOC/4BpFQJExZpv9+k2syqMXc6k1E9htjDlpv/ZaLp8DCowxp40xV4CVwN1Yl+V99jY3AcVOBdgSxphlxphUY8xE4BxW3xWv7ZO6AsVezLWzfvDQPupoxpiTxphqY0wN8FuuNZ958TMsAlbazWfbgRqs+956MRfsMmYe8Oc6i72Wy2NY5SZYFw08+/9ljDlojJlmjEnFqsDn2atcn4uIhGFVFP9kjKndH+1Sfrqysigi0SLSrfY5MA2rue1trH9S7J+rnImw+YwxJ4DjIpJkL5oC5ODBXOpoeFbstVyOAeNEJMq+QlG7Tz4AHrK38UIeAIhIX/vnIKwvoTfw3j6pK1DsbwP/Yo/qGweU1WluUXU06Iv0IFb5CdZnuEBEIkQkAbgF2N7R8bXQ37AGuSAit2INEizFm7mAdbJ60BhTVGeZ13L5GLjHfj4ZqG1O99wxWqf8DAG+gzW4EVy+T+zvrmXAAWPMf9dZ1T7lZ3uM0vmsD2Ao1iikvVj9CZ6zl8cC72P9Y64FejkdazPzGQXsBPZhFXw9PZxLNHAG6FFnmedyAb4HHMT6En0Na8TbUKzC4AjW2XKE03E2M5eNWJXdvcAUL+0TrJOOEuAK1hWkJwLFjjWKbynWmf9+IM3p+N3wCPAZvmZ/RvvsL4n4Ots/Z3+GudgjWt3yCJBLOPC6fazuBiZ7NRd7+e+BL19ne1fmEmCfjMfq570Xq59cqr2tq4/RALl8Fas15hDwIvbNSty8T+zYxmM1Me/D6n60B6vPeruUn3oHF6WUUkopFZArm6GVUkoppZQ7aGVRKaWUUkoFpJVFpZRSSikVkFYWlVJKKaVUQFpZVEoppZRSAWllUSmllFJKBaSVRaWUUkopFZBWFpVSSimlVED/D0Gr3okeUyVmAAAAAElFTkSuQmCC\n",
                "text/plain": "<Figure size 792x216 with 2 Axes>"
              },
              {
                "output_type": "display_data",
                "metadata": {
                  "tags": [],
                  "needs_background": "light"
                },
                "image/png": "iVBORw0KGgoAAAANSUhEUgAAApkAAADSCAYAAAABr9vUAAAABHNCSVQICAgIfAhkiAAAAAlwSFlzAAALEgAACxIB0t1+/AAAADh0RVh0U29mdHdhcmUAbWF0cGxvdGxpYiB2ZXJzaW9uMy4yLjIsIGh0dHA6Ly9tYXRwbG90bGliLm9yZy+WH4yJAAAgAElEQVR4nOzdd3gUVdvH8e9JJ5UWeiehBkIJHQQEpZcgTQSxCyJIkUd4UBAfu9hBEAuiIBKRKggWQHoJofcivYWShCSkn/ePjbyIlA3s5uxu7s917UVmd3bmFzab3Dsz5z5Ka40QQgghhBC25GY6gBBCCCGEcD1SZAohhBBCCJuTIlMIIYQQQticFJlCCCGEEMLmpMgUQgghhBA2J0WmEEIIIYSwObsVmUqpr5VS55VSu27xuFJKfaKUOqSU2qGUqmOvLEIIIYQQInfZ80jmN0Db2zzeDgjNvj0DTLZjFiGEEEIIkYs87LVhrfUqpVS526zSBfhWW7rBb1BK5VdKFddan7nddu+7v7X+atY8GyYVjq6AnxeF/b1NxxC56co5uHrZdAqRm5SCQiHg5m46icglmVmZHEs4hkYmhXFmFfNXVLd6zG5FphVKAieuWz6Zfd+/ikyl1DNYjnbiW7wiA2fG5EpA4RguJqby44DGhBTxNx1F5IbT2+DbzuBfzHQSkZtSr0D5+yByiqXgFC5Na83YdWPZcGYD/p7yu92ZLei64JaPmSwyraa1ngpMBYiIiNC/D29uOJHITbM2HWfgjC3MH9QEP2+n+JEVdyv5EkQ9Ch0/grBuptOI3JSWBF+2huivod6TptMIO/vxwI/subiHRV0X4evpazqOsBOTo8tPAaWvWy6VfZ8Q/9C7Xmlqlc7PqLk7sVxdIVxSVhbMexaqdJACMy/y8oNeM2DFm3Byi+k0wo52XdjFxK0T+bDFh1JgujiTReZC4NHsUeYNgfg7XY8p8ialFP/rGsbh84lMX3fUdBxhL6vfh5QEeOA100mEKYUqQqeP4Mf+kHTRdBphB5dTLjN85XDGNhpLuaBypuMIO7PbuUel1CygBVBYKXUSGAd4AmitpwBLgPbAISAZeNxeWYTz8/F0Z0rfunSbvJYapYKoW7ag6UjClg79AdFfwdMrwN3TdBphUtVOcHIz/PQk9P1JBgK5kMysTEatHkXbcm1pXba16TgAZGZmcunSJdLT001HcXienp4ULFgQd3fr35PK2U4/RkRE6OjoaNMxhCF/7D3Hy/N3sfD5pgQHyIhzlxB3HL5oBT2mQbmmptMIR5CZAd91hTIN4f6XTacRNjJx60S2nNvCFw9+gYebY1xfHxsbi4+PD/7+/igZcHZLWmsSExNJSUkhODj4xodv+R8nM/4Ip9KqalEeqlOKIbO2kpGZZTqOuFcZqRDVHxo/LwWm+H/uHtD9a9g6Ew4sM51G2MCqk6uYd2ge7zV/z2EKTID09HQpMK2glMLf3z/HR3ylyBROZ9gDlfBwV0z49YDpKOJeLR0FQSWh8RDTSYSj8S8CPb6BBYPg0l+m04h7cPLKSV5Z+woTmk+gcL7CpuP8ixSY1rmb/ycpMoXTcXdTfNy7Nou2n2bZ7rOm44i7tW0W/LUKunwmfRHFzZVpAM1etLS1Sr9qOo24C6mZqQxfOZynazxN7SK1TcdxaWvXrmX16tWmY/yDFJnCKRX082Jin9r8d+5O/rqQZDqOyKmzu+DXMdDzO/AJNJ1GOLIGz1pmAlryoukk4i68ufFNygaW5ZGqj5iO4tLi4+N59dVXqVWrluko/yBFpnBatcsUYOgDlRg4YwvJaRmm4whrXY2D2X2h7TtQtJrpNMLRKQWdP4WT0bBluuk0IgfmHpzLtvPbGN94vJyStrM9e/YwceJEAgICTEf5BykyhVPr26AM1YoHMmbeLmnU7gyysmD+QAh9AGr2MJ1GOAtvf8tR7z/Gw+mtptMIK+y5uIePtnzEhy2l4frtJCUl0aFDB8LDwwkLC2P27Nn88ccf1K5dmxo1avDEE0+QmprK0qVL6dHj/39nrly5ko4dOwIwcOBABg8eTGRkJOPGjbu2Trly5Rg3bhx16tShRo0a7Nu3j6ysLEJDQ4mNjQUgKyuLkJCQa8u2JkWmcGpKKd6IrMHeMwnM2HjcdBxxJ2s/gqRYePAN00mEswmuBB0+sFyfmXzJdBpxG/Gp8QxfOZwxDcdQIaiC6TgObenSpZQoUYLt27eza9cu2rZty2OPPcbs2bPZuXMnGRkZTJ48mdatW7Nx40aSkiyXh82ePZvevXsD8MYbbxAdHc2OHTtYsWIFO3bsuLb9woULExMTw8CBA5kwYQJubm707duXmTNnAvD7778THh5+s7ZENuE4fQSEuEv5vNyZ3Lcu3Sevo0bJIGqVzm86kriZI3/CximWhuseXqbTCGdUvaulUfvcZ6BPFLjJcRJHk6WzGL16NPeXuZ825dqYjpNj5UYttvk2j77d4ZaP1ahRgxEjRvDSSy/RsWNHAgMDKV++PJUqVQKgf//+TJo0iaFDh9K2bVsWLVpE9+7dWbx4Me+++y4Ac+fOZfr06SilOHz4MHv27KFmzZoAdOtmmaK3bt26zJ07F4AnnniCLl26MHToUL7++msef9x+c+FIkSlcQvnCfrzZrQaDZsawaHBTCvpJEeNQ4k/B3Keh21RLyyIh7lbrV2F6J1j1HrR4yXQacYOpO6aSlJ7EsLrDTEe5K7crCO2hUqVKxMTEsGTJEl5++WXuv//+W67bu3dvJk6cSMGCBYmIiCAgIICjR4/y7rvvEhMTg7+/P/379yclJeXac7y9LZOWuLu7k5FhGbtQunRpihYtyvLly9m0adO1o5r2IB8DhctoU70YncJLMGTWVjKz5PpMh5GRZpmLusGzUKGF6TTC2bl7WvpnbpkGB383nUZcZ+2ptfy4/0cmNJ+Ap5tMD2uN06dP4+vrS9++fRk5ciTr16/n6NGjHDp0CIDvvvuO5s2bA9C8eXNiYmL44osvrp0qj4uLI1++fPj6+nLu3DmWLl1q1X6feuop+vbtS48ePXI0TWROSZEpXMqLD1YiM0vz4W/SqN1h/Poy+AVDE+c8siEcUEAxy4xA8wdYpiUVxp1OPM2YNWN4+763Cfa1z/V9rmjnzp3Ur1+fWrVqMX78eF5//XWmTZtGjx49qFGjBm5ubgwYMACwHI3s2LEjv/zyy7VBP+Hh4YSHh1OlShX69OlDkyZNrNpv586dSUxMtOupcpC5y4ULir2SSueJa3i9axitqhY1HSdv2zkHlr8Oz6yEfHKtrLCxdZ/Crp/g8aXg6WM6TZ6VlplG/1/606ZcGx4Le8x0nBw5ffo0JUqUMB0j10VHRzNs2LAcN2+/xf+XzF0u8o7gAG8m9qnNf+bs4PjFZNNx8q5ze+CX/0Cv76TAFPbR6HnIXwaWyrWZJr296W2K+xenf/X+pqMIK7z99ts89NBDvPXWW3bflxSZwiXVLVuQwfeHMGDGFlLSM03HyXtSEiCqn6VVUbEaptMIV6UUdJ4IR9fCVvsNXhC3tuDQAjaf3cxrjV+ThutOYtSoURw7doymTZvafV9SZAqX1b9xOUKK+PPKfGnUnqu0hgXPQblmUOth02mEq/MJtBwt/+0VOLPjzusLm9l/aT/vR7/Phy0+xN/L33Qc4YCkyBQuSynFW91qsO1EHD9sPmE6Tt6xfiLEn4R275hOIvKKIlWh3buWo+dX40ynyRMS0hIYtnIYo+qPIqRAiOk4wkFJkSlcmp+3B5P71uW9ZfvZcVL++Njd0bWw9hPo+S14eJtOI/KSGt0htA3MG2CZvlTYTZbOYsyaMTQr2Yz2FdqbjiMcmBSZwuWFFPHn9a5hPDczhstJaabjuK6EM/DTkxA52TIYQ4jc9uDrkHwR1nxgOolL+3rX11xOucyLES+ajiIcnBSZIk9oX6M47cKKMXT2NmnUbg+Z6TDncaj7OIS0Np1G5FUeXpZG7ZumwuEVptO4pA1nNvD93u8tDdfdpeG6LRw9epSwsLB/3BcXF0f79u05ffo03bt3N5Ts3kmRKfKM/7StwtW0TD5dftB0FNfz2zjwDoD7RppOIvK6oJLQ7QuY96zl2mBhM2eTzjJ69WjeavYWxfyKmY7j0vLnz8+SJUsoUaIEc+bMMR3nrkmRKfIMT3c3JvapzaxNx1m5/7zpOK5j11zY9zNEfg5u8itFOIAKzaHhQIjqDxmpptO4hPTMdEb8OYJHqj5Cg+INTMdxWUeOHKF27dps3ryZhg0bUrNmTSIjI7l8+TKnT5+mVq1a127u7u4cO3aM2NhYHnroIerVq0e9evVYu3YtAK+++ir9+vWjUaNGhIaG8sUXX1zbz3vvvUe9evWoWbMm48aNAyApKYkOHToQHh5OWFgYs2fPvufvx+OetyCEEykS6MOnD9fhuZlbmPdcE0oX9DUdybnF7oclL0LfueBb0HQaIf5fk6FwYjMsGwMdJphO4/Tei36PQj6FeDLsSdNRXNb+/fvp3bs333zzDf369ePTTz+lefPmjB07lvHjx/PRRx+xbds2ACZNmsSff/5J2bJl6dOnD8OGDaNp06YcP36cNm3asHfvXgB27NjBhg0bSEpKonbt2nTo0IFdu3Zx8OBBNm3ahNaazp07s2rVKmJjYylRogSLFy8GID4+/p6/JykyRZ5Tv3xBBjSvyHMzY/hxQCN8PN1NR3JOqYkwux+0fhVK1DKdRoh/UsoyCG1qC9gRBTV7mk7ktH4+8jNrT61lVsdZrt9w/dUgO2zzzsVabGwsXbp0Ye7cuZQsWZK4uDiaN28OQP/+/enRo8e1ddeuXcsXX3zBmjVrAPj999/Zs2fPtccTEhJITEwEoEuXLuTLl498+fLRsmVLNm3axJo1a/j111+pXbs2AImJiRw8eJBmzZoxYsQIXnrpJTp27EizZs3u+Vu3a5GplGoLfAy4A19qrd++4fEywHQgf/Y6o7TWS+yZSQiAJ5uWJ+b4ZcYv2s1b3WqajuN8tIaFz0PpelDnUdNphLg5nyDo+R182xmKVrfcRI4cvHyQdze9yxcPfkGgV6DpOPZnRUFoD0FBQZQpU4Y1a9bQq1evW6535swZnnzySRYuXIi/v6UBflZWFhs2bMDHx+df69/4oUAphdaa0aNH8+yzz/5r/ZiYGJYsWcLLL79Mq1atGDt27D19X3a7gEop5Q5MAtoB1YCHlVLVbljtZSBKa10b6A18Zq88QlxPKcW73cPZ+NcloqKlUXuObZwCFw9DezkNKRxcsTBo86blqHuKmQLCWSWmJTJs5TBG1htJ5YKVTcdxaV5eXsybN49vv/2WxYsXU6BAAVavXg3Ad999R/PmzUlPT6dHjx688847VKpU6dpzH3zwQT799NNry3+fUgdYsGABKSkpXLx4kZUrV1KvXj3atGnD119/fe1o56lTpzh//jynT5/G19eXvn37MnLkSGJiYu75+7Lnkcz6wCGt9REApdQPQBdgz3XraODvj0ZBwGk75hHiH/y9Pfi8b116Td1AteKBhJW0w2kSV3R8A6x+H576HTzzmU4jxJ2F94YTm2D+c9BrhuVUurgtrTWvrH2FBsUa0KliJ9Nx8gQ/Pz9+/vlnHnjgAR566CFGjhxJcnIyFSpUYNq0aaxbt47o6GjGjRt3bbDOkiVL+OSTTxg0aBA1a9YkIyOD++67jylTpgBQs2ZNWrZsyYULF3jllVcoUaIEJUqUYO/evTRq1AgAf39/ZsyYwaFDhxg5ciRubm54enoyefLke/6elL3mdFZKdQfaaq2fyl7uBzTQWj9/3TrFgV+BAoAf0FprveV2242IiNDR0dF2ySzypoXbTzNh2X4WPd+UIF/p+3Zbiefh8+bQ6SOo1MZ0GiGsl5EK09pB1c7QdKjpNA7v+tOsf8X9ZTCJfaVdTqNIsSKmY9jF26+/jZ+fH4OHDbbZNs+fPY9XAa9ryx5uHpQKKHXLT22mB/48DHyjtX5fKdUI+E4pFaa1/secYEqpZ4BnAMqUkZlEhG11Di9BzLHLDI/axhePRuDmJkc5biozA+Y8AbX7SoEpnI+HN/SYDl/cDyXrQvl7H9Tgqjaf3fzP5XObb7Gm8yuZWZL0pHTTMewiIS2BDM8MTiWdstk246/Gcyrt/7fn6+FLqYBSt1zfnk3tTgGlr1sulX3f9Z4EogC01usBH6DwjRvSWk/VWkdorSOCg4PtFFfkZf9tX5W4q+l8tvKQ6SiO64/x4O4JLUaZTiLE3clfGiKnwE9PQYJcnXUz55PP8+KfMl2kKxj00iAef/5xoxnsWWRuBkKVUuWVUl5YBvYsvGGd40ArAKVUVSxFZqwdMwlxU14ebkzqU4dv1x9j9UH5EfyXPQth9zzo9iW4Scsn4cRCWkG9p+DHxyzToYpr0rPSGbpiKLWCpSWZsA27FZla6wzgeWAZsBfLKPLdSqnXlFKds1cbATytlNoOzAIe0/a6SFSIOygW5MNHvWsxbPZ2TsddNR3HcVw4BD8Pg57Twa+Q6TRC3LtmI8AnP/z6iukkDmXC5gmkZ6XTpGQT01GEi7DrHHBa6yVa60pa64pa6zey7xurtV6Y/fUerXUTrXW41rqW1vpXe+YR4k4aVyzMk03LM3BmDKkZmabjmJeWBFH9oOV/LdexCeEK3Nyg2+ewfwns+sl0Goew9OhSfj32K50qdnL9husi18hEw0LcYEDzChQN8Ob1n/eajmKW1rBoKBQPh4gnTKcRwrbyFYBe38GSkXB+n+k0Rh2JO8Jr618jMiSSfB7SlsyZnT9znoVRN16ZaI4UmULcQCnFhJ7hrD4Yy7ytJ03HMWfzl3B+D3T4QPoKCtdUPBxaj7ccrU+9YjqNEUnpSQxePpiWpVtS3L+46Th50qnjp+jatOs/7kuIT2Bg74GcP3OeYY8Ps2o7CfEJvPvKuzRs1tAeMe+KFJlC3ESgjyeT+9blfz/vZd/ZBNNxct+JzbDybej5LXj5mk4jhP3U6QdlGsKC5y1H7/MQrTUvr3mZYN9gahWRwT6OJDAokMk/TKZI8SJ8OO1Dq58z4csJFCl+876fGRkZtoxoFSkyhbiFqsUDeaVjVQbOiCEhJQ+NQk26YBl52/kTKFTRdBoh7K/de3D5L9hw7zOcOJPv9nzHvkv7aFNO+t46ihNHT9C9ZXd2xuykT5s+RN4XyZBHhxAfF8+Rg0fo/UDva+ueOn6KyGaRAOzetpvHOj1Gz/t78kyPZ4g9a+mS8ljnx3h7zNv0bNWTGZ/PyPXvR4pMIW4jsnYpmoQU4sWo7eSJxgdZmZaG6zV7QJUOptMIkTs8fSxH7dd8AMfWm06TK2LOxfD5js+JDI3Ew830vCwC4K+DfzHs8WG8/unrjB06lmFjhzFv1TwqVa3E5PcmUyG0Aunp6Zw8ZrmMa+n8pbTt2pb09HTeHP0mH0z7gKjlUUT2ieTjNz++tt30tHSi/ojisUGP5fr3JD9ZQtzBKx2r0fPzDXy+6ggDmrv4kb0VbwAaWr5sOokQuatAOeg62fIh65mVEFDUcCD7uXD1AsNXDqdDhQ4U8ClgOo5D6f1z7zuvlEM/dPzhjutcuniJIf2G8NH0jyhSvAhX4q9Qr0k9ADr37syIJ0YA0KZLG5bOX8pTLzzF0nlLmfDlBI4eOsqhvYd4uvvTAGRlZlG46P/Pa9O2a1ubf0/WkiJTiDvw9nDns0fq0GXiWmqWCqJxxX9NSuUa9v8C23+AZ/4Ed/nVIPKg0Acs12jOeQIeXeCS74OMrAyGrRhGjcI1CC0QajqOw7GmILSHgIAAipUqRsyGGNpG3roobNu1LSOeGEHrDq1RSlG2YlkO7DlASJUQZi6dedPn5PM11zFATpcLYYWS+fPxYa9whv6wjbPxKabj2N6lI5aBDz2+AX+ZulXkYc1fssxz/sd400ns4sMtH5KckUzTUk1NRxHX8fTy5OPpH7MwaiGrfl1FYP5AtqzfAsCiqEVENI4AoEz5Mri5uzHl/SnXjlCWDynPpYuX2LZ5GwDp6ekc2ucYUyRLkSmElZqFBtOvYVkGfR9DWkaW6Ti2k5YMsx+1/HEtXd90GiHMcnOHh76E3fMt06m6kN+P/c7iI4vpXLEzbkr+/DsaXz9fJn0/iW+nfMsDHR/g/VffJ/K+SPbv2s+AkQOurde2a1t+/vFn2nS1DNjy9PLkw68/5MPxH9KteTe6t+jOtk3bTH0b/6CcbTBDRESEjo6ONh1D5FFZWZqnv42mTCFfxnWqbjrOvdMaFgyCjFTLH1bphymExaktMLMnPLEMCoeYTnPPjsYf5ZElj9Cjcg9K+pe84/o9K/e89nXU/ih7RjOqZGZJgooEmY7hNOLPx3PK/dS1ZV8PXzpU6HDLPxzyUUaIHHBzU3zQsxZ/7D3Pwu2nTce5d1u+gVMxlnZFUmAK8f9K1oX7X4bZfS3Tqzqx5PRkhiwfQrNSzawqMIWwFSkyhcihIF9PPnukDq8u3M3Bc048S8ipGFj+P8vUel5+ptMI4XjqPgYlasOiF5y2UbvWmrHrxpLfJz91itQxHUfkMVJkCnEXwkoGMapdFZ6dsYXE1NyfReGeJV+CqP7Q8UMoLCNMhbgppaDD+5a5zTd/aTrNXZm1bxY7Y3fStlxblJyt+BetdN7ogWwDWmu0ytn/lRSZQtylnhGlqV+uIP+Z42SN2rMy4aenoHoXqNbFdBohHJuXL/T61jLN6onNptPkyPbY7UzcNpFuod3wdPc0HcchpegUslKynOt3uAFaa7JSskjROeuukqMmYEqpQMu+tBOfIxTCdl7tXJ0eU9bz1Zq/eKpZBdNxrPPnu5CRAq1eNZ1ECOdQsAJ0mWiZbvWZlU7R5utSyiWGrRhG+/LtKZivoOk4Duuy22W4Aj6JPigtR3pvRStNik6x/H/lgFVFplKqHvA1EGBZVHHAE1rrLTlOKoQL8fG0NGqP/GwtNUvlp355B/9lfvA3iPnW8ofSBRtNC2E3ldvByc3w0xPQb76l1ZGDyszKZMTKEVQpWIXKBSubjuPQtNJccr9kOobLsvZ0+VfAc1rrclrrssAgYJr9YgnhPEoX9OW9HuEMnhXD+SsO3Kj98jGYPxC6f+3SU+YJYTctxwAKlr9uOsltfbL1E+JS42heurnpKCKPs7bIzNRar/57QWu9BnDC0Q5C2EfLykXoXa8Mz3+/lfRMB2zUnp4CUY9C02FQtpHpNEI4Jzd3y4e0HVGwb7HpNDe14vgK5h2aR5eQLtJwXRhn7U/gn0qpz5VSLZRSzZVSnwErlVJ1lFLSE0EI4IVWoeTzdOfdpftMR/m3X0ZCgXLQ8DnTSYRwbn6FLdOvLhwCFw+bTvMPxxOO8/Lal4kMicTPU9qSCfOsvSgrPPvfcTfcXxvQwP02SySEk3JzU3zUqxYdP11D7TIFaF+juOlIFjHfwfEN8PRyabguhC2UrgctRlnODjz5m2UEumFXM64yePlgmpRoQqmAUqbjCAFYWWRqrVvaO4gQrqCAnxeT+9bh8WmbqVwsgIrB/mYDndkOv4+Dx38B7wCzWYRwJfWeghObYPFw6DrZ6Ac4rTXj148nwCuAiGIRxnIIcaPbni5XSvXN/nf4zW65E1EI51KzVH5ebFOZAd9tIclko/arl2F2P2j/HgTLCFMhbEop6PSR5YPcFrPjYOccmEPMuRjalW8nDdeFQ7nTNZl/X9QRcIubEOImetcrTXjp/Iyeu9NMk9+sLJj7LFRuD2EP5f7+hcgLvPyg53ew/A04Zaaj364Lu/go5iO6hXbDy93LSAYhbuW2p8u11p9n/zs+d+II4RqUUrzeNYxun61j+rqjPNakfO4GWP0+pMTDg//L3f0KkdcUDrEc0Yx6zNJ/1q9Qru36csplXljxAm3KtaFQvtzbrxDWsmp0uVIqWCn1X6XUVKXU13/frHheW6XUfqXUIaXUqFus01MptUcptVsp9X1OvwEhHJWPpztT+tbl0+WH2HIsZ7Mk3JPDyy3zLPf4BmQqOSHsr2onCIuEuU9Zpm3NBZlZmbz454tUKlCJqoWq5so+hcgpa1sYLQCCgN+Bxdfdbkkp5Q5MAtoB1YCHlVLVblgnFBgNNNFaVweG5ii9EA6uTCFf3u1ek+e/j+FCYqr9dxh3wnKa/KEvIdBBRrcLkRfcPxYy0y1znOeCz7Z/xsWrF2lRukWu7E+Iu2FtkemrtX5Jax2ltf7p79sdnlMfOKS1PqK1TgN+ALrcsM7TwCSt9WUArfX5HKUXwgm0qlqUh+qUYvD3W8mwZ6P2jFT4sT80fh7KN7PffoQQ/+buYWnUvnUGHFhm112tPrmaH/f/KA3XhcOz9qfzZ6VU+xxuuyRw4rrlk9n3Xa8SUEkptVYptUEp1fZmG1JKPaOUilZKRcfGxuYwhhDmDXugEu5uivd/O2C/nSwdDQHFofEQ++1DCHFr/kWgxzRYMAguH7XLLk5eOcno1aPpEtIFfy/DLdKEuIM7tTC6opRKAF7AUmheVUolXHf/vfIAQoEWwMPAF0qp/DeupLWeqrWO0FpHBAcH22C3QuQudzfFx71rsXDbaX7dfdb2O9j+AxxZCV0/k4brQphUpiE0G2FpH5aeYtNNp2am8sKKF2hYoiFlAsvYdNtC2MNti0ytdYDWOjD7Xzetdb7rlgPvsO1TQOnrlktl33e9k8BCrXW61vov4ACWolMIl1PI35uJfWozeu5Ojl5Ist2Gz+6CZf+FXjPAJ8h22xVC3J0GA6BQCCx50aabfX3D63i7e1O/WH2bblcIe7F2dHkTpZRf9td9lVIfKKXu9DFqMxCqlCqvlPICegMLb1hnPpajmCilCmM5fX4kB/mFcCq1yxRgaOtQBszYwtU0G4xCvRoHUf2g7dtQtNqd1xdC2J9S0PlTy4xAMd/aZJNzD8xl/en1tK/QXhquC6dh7TWZk4FkpVQ4MAI4DHx3uydorTOA54FlwF4gSmu9Wyn1mlKqc/Zqy4CLSqk9wApgpNb64l18H0I4jb4Ny1K1eCBj5t1jo3atYf5zULEV1Oxpu4BCiHvn7W85u/D7q3B62z1tau/FvUzYMoFuod3wdve2TT4hcoG1RWaGtvw17AJM1FpPwooZfxZZTMAAACAASURBVLTWS7TWlbTWFbXWb2TfN1ZrvTD7a621Hq61rqa1rqG1/uFuvxEhnIVSijciw9h9OoGZG4/f/YbWfgSJ56DNG7YLJ4SwneBK0OF9iHoUki/d1SbiU+MZsnwID5Z9kGBfGZMgnIu1ReYVpdRooC+wWCnlBkiXZyHukq+XB1P61eXD3w6w7URczjfw1yrYMBl6TgcPObIhhMOqHglVOsK8Zy3TveZAls7iP6v+Q/mg8lQvXN1OAYWwH2uLzF5AKvCk1voslkE879ktlRB5QPnCfrzZrQaDZsZwKSnN+icmnIafnoZuUyGolP0CCiFs44HxkHoFVk/I0dM+3/45ZxLPcH+Z++0UTAj7umORmT1zzyyt9Qda69UAWuvjWmvbXM0sRB7WpnoxOoYX54UftpKZZcX1mRlpENUf6j8NFVrYO54QwhbcPS3TvEZ/DYd+t+op606t4/t939M1tCvubu72zSeEndyxyNRaZwJZSinpjSKEHYx8sDLpmVl8/LsVjdp/ewV8C0HT4fYPJoSwnYBi8NBXMG8gxN3+WuwziWd4afVLdK7YmQCvOw5/EMJhWXu6PBHYqZT6Sin1yd83ewYTIq/wcHfj04fr8OOWkyzfd+7WK+6cY5muLnIKuMlUckI4nXJNoPFgy9mIjNSbrpKWmcaQFUOoV6we5YLK5W4+IWzM2r9Uc4FXgFXAlutuQggbCA6wNGr/z5wdnLiU/O8Vzu+FX/4DPb+FfP+aFEsI4SwaD7ZcS7101E0ffmvTW7grdxoWb5jLwYSwPauKTK31dCAK2KC1nv73zb7RhMhb6pYtyKCWIQyYsYWU9OsatackWKaoe/B1KF7TXEAhxL1TCrpMsnSI2DbrHw8tPLSQVSdX0bFCR2m4LlyCtTP+dAK2AUuzl2sppW6cvUcIcY8ea1yO8oX9GLtgl+UOrWHBIMtptlp9zIYTQtiGT6ClUfuvY+DsTgD2X9rP25vftjRcl7ZkwkVYe7r8VaA+EAegtd4GVLBTJiHyLKUU7zxUk5jjcczefBzWT4L4E9D2HdPRhBC2VKSq5X09ux8J8ScYsnwIrcu0pohvEdPJhLAZa4vMdK11/A335ayrrBDCKn7eHkzpW5dff5lH+uqPLNdhevqYjiWEsLWaPcgKac2YBT0pHVCKGsE1TCcSwqasLTJ3K6X6AO5KqVCl1KfAOjvmEiJPC8mXyCSviYzKHECcVzHTcYQQdvJ1qRBiM5J4LinDdBQhbM7aInMwUB3LrD+zgARgqL1CCZGnZabDj4/j0/ApCtRsz7DZ28iyplG7EMKpbDyzkW/2zKBTWH+qHlhBkbN7TUcSwqasHV2erLUeA7QCWmqtx2itU+wbTYg86vdXwcsP7hvJS+2qkJiawafLD5lOJYSwobNJZxn550g6hXTCK38ZNjZ+ivrrviRf8iXT0YSwGWtHl9dTSu0EdmBpyr5dKVXXvtGEyIN2z4e9Cy3zkru54enuxqQ+dfh+0zH+PBBrOp0QwgbSM9MZumIodYrWoUKQZQxtbLGqHKzcikarp6Ay5dS5cA3Wni7/CnhOa11Oa10OGARMs1sqIfKi2AOweLhloI9vwWt3Fwn04ZPetRkRtZ2Tl2/SqF0I4VTe2fwOWmsal2j8j/v3V2tHSr5AwrdGGUomhG1ZW2Rmaq1X/72gtV4DyEctIWwlNRFm94VW46BE7X893KBCIZ69rwLPzYz5Z6N2IYRTWXJkCcuPL6djxZs0XFeKzQ2foNjpXZT5a4OZgELY0G2LTKVUHaVUHeBPpdTnSqkWSqnmSqnPgJW5klAIV6c1LBoCpetB3f63XO2pZuUpVSAfr/28JxfDCSFs5dDlQ7y+8XUiQyPx8bh5W7J0L1/WNxtIrZgfCIw7lcsJhbCtOx3JfD/7Fg5UAsZhacxeFahl12RC5BUbP4cLB6H9hNuu9nej9g1HLjJny8lcCieEsIXEtEQGLx9MqzKtKOZ3+7Zk8QVKs61OLxqv/gyP9Ku5lFAI2/O43YNa65a5FUSIPOn4Blg9AZ78DTzz3XH1AB9PpvStS++pG6haPIDqJYJyIaQQ4l5orRm9ZjTF/YtTM7imVc85Xr4RhWMPUW/DNNY3HWiZ81wIJ2Pt6PL8SqkhSqkPlFKf/H2zdzghXFriefjxcegyCQqWt/pplYoGMK5TNQbOiCH+arodAwohbOGb3d9wOO4wD5R9IEfP21a3N75Jl6i071c7JRPCvqwd+LMEKAfsBLZcdxNC3I3MDJjzBNR+BCq1yfHTu9Qqyf1VijAiShq1C+HIos9G89XOr4gMjcTD7bYnD/8ly92Tdc0GUnnvMgqf22+nhELYj7VFpo/WerjWeprWevrfN7smE8KVLX8N3D2hxei73sR/21flUlIak/88bMNgQghbOZ98nhF/jqBjxY7k985/V9u46leITY2epOG6qfgkx9k4oRD2ZW2R+Z1S6mmlVHGlVMG/b3ZNJoSr2rsIds2Fbl+Cm/tdb8bLw43PHqnLN+uOsubgBRsGFELcq/SsdIatGEat4FpUzF/xnrZ1rnh1Doe2pNHaKags6R4onIe1RWYa8B6wnv8/VR59pycppdoqpfYrpQ4ppUbdZr2HlFJaKRVhZR4hnNPFw7BoKPSYDn6F7nlzxYJ8+LhXLYZFbeN0nIxCFcJRvL/5fdKy0mhSsolNtre3envSPH2puXWOTbYnRG6wtsgcAYRkz/hTPvtW4XZPUEq5A5OAdkA14GGlVLWbrBcAvABszFl0IZxMWpKl4XrL/0Ip283K2jikME80Kc9zM2NIy8iy2XaFEHdn2dFlLDu2jE4VOv274frdUm5savwkJU5uo9SxzbbZphB2Zm2ReQjI6Xx29YFDWusjWus04Aegy03W+x/wDpCSw+0L4Ty0hp+HQfFwiHjC5psf0LwCRQK8eX2xNGoXwqQj8UcYv348kSGR5LOiLVlOpHv5sb7Zc9SJnklA/GmbblsIe7C2yEwCtmXP+mNtC6OSwInrlk9m33dN9mxCpbXWi2+3IaXUM0qpaKVUdGxsrJWRhXAgm7+Ec7uhwwd26XenlGJCz3BWHYhl/laZJUQIE5LTkxn8x2BalGpBcf/idtlHXMEy7KjVPbtRuxybEY7N2iJzPvAGsA4btTBSSrkBH2A5FX9bWuupWusIrXVEcHDwvexWiNx3MhpWvg09vwUvX7vtJtDHk8l96/Laz3vYdzbBbvsRQvyb1poxa8ZQxLcItYvWtuu+jlZsyoXgUCI2fmM5SyKEg7KqyMxuVxQFbMhBC6NTQOnrlktl3/e3ACAMWKmUOgo0BBbK4B/hUpIuwI+PQedPoNC9jTC1RtXigbzSsSoDZ8SQkCKN2oXILTP2zmDfpX08WO7BXNnf1og++F85T+j+33Nlf0LcDWtn/OkEbAOWZi/XUkotvMPTNgOhSqnySikvoDdw7Tla63itdeHswUTlgA1AZ631HUetC+EUsjLhpyehRneo0iHXdhtZuxRNQgox8sftaDnKIYTdbT2/lSnbp9xVw/W79Xej9ip7llDo/MFc2acQOWXt6fJXsQzkiQPQWm8Dbju6XGudATwPLAP2AlFa691KqdeUUp3vOrEQzmLFm5ZCs+XLub7rVzpW42xCKlNXHcn1fQuRl1y4eoFhK4bRoUIHCvgUyNV9J/sHs7nB4zRcOxXvq/G5um8hrGFtkZmutb7xJ/iOvVK01ku01pW01hW11m9k3zdWa/2vo6Ba6xZyFFO4jP2/wPZZ0H0auOfOkY3reXu489kjdfhi9V+sP3wx1/cvRF6QkZXB8JXDCSscRmiBUCMZzpasyV8Vm9Jw7eeorEwjGYS4FWuLzN1KqT6Au1IqVCn1KZZBQEKIG136CxY8Dz2+AX9zA9VK5s/Hh73CeeGHrZxLkFGoQtjaRzEfkZSeRLNSzYzm2BPWiSx3T8K2zzWaQ4gbWVtkDgaqA6nALCABGGqvUEI4rfSrENUPmv8HStc3nYZmocH0a1iWQTNjSM+URu1C2Mofx/5g0eFFdK7YGTdl7Z9SO3FzY2Pjpyl9PJqSJ+6p8YsQNmXt6PJkrfUYrXW97FZCY7TWcmhEiOtpDYtHQOHKUP8Z02muGdQyhKB8nry1ZJ/pKEK4hKPxRxm7biyRoZH4etqvLVlOpHn7s77pAOpu+g7/hLOm4wgBwG0vFrvTCHKttQzgEeJvMdPh1BZ46g+7NFy/W25uig961qLTxDXUKZufjjVLmI4khNNKTk9myPIhNCvVjJL+Je/8hFx0uVB5dtWMpPHqyfzR5r9kenibjiTyuDuNSGiEZdaeWVjmFnecv5xCOJJTMfDHa/DEMvD2N53mX4J8PfnskTo8+vUmKhcNILRogOlIQjgdrTXj1o0jv09+6hSpYzrOTR0JuY9CFw5Td+O3bGr8lEN94BV5z51OlxcD/oulafrHwAPABa31n1rrP+0dTginkHwJovpbpowsbGaEqTXCSgYxql0VBszYQmJqhuk4QjidH/b9wI7YHbQt1xblqMWbUsTUe4Sg+FNUPLjCdBqRx922yNRaZ2qtl2qt+2OZkecQlhl6ns+VdEI4uqxMmPs0VOsM1buaTnNHPSNKU69cQV6as0MatQuRA9tjt/Pptk/pFtoNT3dP03FuK9PDm3XNBlJt5yIKXjhsOo7Iw+448Ecp5a2U6gbMAAYBnwDz7B1MCKew6j1IS4bWr5pOYrVXO1fn+KVkvl571HQUIZzCpZRLDFsxjPbl21MwX0HTcaySFFCU6Ab9abTmc7xSrpiOI/Ko2xaZSqlvgfVAHWB89ujy/2mtT93ueULkCQd/hy3fQI9p4OBHNq7n42lp1D555SE2H71kOo4QDi0zK5MRK0dQpWAVKhesbDpOjpwpVYtj5RrScO1UyJIWZiL33elIZl8gFHgBWKeUSsi+XVFKJdg/nhAO6vIxmD8Aun8NAcVMp8mx0gV9ea9HOIO/38r5K9KNTIhb+WTrJ8SlxtG8dHPTUe7K7ppdAE3Yjvmmo4g86E7XZLpprQOyb4HX3QK01oG5FVIIh5KeAlGPQpMXoGxj02nuWsvKRehVrzTPf7+VDGnULsS/rDyxknkH59ElpIv5hut3Sbu5s7HJM5Q9up7iJ7eZjiPyGOd81whh0i//gQJloZHzj38b0ioUH0933l2233QUIRzKiYQTjFkzhq6hXfHz9DMd556k+gSyvskAIjZOx+/KOdNxRB4iRaYQObF1BhxbB10muUT/OXc3xce9arFk5xl+2XnGdBwhHMLVjKsMXjGYJiWaUDqgtOk4NnEpuCJ7wjrRePVk3DNSTccReYQUmUJY68wO+G0s9JoB3q7TzLyAnxefPVKHMfN3cTg20XQcIYzSWjN+/Xj8Pf2JKBZhOo5NHa7UkvigktTZPNMyDa4QdiZFphDWuHoZovpBu3ehSBXTaWyuZqn8vPhgZQbO2EJymjRqF3nXnANziDkXQ7vy7Ry34frdUootDR6lwKWjVDi0ynQakQdIkSnEnWRlwbwBUKkt1OhuOo3dPFy/NDVL5WfUTzulUbvIk3Zf2M2HMR8SGRqJl7uX6Th2YWnU/hxhO+ZR4OJfpuMIFydFphB3suZ9y5HMB/5nOoldKaX4X5cwDp5P5Nv1x0zHESJXxaXEMWTFENqWa0vhfIVNx7GrxMBibKnfj0ZrpkijdmFXUmQKcTuHl8OmL6HHN+Dhmkc2rpfPy50pfevw6fKDbDl22XQcIXJFZlYmL/75IqH5Q6laqKrpOLniVOm6nCwTQYN1X0qjdmE3UmQKcSvxJy2nyR/6AgJLmE6Ta8oW8uPtbjV5/vsYLiTKKFTh+iZvn0zs1VhalmlpOkqu2hneDbesdKrtWmQ6inBRUmQKcTMZqZaG6w2fg/L3mU6T61pXK0q3OiUZMksatQvXtvrkaqL2R9E1pKvTNly/W9rNnQ1NnqX84TUUO7XDdBzhgvLWO0oIay37LwQUt8zqk0cNf6AySsH7vx0wHUUIuzh55SSj14ymS0gX/L38TccxIjVfEBuaPEO9jdPwTYw1HUe4GCkyhbjR9tlweAV0/cwlGq7fLXc3xSe9a7Ng6yl+3X3WdBwhbCo1M5UXVrxAw2INKRNYxnQcoy4WCWVftfY0Xj0Zt8x003GEC5EiU4jrndsNy0ZDr+/AJ8h0GuMK+Xsz8ZE6jJ67k6MXkkzHEcJmXt/wOt7u3tQvXt90FIdwsHJrEgOKUDv6e9NRhAuxa5GplGqrlNqvlDqklBp1k8eHK6X2KKV2KKX+UEqVtWceIW4rJR5m94M2b0HR6qbTOIw6ZQrwQutQBszYwtW0TNNxhLhncw/MZf3p9bSv0N71Gq7fLaWIbvAYhWMPUu7wGtNphIuwW5GplHIHJgHtgGrAw0qpajesthWI0FrXBOYA79orjxC3pTXMfw4qtoTwXqbTOJx+DctSpVgAY+ZJo3bh3PZe3MuELRPoFtoNb3dv03EcSoanD+uaPUfNbXNMRxEuwp5HMusDh7TWR7TWacAPQJfrV9Bar9BaJ2cvbgBK2TGPELe29mO4cgbavGk6iUNSSvFmtxrsPp3AzI3HTccR4q7Ep8YzZPkQHiz7IMG+wabjOKQrQSWIiXjEdAzhIjzsuO2SwInrlk8CDW6z/pPAL3bMI8TN/bXKUmRGfg7n95pO47B8gckP5qPHnD2EeZ2jVjHXb04vXEeWzuI/WydQ3qcw1T0CIe7EnZ+UR50MKmY6gnAR9iwyraaU6gtEAM1v8fgzwDMAZcrk7VGAwsYSTsOPj0PNXpBwynITt1QBeKOWF4N+TmdRq0sU9JZT58I5fH5+PWeunKRPwdpSYAqRS+x5uvwUUPq65VLZ9/2DUqo1MAborLW+6fQiWuupWusIrXVEcLCc4hA2kpEGs/tCmYYQXNl0GqfRtmQaHUul8MLGIDKlxhROYF3iUWZe2kqX/NVxz2MN122h6JndpiMIJ2XPd9tmIFQpVV4p5QX0BhZev4JSqjbwOZYC87wdswjxb7+OgawMqHi/6SROZ2RYEukaPt7jZzqKELd1Ji2Bl04uoUtQNQLdfUzHcUr1131BvqSLpmMIJ2S3IlNrnQE8DywD9gJRWuvdSqnXlFKds1d7D/AHflRKbVNKLbzF5oSwrZ1zYM8CqNEL5MhGjnm4wacN4ok66sPyM3JtpnBMaVkZDDmxgHp+pSnnXdB0HKe1v3g1Gq+aJI3aRY7Z9ZpMrfUSYMkN94297uvW9ty/EDd1fh8sHg71ngYvX9NpnFawj2ZigwQGrA9i3v2XKO0nc5wLx/LWmRW440ZDX7mW/14cKF6dQomx1Ir+npgG/U3HEU5EDuGIvCX1CszqDVU6QJB0zLpXEYXTea5KEgPWB5EifdqFA1l4eTerEo/QIaiqNFy/V0qxuUITipzZRdkj60ynEU5EikyRd2gN856FwJJQSqaSs5XHQ65S3j+TcVsDTEcRAoD9KbG8fXYlkflr4OPmEE1UnF6GhxfrQlsQvuUHgi7L6HxhHSkyRd6xfhKc2wPVutx5XWE1peCdiCtsuejJ7L9kYIUwKyEzhSHHF9A6MISinv6m47iUBL8CbCtXj0arJuGZlnznJ4g8T4pMkTccWwer3oPafcHd03Qal+PnoZnSKJ53dvqz67IcORJmaK0ZffIXSnsFUSNfcdNxXNLx4IqcCyxCvXVfgpbrsMXtSZEpXN+VcxD1qKXhum8h02lcVkhgJv+rc4WBG4KIS5Nr4ETu++rCJo6lXaZVQKjpKC5tW9l6+CSep/KepaajCAcnRaZwbZnplobrpepBkaqm07i8DqVSebBEKsM2BZIljdpFLtqUdJxvLm6ha/4wPKQtmV1pN3fWhzYndO8ygs/KVLzi1uSdKFzbb2MhPRlCpFtWbhlVI5HEdMXEvdIeSuSOc+lXGHliMZ2CqhIkDddzxVVvPzaFNKPB2qnkS75kOo5wUFJkCte1e76l6Xr4w9JwPRd5usHEhgnMOJKPVWelUbuwr/SsTF44vpDaviWp4C2Xw+Sm8/lLcKhYZRqu+gyVmWE6jnBA8pdXuKYLB2HRC5aBPl4y9WFuK5ovi08aJDB8cwAnk+TXjLCfd8+uJAtNY7+ypqPkSftK1CBNQXjMbNNRhAOS3/7C9aQmWhquV2oD+WWmD1MaBqfzTKVkBm0IIlUatQs7+CV+H39cOUQnabhujlJsqtiE4ie3UvroRtNphIORIlO4Fq1hwfPgFwylG5pOk+c9XekqJXwzeW279CsUtnU45SL/O/0HkfnD8HGTtmQmpXt4s65Sc2pHzyQw7pTpOMKBSJEpXMvGz+F0DFSPtHQJF0YpBe9GXGH9eS9+OiYDMoRtJGamMvj4fO4PqEgxT5lpyhHE+xVie9kIGq+aiEf6VdNxhIOQIlO4jhObYOVbULsfuMuAE0cR4Glp1P7Gdn/2xEmjdnFvtNaMObWUYp4BhPuWMB1HXOdYcAjn/QtTb91XlrNKIs+TIlO4hsRYSz/MGj3Ar7DpNOIGlYIyGVfrCgPXBxIvjdrFPZh+cQsHUy7yQKA0XHdE28rVxzfhNJX2/mo6inAAUmQK55eZAVH9oHgtKFrddBpxC13KpNKiWBojNkujdnF3opNO8mXsJiLzV8dDuZuOI24iy82d9aEtqLxnCYXPHzAdRxgmRaZwfn+8BinxltHkwqGNCU/kYqobU/ZLo3aRM7HpiYw48TMdgqqQ3yOf6TjiNpJ9/NlUsQkN10zB52qc6TjCICkyhXPbtxi2fw/hfaThuhPwcoPPGsYz7VA+1p6TEcHCOuk6k2EnFhHuW5wQH7kcxhmcK1CKw0VCLI3as6RRe14lf5WF87p4GOY/B7UeAW9pkeMsivtm8XH9BIZuDuRMsvwKEnf2wdlVpOgMmvqVMx1F5MDekuFk6AxqxvxoOoowRH7DC+eUlgyzHobQB6BAOdNpRA41LpLO4yFXeW5DEGlZptMIR/Zr/AF+id9P56Bq0nDd2SjFxorNKHEimlLHo02nEQZIkSmcj9awcDDkyw9lGptOI+7SgMrJFPLO4g1p1C5u4UjqJV49/RuRBcLIJw3XnVK6pzfrQ5tTZ9O3BMSfNh1H5DIpMoXz2fwlnNgIYQ9Jw3Un5qbg/XoJ/HnOi/nHvU3HEQ4mOTONwcfn0yKgAiU8A03HEfcgzr8wO8rUofGqSbinp5iOI3KRFJnCuZzcAstfh9qPSsN1FxDkpZncMJ7XtgWwP15a0ggLrTUvn15GsIcftX1Lmo4jbOBokUpc8C1AxIZp0qg9D5EiUziPpIsw+xEI6wb+wabTCBupmj+TMeGJDFwfxJV0OTItYMbFrey9ep4HAyuZjiJsaGu5+gRcPk7Ivt9NRxG5RIpM4RyyMuHH/lA0DIrVNJ1G2NhDZVNoVCSNkdEBcpAjj9uWfJopseuJzF8dT2m47lKy3D1YV6kFVXf/TKHYg6bjiFxg1yJTKdVWKbVfKXVIKTXqJo97K6VmZz++USlVzp55hBNb/gYkXYBKbU0nEXYyNjyRM8nufHFAGm3nVRcykhh2YhHtg6pSwEMa9ruiZJ8ANldsTMPVk/G+Gm86jrAzuxWZSil3YBLQDqgGPKyUqnbDak8Cl7XWIcCHwDv2yiOc2P6lEDMdavUBNzmy4aq83eGzRvFMPeDLhlgZSZzXZOgshp9YRHWfolSShusu7WyB0hwNrkjDNZNRWZmm4wg7UtpO56aUUo2AV7XWbbKXRwNord+6bp1l2eusV0p5AGeBYH2bUEXK++ue42vYJbNwUFfjLL0wvfxMJxG54GIq7LmkCJRxXXlKOklo7UGRhF4ouZLLuEUj+lz7utP739t8+246i7FXJ+Kn0ohX0j3AWSkF9UavuOXF9PYsMrsDbbXWT2Uv9wMaaK2fv26dXdnrnMxePpy9zoUbtvUM8Ez2Yhiwyy6hhaMqDFy441rC1cjrnvfIa573yGvu/C5orW96LZtHbie5G1rrqcBUAKVUtNY6wnAkkYvkNc+b5HXPe+Q1z3vkNXdt9jwncQoofd1yqez7brpO9unyIOCiHTMJIYQQQohcYM8iczMQqpQqr5TyAnoDC29YZyHQP/vr7sDy212PKYQQQgghnIPdTpdrrTOUUs8DywB34Gut9W6l1GtAtNZ6IfAV8J1S6hBwCUsheidT7ZVZOCx5zfMmed3zHnnN8x55zV2Y3Qb+CCGEEEKIvEv6RAghhBBCCJuTIlMIIYQQQticwxeZSqmjSqmdSqltSqno7PsKKqV+U0odzP63gOmcwnaUUvmVUnOUUvuUUnuVUo3kNXddSqnK2e/vv28JSqmh8pq7NqXUMKXUbqXULqXULKWUT/ZA0Y3ZUw3Pzh40KlyEUuqF7Nd7t1JqaPZ98j53YQ5fZGZrqbWudV0vrVHAH1rrUOCP7GXhOj4GlmqtqwDhwF7kNXdZWuv92e/vWkBdIBmYh7zmLkspVRIYAkRorcOwDA7tjWVq4Q+zpxq+jGXqYeEClFJhwNNAfSy/1zsqpUKQ97lLc5Yi80ZdgOnZX08HuhrMImxIKRUE3Iel8wBa6zStdRzymucVrYDDWutjyGvu6jyAfNk9kn2BM8D9wJzsx+U1dy1VgY1a62StdQbwJ9ANeZ+7NGcoMjXwq1JqS/b0kgBFtdZnsr8+CxQ1E03YQXkgFpimlNqqlPpSKeWHvOZ5RW9gVvbX8pq7KK31KWACcBxLcRkPbAHisgsQgJNASTMJhR3sApoppQoppXyB9lgmY5H3uQtzhiKzqda6DtAOGKSUuu/6B7Obt0sfJtfhAdQBJmutawNJ3HD6RF5z15R9/V1n4McbH5PX3LVkX3fXBcuHyhKAH3DTuY+Fa9Ba78VyOcSvwFJgG5B5wzryPncxDl9kZn/iRWt9Hst1WvWBc0qp4gDZ/543l1DY2EngpNZ6Y/byHCxFp7zmrq8dEKO1Ppe9LK+562oN/KW17mDgTQAABBtJREFUjtVapwNzgSZA/uzT53DzqYiFE9Naf6W1rqu1vg/LNbcHkPe5S3PoIlMp5aeUCvj7a+BBLIfcr5+Osj+wwExCYWta67PACaVU5ey7WgF7kNc8L3iY/z9VDvKau7Lj/9fe/YRYVYZxHP/+KqOsSJJcFIhoUoRBmoQLXQQlEVFGoIvc2B8koRAhiHb9t9y0CgoJA5VwkZuihMRAJNRw/DOJlWS1aFWBNEVlzNPivIPDGGbOHeZP3w8Mc8975z3nnXs5l+c+73vOAyxJMj1JOHue76ErMQy+51NOklnt92y69Zjb8Tyf0iZ0xZ8kc+myl9BNo26vqpeTzAR2ALOB74CVVfXzOA1TPZbkdmAzcDnwDbCG7guR7/kU1b5Efg/MrarTrc3zfApL8jywCvgL6AMep1uD+R5wXWtbXVV/jNsg1VNJ9gIzgTPAhqra7Xk+tU3oIFOSJEmT04SeLpckSdLkZJApSZKknjPIlCRJUs8ZZEqSJKnnDDIlSZLUcwaZkjRCkhlJ1l1k3/WtbN7Q9nO9G5kkTR7ewkiSRkgyB/igqhZcRN9vgcVV9WPbHqiqq3s6QEmaBMxkStK5NgLzkhxOsinJM0kOJjnabiI+VJHswyRHkvQnWZXkabpa3HuS7EmyEbiy7Wdb67eh/X1/kvWtbU6SE0m2JPkqybYkdyfZl+TrJHcOO+Y7SQ4k6UvyYGufnmRHkuNJdibZn2TxeLxwkjTETKYkjTA8k5lkOV2pw7VA6MrgvQ5cD9xbVU+0PtdW1enzZTKT3AFsAZa0fe0HVtPVcT4JLAS+AA4CR4DHgAeANVW1IskrwPGq2ppkBnCg9XkSmF9Va5MsAA4DS6rq87F7lSTp/MxkStL5LW8/fcAh4BZgPnAMuCfJa0mWDZXD/BdLgZ1V9WtVDQDvA8vac6eq6lhVDdIFmrurywIcA+YMG8uzSQ4DnwJX0JXjW0pXjpGq6geOju5flqTRu2y8ByBJE1yAV6vqrXOeSBYB9wEvJdldVS+M4jjDa3QPDtse5OxndYCHq+rLEeMYxWElaWyYyZSkc/0CXNMe7wIeTTI05X1jkllJbgB+q6qtwCZg0T/0BTiTZFp7vBdY0dZQXgU81Nou1C7gqbSoMsnC1r4PWNnabgVu+w/7lKQxYSZTkkaoqp/aRTf9wEfAduCzFtsN0K2jvAnYlGQQOEO3LhLgbeDjJD9U1V1t+2iSQ1X1SJItdGspATZXVV9bA3ohXgTeaPu7BDgF3A+8Cbyb5Dhwgm66/UKm7yVpzHjhjyRNckkuBaZV1e9J5gGfADdX1Z/jPDRJ/2NmMiVp8ptOd9ukaXTrNtcZYEoab2YyJUmS1HNe+CNJkqSeM8iUJElSzxlkSpIkqecMMiVJktRzBpmSJEnqub8BhlntrX816OsAAAAASUVORK5CYII=\n",
                "text/plain": "<Figure size 792x216 with 1 Axes>"
              },
              {
                "output_type": "display_data",
                "metadata": {
                  "tags": [],
                  "needs_background": "light"
                },
                "image/png": "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\n",
                "text/plain": "<Figure size 792x216 with 1 Axes>"
              },
              {
                "output_type": "display_data",
                "metadata": {
                  "tags": [],
                  "needs_background": "light"
                },
                "image/png": "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\n",
                "text/plain": "<Figure size 792x216 with 1 Axes>"
              }
            ],
            "_view_module": "@jupyter-widgets/output",
            "_model_module_version": "1.0.0",
            "_view_count": null,
            "_view_module_version": "1.0.0",
            "layout": "IPY_MODEL_065cae69771245a698ac1bd44890a94a",
            "_model_module": "@jupyter-widgets/output"
          }
        },
        "065cae69771245a698ac1bd44890a94a": {
          "model_module": "@jupyter-widgets/base",
          "model_name": "LayoutModel",
          "state": {
            "_view_name": "LayoutView",
            "grid_template_rows": null,
            "right": null,
            "justify_content": null,
            "_view_module": "@jupyter-widgets/base",
            "overflow": null,
            "_model_module_version": "1.2.0",
            "_view_count": null,
            "flex_flow": null,
            "width": null,
            "min_width": null,
            "border": null,
            "align_items": null,
            "bottom": null,
            "_model_module": "@jupyter-widgets/base",
            "top": null,
            "grid_column": null,
            "overflow_y": null,
            "overflow_x": null,
            "grid_auto_flow": null,
            "grid_area": null,
            "grid_template_columns": null,
            "flex": null,
            "_model_name": "LayoutModel",
            "justify_items": null,
            "grid_row": null,
            "max_height": null,
            "align_content": null,
            "visibility": null,
            "align_self": null,
            "height": null,
            "min_height": null,
            "padding": null,
            "grid_auto_rows": null,
            "grid_gap": null,
            "max_width": null,
            "order": null,
            "_view_module_version": "1.2.0",
            "grid_template_areas": null,
            "object_position": null,
            "object_fit": null,
            "grid_auto_columns": null,
            "margin": null,
            "display": null,
            "left": null
          }
        }
      }
    }
  },
  "cells": [
    {
      "cell_type": "markdown",
      "metadata": {
        "id": "view-in-github",
        "colab_type": "text"
      },
      "source": [
        "<a href=\"https://colab.research.google.com/github/JoDeMiro/FuzzyBevezetes/blob/main/Python_Fuzzy_Bemutat%C3%B3_a_Tan%C3%A1rn%C5%91nek_6_Interactive.ipynb\" target=\"_parent\"><img src=\"https://colab.research.google.com/assets/colab-badge.svg\" alt=\"Open In Colab\"/></a>"
      ]
    },
    {
      "cell_type": "code",
      "metadata": {
        "id": "yKAoMUqRQeP1",
        "cellView": "form"
      },
      "source": [
        "#@title\n",
        "#@title('Indítás után')\n",
        "%%capture\n",
        "!pip install scikit-fuzzy\n",
        "\n",
        "import numpy as np\n",
        "import skfuzzy as fuzzy\n",
        "from skfuzzy import control as ctrl\n",
        "\n",
        "import ipywidgets as widgets\n",
        "import matplotlib.pyplot as plt\n",
        "\n",
        "\n",
        "from ipywidgets import IntSlider\n",
        "from ipywidgets import HTML\n",
        "from ipywidgets import interact, interactive, fixed, interact_manual\n",
        "\n",
        "from mpl_toolkits.mplot3d import Axes3D\n"
      ],
      "execution_count": 26,
      "outputs": []
    },
    {
      "cell_type": "markdown",
      "metadata": {
        "id": "DEoUDLYJk3X7"
      },
      "source": [
        "# Fuzzy következtetési rendszerek\n",
        "\n",
        "Ebben a részben a a fuzzy következtetési rendszerek bemutatásával foglalkozom.\n",
        "\n",
        "Ez az interkatív bemutató a fuzzy következtetést egyes lépésein át muatatja be az alapfogalmakat.\n",
        "\n",
        "A jegyzetet Dr. Prof. Takács Márta tanárnő - Fuzzy következtetési rendszerek című tantárgyához készítettem a 2021/2 félévben.\n",
        "\n",
        "\n",
        "### A tantárgy tartalma:\n",
        "Fuzzy operátorcsaládok áttekintése. A következtetési rendszerek logikai, fuzzy logikai alapjai.\n",
        "Bizonytalanság kezelése a következtetési rendszerekben. Általános fuzzy következtetési rendszerek. Szabályalapú rendszerek. Mamdani és Takagi-Sugeno módszer. Grafikus megjelenítés MATLAB környezetben. Új operátorcsaládokon alapuló következtetési rendszerek. Mérnöki alkalmazásokban megjelenő döntési problémák numerikus módszerekkel történő megoldásának lehetőségei, és a fuzzy következtetési rendszerek alkalmazásának lehetőségei. Gazdasági alkalmazásokban alkalmazott fuzzy következtetési rendszerek. Környezetvédelmi és természettudományi alkalmazások. \n",
        "\n",
        "http://aidi.uni-obuda.hu/sites/default/files/OE_AIAMDI_t%C3%A1rgyle%C3%ADr%C3%A1sok_2021.febru%C3%A1r.pdf\n",
        "\n",
        "<a name=\"tartalom\"></a>\n",
        "\n",
        "## Tartalom\n",
        "\n",
        "Bevezetés\n",
        "\n",
        "> [A lágy számítási módszerekről](#a_lagy_szamitasi_modszerekrol)<br>\n",
        "> [Fuzzy halmazok](#fuzzy_halmazok)<br>\n",
        "> [Fuzzy tagsági függvények](#fuzzy_tagsagi_fuggvenyek)<br>\n",
        "> [Fuzzifikáció](#fuzzifikacio)<br>\n",
        "> [Fuzzy metszetek](#fuzzy_metszetek)<br>\n",
        "> [Fuzzy uniók](#fuzzy_uniok)<br>\n",
        "> [Szabályalkotás](#szabalyalkotas)<br>\n",
        "> [Aggregáció](#aggregacio)<br>\n",
        "> [Defuzzifikáció](#defuzzifikacio)<br>\n",
        "> Második példa [Második példa](#pelda2)<br>\n",
        "> Felhasznált irodalom [Felhasznált irodalom](#felhasznalt-irodalom)<br>\n",
        "\n",
        "\n",
        "\n"
      ]
    },
    {
      "cell_type": "code",
      "metadata": {
        "id": "gF8I-EtJk3Qp"
      },
      "source": [
        ""
      ],
      "execution_count": 1,
      "outputs": []
    },
    {
      "cell_type": "markdown",
      "metadata": {
        "id": "_aO1dMgvl9VI"
      },
      "source": [
        "# Bevezetés\n",
        "\n",
        "## A lágy számítási módszerekről\n",
        "\n",
        "A 'kemény' számítási módszerekkel szemben a 'lágy' számítási módszerek nem éles szabályokat alkotnak, hanem egyfajta átmenetet képeznek  a bemenetek és a kimenet között.\n",
        "\n",
        "A 'lágy' számítások ötletét Lofti Zadeh matematikus vetette fel. Elgondolása szerint:\n",
        "\n",
        "> Az emberi gondolkodásmód sokkal jobban modellezhető olyan fogalmakkal, amelyeknek nincsenek éles határai.\n",
        "\n",
        "Számos tudományterület és alkalmazásban használhatunk lágy számítási módszereket az orvostudománytól, a társadalomtudományokon át{szociológia, közgazdaságtan}, komplex feladatok megoldásán át és az optimalizálás területén.\n",
        "\n",
        "\n",
        "## Fuzzy logika és Fuzzy halmazok\n",
        "\n",
        "A fuzzy halmazokat egy példán keresztül lehet közelebb hozni az emberi gondolkodáshoz. Ha egy homokkupacból elveszek egy homokszemet akkor az még homokkupac, de minnél több homokszemet veszek el belőle annál kevésbé lesz homokkupac. Kérdés, mikortól nem tekintem homokkupacnak? Ebből látható, hogy az átmenet nem éles. Nem mondhatom, hogy előbb még homokkupac volt, de egy homokszem elvétele után már nem az. Az átmenet inkább folytonos és nem húzható éles határ.\n",
        "\n",
        "## Mikor használjunk fuzzy következtetési rendszereket\n",
        "\n",
        "Olyan rendszerekben, melyek folytonos bemenetekkel és nem lineáris kimeneti függvényekkel jellemezhetők. És/Vagy amikor sok tényező, szempont, bemenet alapján és ismeretében kell döntést hozznunk és a szempontok összetettek.\n",
        "\n",
        "\n"
      ]
    },
    {
      "cell_type": "markdown",
      "metadata": {
        "id": "yq0aKIoK9VHr"
      },
      "source": [
        "\n",
        "<a name=\"fuzzy_halmazok\"></a>\n",
        "\n",
        "[vissza a tartalomhoz](#tartalom)\n",
        "\n",
        "# Fuzzy halmazok <a href=\"#tartalom\"><font color='white'>&nbsp;&nbsp;&nbsp;&nbsp;Main page</font></a>\n",
        "\n",
        "## A kétrétékű logikában\n",
        "A halmazhoz tartozás egyértelműen eldönthető.\n",
        "\n",
        "Legyen az A halmaz az X alalphalmaz egy részhalmaza, akkor a karakterisztikus függvény:\n",
        "\n",
        "$$X_A:X \\rightarrow \\left\\{ 0,1 \\right\\} $$\n",
        "<br>\n",
        "$$\n",
        "X_A(x) = \\left\\{\n",
        "    \\begin{array}\\\\\n",
        "        1 & \\mbox{ha } \\ x \\in \\mathbf{A} \\\\\n",
        "        0 & \\mbox{ha } \\ x \\notin \\mathbf{A}\n",
        "    \\end{array}\n",
        "\\right.\n",
        "$$\n",
        "\n",
        "> részhalmaz\n",
        "$\\mathbf{A} \\subset \\mathbf{B}$ vagy $\\mathbf{A} \\subseteq \\mathbf{B}$ és ha $\\mathbf{A} \\subseteq \\mathbf{B}$ és $\\mathbf{B} \\subseteq \\mathbf{A}$ akkor $\\mathbf{A} = \\mathbf{B}$\n",
        "\n",
        "> valódi részhalmaznaz tekintjük, ha $\\mathbf{B}$-nek létezik legalább egy eleme ami nem eleme $\\mathbf{A}$-nak\n",
        "\n",
        "> halmaz elemeinek száma $|\\mathbf{A}|$\n",
        "\n",
        "> halmaz komplemense $\\mathbf{\\overline{A}}$ az $\\mathbf{A}$-ban nem szereplő elemek.\n",
        "\n",
        "<br>\n",
        "\n",
        "<a name=\"fuzzy_tagsagi_fuggvenyek\"></a>\n",
        "\n",
        "[vissza a tartalomhoz](#tartalom)\n",
        "\n",
        "## Fuzzy tagsági függvény <a href=\"#tartalom\"><font color='white'>&nbsp;&nbsp;&nbsp;&nbsp;Main page</font></a>\n",
        "\n",
        "Az alaphalmaz minden eleméhez valamilyen rögzített tartományból rendelünk értékekekt. Az érték nagysága arányos a halmazhoz tartozás mértékével. Ez az érték jellemzőn 0-1 között van.\n",
        "\n",
        "A halmaz és a tagsági függvény egyenértékű<br>\n",
        "Tagsági függvény: $\\mu_A:X \\rightarrow [0,1]$ éés Fuzzy halmaz: $A:X \\rightarrow [0,1]$\n",
        "\n",
        "Példák a leggyakrabban használt tagsági függvények típusokra.\n",
        "\n",
        "<img src=\"https://user-images.githubusercontent.com/39605819/72969382-f8f7ec00-3d8a-11ea-9244-3c3b5f23b3ac.png\">\n",
        "\n",
        "\n",
        "A fuzzy tagsági függvény előálítása (egy lehetséges példa) (trapéz)\n",
        "\n",
        "$$\n",
        "\\mu_Ai(x) = \\left\\{\n",
        "    \\begin{array}\\\\\n",
        "        0 & \\mbox{ha } \\ x \\leq a_i \\\\\n",
        "        \\frac{x-a_i}{b_i-a_i} & \\mbox{ha } \\ a_i \\leq x \\leq b_i \\\\\n",
        "        1 & \\mbox{ha } \\ b_i \\leq x \\leq c_i \\\\\n",
        "        \\frac{d_i-x}{d_i-c_i} & \\mbox{ha } \\ c_i \\leq x \\leq d_i \\\\\n",
        "        0 & \\mbox{ha } \\ d_i \\leq x\n",
        "    \\end{array}\n",
        "\\right.\n",
        "$$\n",
        "\n",
        "ahol, $a_i, b_i, c_i, d_i$ a tagsági függvény paraméterei.\n",
        "\n",
        "\n"
      ]
    },
    {
      "cell_type": "code",
      "metadata": {
        "colab": {
          "base_uri": "https://localhost:8080/",
          "height": 281
        },
        "id": "e6faRO86QKFi",
        "outputId": "7c46dfc4-0dca-4e02-b877-2b4f387ffe91"
      },
      "source": [
        "#@title\n",
        "import numpy as np\n",
        "import skfuzzy as fuzzy\n",
        "from skfuzzy import control as ctrl\n",
        "\n",
        "import ipywidgets as widgets\n",
        "import matplotlib.pyplot as plt\n",
        "\n",
        "x                = np.arange(150, 200, 1)\n",
        "\n",
        "Magassag         = ctrl.Antecedent(np.arange(150, 200, 1), 'magassag X[cm]')\n",
        "\n",
        "Magassag.defuzzify_method = 'centroid'\n",
        "Magassag.universe.mean()\n",
        "\n",
        "Magassag['alacsony'] = fuzzy.trapmf(Magassag.universe, [150, 150, 160, 170])\n",
        "Magassag['közepes'] = fuzzy.trapmf(Magassag.universe, [160, 170, 180, 190])\n",
        "Magassag['magas'] = fuzzy.trapmf(Magassag.universe, [180, 190, 200, 200])\n",
        "\n",
        "Magassag.view()"
      ],
      "execution_count": 2,
      "outputs": [
        {
          "output_type": "display_data",
          "data": {
            "image/png": "[encoded data removed]",
            "text/plain": [
              "<Figure size 432x288 with 1 Axes>"
            ]
          },
          "metadata": {
            "tags": [],
            "needs_background": "light"
          }
        }
      ]
    },
    {
      "cell_type": "markdown",
      "metadata": {
        "id": "RpYyt7hnR5y7"
      },
      "source": [
        "## Fuzzy halmazok\n",
        "\n",
        "Ha úgy itélik meg, hogy a tagsági függvény érték is túl precíz a valóságban, akkor az elemekhez a tagsági függvény érték helyett **intervallumot** rendelnek. Ez a módszer jeletősen növeli a számításigényt. Jelenleg nem foglalkozom ezzel a módszerrel, de hogy el tudjuk képzelni mit jelent ez, egy képpel tudom illusztrálni.\n",
        "\n"
      ]
    },
    {
      "cell_type": "code",
      "metadata": {
        "colab": {
          "base_uri": "https://localhost:8080/"
        },
        "id": "enLls7ptkGXw",
        "outputId": "8c651e89-fc16-44c0-e2e0-33971c6ec640"
      },
      "source": [
        "(170-161) /(170-160)"
      ],
      "execution_count": 3,
      "outputs": [
        {
          "output_type": "execute_result",
          "data": {
            "text/plain": [
              "0.9"
            ]
          },
          "metadata": {
            "tags": []
          },
          "execution_count": 3
        }
      ]
    },
    {
      "cell_type": "markdown",
      "metadata": {
        "id": "plERGLoyUoqp"
      },
      "source": [
        "\n",
        "<a name=\"fuzzifikacio\"></a>\n",
        "\n",
        "[vissza a tartalomhoz](#tartalom)\n",
        "\n",
        "## Fuzzifikálás, Fuzzyfikáció <a href=\"#tartalom\"><font color='white'>&nbsp;&nbsp;&nbsp;&nbsp;Main page</font></a>\n",
        "\n",
        "Gyakorlatilag meghatározzuk a tagsági függvényeket, és az egyes crisp értékeket hozzájuk rendeljük. Alább a testmagasság egy lehetséges fuzzifikációja.\n",
        "\n",
        "$A$ = {alacsony, közepes, magas}\n",
        "<br>\n",
        "\n",
        "$$\n",
        "A_1(x) = \\left\\{\n",
        "    \\begin{array}\\\\\n",
        "        1 & \\mbox{ha } \\ x \\leq 150 \\\\\n",
        "        \\frac{170-x}{170-160} & \\mbox{ha } \\ 160 \\leq x \\leq 170 \\\\\n",
        "        0 & \\mbox{ha } \\ 170 \\leq x\n",
        "    \\end{array}\n",
        "\\right.\n",
        "$$\n",
        "\n",
        "Ezért $A_1(175) = (170-165) /(170-160) = 0.5$\n",
        "\n"
      ]
    },
    {
      "cell_type": "code",
      "metadata": {
        "colab": {
          "base_uri": "https://localhost:8080/",
          "height": 316
        },
        "id": "13OzsFfilFFi",
        "outputId": "0b100e48-b2d7-449f-c643-d9c6015fdcce"
      },
      "source": [
        "\n",
        "def membershipDemo(x_):\n",
        "  for key in Magassag.terms.keys():\n",
        "    x = np.arange(150, 200, 1)\n",
        "    plt.plot(x, Magassag[key].mf)\n",
        "\n",
        "    xv = x_\n",
        "\n",
        "    value = fuzzy.interp_membership(Magassag.universe, Magassag.__getitem__(key).mf, [xv])\n",
        "\n",
        "    print(\"Magassag['{0}'](3) : \\t{1:0.2f}\".format(key, value[0]))\n",
        "\n",
        "    plt.vlines(xv, ymin = 0, ymax = 1, colors = 'k', linestyles = 'dashed')\n",
        "    plt.hlines(value, xmin = 150, xmax = xv, colors = 'k', linestyles = 'dashed')\n",
        "    plt.text(xv+1, value[0], '{:0.2f}'.format(value[0]), verticalalignment = 'center')\n",
        "\n",
        "membershipDemo(165)"
      ],
      "execution_count": 4,
      "outputs": [
        {
          "output_type": "stream",
          "text": [
            "Magassag['alacsony'](3) : \t0.50\n",
            "Magassag['közepes'](3) : \t0.50\n",
            "Magassag['magas'](3) : \t0.00\n"
          ],
          "name": "stdout"
        },
        {
          "output_type": "display_data",
          "data": {
            "image/png": "[encoded data removed]",
            "text/plain": [
              "<Figure size 432x288 with 1 Axes>"
            ]
          },
          "metadata": {
            "tags": [],
            "needs_background": "light"
          }
        }
      ]
    },
    {
      "cell_type": "code",
      "metadata": {
        "colab": {
          "base_uri": "https://localhost:8080/",
          "height": 348,
          "referenced_widgets": [
            "67decf0eebfb46ed95d9ed9f4c8233fe",
            "803c814c747f4e698d6d26de5a85509d",
            "f99b871746054149b7ba4e15e496ba08",
            "3e823dcb4d784a76b73c52cee0e5bea3",
            "000943d3ef1a4eb2a58c2870a2eae2e2",
            "5ead94c81fdc4345be0cb2a147e51a11",
            "9d905cd359f84582940b0176efabff3f"
          ]
        },
        "id": "zXBa5Ua3mcSV",
        "outputId": "4ec06cd4-4ea1-4448-9493-ebfa31739757"
      },
      "source": [
        "interact(membershipDemo, x_=widgets.IntSlider(min=150, max=200, step=1, value=168));"
      ],
      "execution_count": 5,
      "outputs": [
        {
          "output_type": "display_data",
          "data": {
            "application/vnd.jupyter.widget-view+json": {
              "model_id": "67decf0eebfb46ed95d9ed9f4c8233fe",
              "version_minor": 0,
              "version_major": 2
            },
            "text/plain": [
              "interactive(children=(IntSlider(value=168, description='x_', max=200, min=150), Output()), _dom_classes=('widg…"
            ]
          },
          "metadata": {
            "tags": []
          }
        }
      ]
    },
    {
      "cell_type": "markdown",
      "metadata": {
        "id": "4Q6gLIGeoPhM"
      },
      "source": [
        "## Axiómák\n",
        "\n",
        "A: az X fuzzy halmaza\n",
        "\n",
        "Definíció szerint 𝑥 ∈ 𝑋-nek az A halmazhoz tartozásának mértéke: A(x)\n",
        "Ekkor az A halmaz c típusú komplemense ca(x) az az érték, amilyen\n",
        "mértékben x nem tartozik A-hoz. A Fuzzy komplemens: 𝑐: 0,1 → 0,1 függvény ∀𝐴(𝑥) tagsági függvény értékhez tetszőleges „A” fuzzy halmaz esetén a 𝑐 𝐴 𝑥 értéket rendeli hozzá.\n",
        "\n",
        "$c1$ axióma: $c(0) = 1$ és $c(1) = 0$ (peremfeltétel)\n",
        "\n",
        "$c2$ axióma: $\\forall, b \\in [0,1]$ esetén\n",
        "ha $a \\leq b$ akkor $c(a) \\geq c(b)$ (monotonitás)\n",
        "\n",
        "$c2$ azt írja elő, hogy a komplemens monoton csökkenő legyen: az $A$ halmaz\n",
        "tagsági függvény értékének növekedésével a komplemens $c(a)$ értéke nem\n",
        "nőhet.\n",
        "\n",
        "**Egyensúlyi pont**: az az $a$ érték amire $c(a) = a$\n",
        "Zadehnél $a = 0.5$ az egyensúlyi pont.\n",
        "\n",
        "<br>\n",
        "\n",
        "<a name=\"fuzzy_metszetek\"></a>\n",
        "\n",
        "[vissza a tartalomhoz](#tartalom)\n",
        "\n",
        "## Fuzzy metszetek (A t-normák)\n",
        "\n",
        "A fuzzy metszetek minimálisan elvárt tulajdonságait axiómák fogalmazzák meg, amelyek a Boole metszet fogalom természtes általánosítását adják.\n",
        "\n",
        "$$t: [0,1] \\times [0,1] \\rightarrow [0,1]$$\n",
        "\n",
        "$t_1$ axióma: $(t(a,1) = a, \\forall a \\in [0,1]$-re (peremfeltétel)\n",
        "\n",
        "$t_2$ axióma: $b \\leq c$-ből következik, hogy $t(a,b) \\leq t(a,c), \\forall a, b,c \\in [0,1]$ (monotonitás)\n",
        "\n",
        "$t_3$ axióma: $(t(a,b) = t(b,a), \\forall a,b \\in [0,1]-$-re (kommutativitás)\n",
        "\n",
        "$t_4$ axióma: $(t(a,t(b,c)) = t(t((a,b)c), \\forall a,b,c \\in [0,1]-$-re (asszociativitás)\n",
        "\n",
        "<br>\n",
        "\n",
        "$t_2$ és $t_3$ azt a követelményt fejezi ki, hogy ha $A$-ban vagy $B$-ben a tagsági érték csökken, az nem eredményezheti a metszet $A \\cap B$ növekedését.\n",
        "\n",
        "<br>\n",
        "\n",
        "Zadeh-féle metszet:\n",
        "\n",
        "$$ t(a,b) = min(a,b) $$\n",
        "\n",
        "Algebrai szorzat:\n",
        "\n",
        "$$ t(a,b) = ab $$\n",
        "\n",
        "Korlátos különbség:\n",
        "\n",
        "$$ t(a,b) = max(0,a+b-1) $$\n",
        "\n",
        "Példák:\n",
        "\n",
        "\n",
        "\n",
        "\n"
      ]
    },
    {
      "cell_type": "code",
      "metadata": {
        "colab": {
          "base_uri": "https://localhost:8080/",
          "height": 425
        },
        "id": "eZ64J9xllE_X",
        "cellView": "form",
        "outputId": "8c32f478-9232-49c6-9b4a-5775c99d0edd"
      },
      "source": [
        "\n",
        "\n",
        "\n",
        "#@title\n",
        "def membershipANDDemo(x_, a1, a2):\n",
        "\n",
        "  Magassag         = ctrl.Antecedent(np.arange(150, 200, 1), 'magassag X[cm]')\n",
        "\n",
        "  Magassag.defuzzify_method = 'centroid'\n",
        "  Magassag.universe.mean()\n",
        "\n",
        "  Magassag['alacsony'] = fuzzy.trapmf(Magassag.universe, [150, 150, 160, 170])\n",
        "  Magassag['közepes'] = fuzzy.trapmf(Magassag.universe, [160, 170, 180, 190])\n",
        "  Magassag['magas'] = fuzzy.trapmf(Magassag.universe, [a1, a2, 200, 200])\n",
        "\n",
        "  plt.rcParams[\"figure.figsize\"] = (20,6)\n",
        "  container = []\n",
        "  for key in Magassag.terms.keys():\n",
        "    x = np.arange(150, 200, 1)\n",
        "    plt.plot(x, Magassag[key].mf)\n",
        "\n",
        "    xv = x_\n",
        "\n",
        "    value = fuzzy.interp_membership(Magassag.universe, Magassag.__getitem__(key).mf, [xv])\n",
        "\n",
        "    print(\"Magassag['{0}'](3) : \\t{1:0.2f}\".format(key, value[0]))\n",
        "\n",
        "    plt.vlines(xv, ymin = 0, ymax = 1, colors = 'k', linestyles = 'dashed')\n",
        "    plt.hlines(value, xmin = 150, xmax = xv, colors = 'k', linestyles = 'dashed')\n",
        "    plt.text(xv+1, value[0], '{:0.2f}'.format(value[0]), verticalalignment = 'center')\n",
        "\n",
        "    container.append(Magassag[key].mf)\n",
        "\n",
        "\n",
        "  # albebrai szorzat\n",
        "  algebrai = np.asarray(container[0])*np.asarray(container[1])\n",
        "  plt.plot(x, algebrai, label = 'algebrai szorzat')\n",
        "\n",
        "  algebrai = np.asarray(container[1])*np.asarray(container[2])\n",
        "  plt.plot(x, algebrai, label = 'algebrai szorzat')\n",
        "\n",
        "\n",
        "  # zadeh féle fuzzy metszet\n",
        "  zadeh = np.minimum(np.asarray(container[0]),np.asarray(container[1]))\n",
        "  plt.plot(x, zadeh, label = 'zadeh-féle', color='black', lw = 2, linestyle='dashed')\n",
        "\n",
        "  zadeh = np.minimum(np.asarray(container[1]),np.asarray(container[2]))\n",
        "  plt.plot(x, zadeh, label = 'zadeh-féle', color='black', lw = 2, linestyle='dashed')\n",
        "\n",
        "\n",
        "\n",
        "  plt.legend()\n",
        "\n",
        "membershipANDDemo(165, 176, 186)"
      ],
      "execution_count": 6,
      "outputs": [
        {
          "output_type": "stream",
          "text": [
            "Magassag['alacsony'](3) : \t0.50\n",
            "Magassag['közepes'](3) : \t0.50\n",
            "Magassag['magas'](3) : \t0.00\n"
          ],
          "name": "stdout"
        },
        {
          "output_type": "display_data",
          "data": {
            "image/png": "[encoded data removed]",
            "text/plain": [
              "<Figure size 1440x432 with 1 Axes>"
            ]
          },
          "metadata": {
            "tags": [],
            "needs_background": "light"
          }
        }
      ]
    },
    {
      "cell_type": "code",
      "metadata": {
        "colab": {
          "base_uri": "https://localhost:8080/",
          "height": 521,
          "referenced_widgets": [
            "74276493ff8540cda85ae0489bf89bed",
            "2716324aa8724eb590afea919a5a533e",
            "2c202770b22e4a7f9493e3fdd0a8f350",
            "28eb858589184412a04860f5c0dd7c99",
            "de91f0230ebb4953a93a3bca8e5e3c1c",
            "022395a649fc4b488b5f978bc145c136",
            "5e5f59be2736468dbd5973d903c3469c",
            "d67d58a9aec94412b8a97933ccbdfff2",
            "74785bfb4d7148b78b3977e2256d0161",
            "078a28649bb94189ba90589a18e0efef",
            "c19c6d434044429eab051d25691a5f6b",
            "31c19592a8a6457d82be21ad7cf2636b",
            "52f8c50323384e8d83eaf1285751939a"
          ]
        },
        "id": "uHgiMJjYAMHj",
        "outputId": "fd2417e5-7a6b-4f8e-eeec-211c6312eb02"
      },
      "source": [
        "interact(membershipANDDemo, x_=widgets.IntSlider(min=150, max=200, step=1, value=168), a1=widgets.IntSlider(min=150, max=200, step=1, value=176), a2=widgets.IntSlider(min=185, max=200, step=1, value=186));"
      ],
      "execution_count": 7,
      "outputs": [
        {
          "output_type": "display_data",
          "data": {
            "application/vnd.jupyter.widget-view+json": {
              "model_id": "74276493ff8540cda85ae0489bf89bed",
              "version_minor": 0,
              "version_major": 2
            },
            "text/plain": [
              "interactive(children=(IntSlider(value=168, description='x_', max=200, min=150), IntSlider(value=176, descripti…"
            ]
          },
          "metadata": {
            "tags": []
          }
        }
      ]
    },
    {
      "cell_type": "markdown",
      "metadata": {
        "id": "CRL6aeEbAYDQ"
      },
      "source": [
        "\n",
        "<a name=\"fuzzy_uniok\"></a>\n",
        "\n",
        "[vissza a tartalomhoz](#tartalom)\n",
        "\n",
        "# Fuzzy uniók (t-kononrmák)\n",
        "\n",
        "A fuzzy uniók minimálisan elvárt tulajdonságait axiómák fogalmazzák meg.\n",
        "\n",
        "$$s: [0,1] \\times [0,1] \\rightarrow [0,1]$$\n",
        "\n",
        "$s_1$ axióma: $(s(a,1) = a, \\forall a \\in [0,1]$-re (peremfeltétel)\n",
        "\n",
        "$s_2$ axióma: $b \\leq c$-ből következik, hogy $s(a,b) \\leq s(a,c), \\forall a, b,c \\in [0,1]$ (monotonitás)\n",
        "\n",
        "$s_3$ axióma: $(s(a,b) = s(b,a), \\forall a,b \\in [0,1]-$-re (kommutativitás)\n",
        "\n",
        "$s_4$ axióma: $(s(a,s(b,c)) = s(s((a,b)c), \\forall a,b,c \\in [0,1]-$-re (asszociativitás)\n",
        "\n",
        "\n",
        "<br>\n",
        "\n",
        "Zadeh-féle unió:\n",
        "\n",
        "$$ s(a,b) = max(a,b) $$\n",
        "\n",
        "Algebrai összeg:\n",
        "\n",
        "$$ s(a,b) = a + b - ab $$\n",
        "\n",
        "Korlátos összeg:\n",
        "\n",
        "$$ s(a,b) = min(1,a+b) $$\n",
        "\n",
        "Példák:\n",
        "\n"
      ]
    },
    {
      "cell_type": "code",
      "metadata": {
        "colab": {
          "base_uri": "https://localhost:8080/",
          "height": 425
        },
        "id": "dCfhIWhwGrog",
        "cellView": "form",
        "outputId": "044af49d-75cc-43a9-c85a-9c0f1444a6b1"
      },
      "source": [
        "#@title\n",
        "def membershipORDemo(x_, a1, a2):\n",
        "\n",
        "  Magassag         = ctrl.Antecedent(np.arange(150, 200, 1), 'magassag X[cm]')\n",
        "\n",
        "  Magassag.defuzzify_method = 'centroid'\n",
        "  Magassag.universe.mean()\n",
        "\n",
        "  Magassag['alacsony'] = fuzzy.trapmf(Magassag.universe, [150, 150, 160, 170])\n",
        "  Magassag['közepes'] = fuzzy.trapmf(Magassag.universe, [160, 170, 180, 190])\n",
        "  Magassag['magas'] = fuzzy.trapmf(Magassag.universe, [a1, a2, 200, 200])\n",
        "\n",
        "  plt.rcParams[\"figure.figsize\"] = (20,6)\n",
        "  container = []\n",
        "  for key in Magassag.terms.keys():\n",
        "    x = np.arange(150, 200, 1)\n",
        "    plt.plot(x, Magassag[key].mf)\n",
        "\n",
        "    xv = x_\n",
        "\n",
        "    value = fuzzy.interp_membership(Magassag.universe, Magassag.__getitem__(key).mf, [xv])\n",
        "\n",
        "    print(\"Magassag['{0}'](3) : \\t{1:0.2f}\".format(key, value[0]))\n",
        "\n",
        "    plt.vlines(xv, ymin = 0, ymax = 1, colors = 'k', linestyles = 'dashed')\n",
        "    plt.hlines(value, xmin = 150, xmax = xv, colors = 'k', linestyles = 'dashed')\n",
        "    plt.text(xv+1, value[0], '{:0.2f}'.format(value[0]), verticalalignment = 'center')\n",
        "\n",
        "    container.append(Magassag[key].mf)\n",
        "\n",
        "\n",
        "  # albebrai szorzat\n",
        "  a = np.asarray(container[0])\n",
        "  b = np.asarray(container[1])\n",
        "  algebrai = (a+b)-(a*b)\n",
        "  plt.plot(x, algebrai, label = 'algebrai szorzat')\n",
        "\n",
        "  a = np.asarray(container[1])\n",
        "  b = np.asarray(container[2])\n",
        "  algebrai = (a+b)-(a*b)\n",
        "  plt.plot(x, algebrai, label = 'algebrai szorzat')\n",
        "\n",
        "  # zadeh féle fuzzy metszet\n",
        "  a = np.asarray(container[0])\n",
        "  b = np.asarray(container[1])\n",
        "  zadeh = np.maximum(a,b)\n",
        "  plt.plot(x, zadeh, label = 'zadeh-féle', color='black', lw = 2, linestyle='dashed')\n",
        "\n",
        "  a = np.asarray(container[1])\n",
        "  b = np.asarray(container[2])\n",
        "  zadeh = np.maximum(a,b)\n",
        "  plt.plot(x, zadeh, label = 'zadeh-féle', color='black', lw = 2, linestyle='dashed')\n",
        "\n",
        "  plt.legend()\n",
        "\n",
        "membershipORDemo(165, 176, 186)"
      ],
      "execution_count": 8,
      "outputs": [
        {
          "output_type": "stream",
          "text": [
            "Magassag['alacsony'](3) : \t0.50\n",
            "Magassag['közepes'](3) : \t0.50\n",
            "Magassag['magas'](3) : \t0.00\n"
          ],
          "name": "stdout"
        },
        {
          "output_type": "display_data",
          "data": {
            "image/png": "[encoded data removed]",
            "text/plain": [
              "<Figure size 1440x432 with 1 Axes>"
            ]
          },
          "metadata": {
            "tags": [],
            "needs_background": "light"
          }
        }
      ]
    },
    {
      "cell_type": "code",
      "metadata": {
        "colab": {
          "base_uri": "https://localhost:8080/",
          "height": 521,
          "referenced_widgets": [
            "4b847364ccad4d3db003f71d0cac855e",
            "ab18978943ee49a393099c74fd5f76ea",
            "659315eb36304a6390d62b6ce849d12a",
            "99ef10ef5783458682b3bcb4c85dec62",
            "ca9626b1290248d08a0991a778e304d2",
            "ccb1bad35993490bb913e20605d66c57",
            "091088e624934baba71cbfa977007978",
            "d01dc6653ae44e4ea8e0de4eaaef3445",
            "4964f3c4b2d8442b8bdb47cbbef95280",
            "518ef970711f459e8684f3df0eba23ad",
            "b63c381f76474a6cbc378e5bcb4fb27d",
            "175246ad7ef74f88b1898381e21176a4",
            "12e707d2167147629bb86c8e798ff1b1"
          ]
        },
        "id": "rehr-Lfd9z-W",
        "outputId": "fff73538-fee2-4b58-a086-8854ed8d2ae8"
      },
      "source": [
        "interact(membershipORDemo, x_=widgets.IntSlider(min=150, max=200, step=1, value=168), a1=widgets.IntSlider(min=150, max=200, step=1, value=176), a2=widgets.IntSlider(min=185, max=200, step=1, value=186));"
      ],
      "execution_count": 9,
      "outputs": [
        {
          "output_type": "display_data",
          "data": {
            "application/vnd.jupyter.widget-view+json": {
              "model_id": "4b847364ccad4d3db003f71d0cac855e",
              "version_minor": 0,
              "version_major": 2
            },
            "text/plain": [
              "interactive(children=(IntSlider(value=168, description='x_', max=200, min=150), IntSlider(value=176, descripti…"
            ]
          },
          "metadata": {
            "tags": []
          }
        }
      ]
    },
    {
      "cell_type": "markdown",
      "metadata": {
        "id": "r4VIJu_uRh33"
      },
      "source": [
        "\n",
        "<a name=\"aggregacio\"></a>\n",
        "\n",
        "[vissza a tartalomhoz](#tartalom)\n",
        "\n",
        "# Aggregáció\n",
        "\n",
        "Több fuzzy halmaz megfelelő módon történő egyesítése által egyetlen fuzzy\n",
        "halmazt állítanak elő.\n",
        "\n",
        "$$h[0,1]^n \\rightarrow [0,1], n \\geq 2$$\n",
        "\n",
        "Ha a $h$ függvény argumentumai az X alaphalmazon értelmezett $A_1(x), ..., A_n(x)$ fuzzy halmazok, akkor $h \\forall x \\in X$-re fuzzy halmazt állít elő az argumentumok tagsági értékeinek segítségével,\n",
        "\n",
        "$$A(x) = h(A_1(x), ..., A_n(x))$$\n",
        "\n",
        "Gyakorlatban ezt úgy érjük el, hogy szabályok konstruálunk és végül az összes szabály alapján előállítjuk az új fuzzy halmazokat.\n",
        "\n",
        "# Az implikáció annyiban különbözik,\n",
        "\n",
        "Az agregációtól, hogy egy változón létrehozott tagsági függvények értékeinek kiszámítására használja a szakirodalom az implikáció szót.\n",
        "\n",
        "Míg az aggregáció az összes változóra érvényes szabály alapján létrehozott értékek előállítására és új fuzzy halmazhoz rendelésére használják.\n"
      ]
    },
    {
      "cell_type": "code",
      "metadata": {
        "id": "Nk-9Oe67k3Co",
        "colab": {
          "base_uri": "https://localhost:8080/",
          "height": 440
        },
        "cellView": "form",
        "outputId": "d2ac2982-8787-47b6-df17-76a6a3ca2bbd"
      },
      "source": [
        "#@title\n",
        "\n",
        "\n",
        "Magassag         = ctrl.Antecedent(np.arange(150, 200, 1), 'magassag X[cm]')\n",
        "\n",
        "Magassag.defuzzify_method = 'centroid'\n",
        "Magassag.universe.mean()\n",
        "\n",
        "Magassag['alacsony'] = fuzzy.trapmf(Magassag.universe, [150, 150, 160, 170])\n",
        "Magassag['közepes'] = fuzzy.trapmf(Magassag.universe, [160, 170, 180, 190])\n",
        "Magassag['magas'] = fuzzy.trapmf(Magassag.universe, [180, 190, 200, 200])\n",
        "\n",
        "Magassag.view()\n",
        "\n",
        "def membershipDemo(x_):\n",
        "  for key in Magassag.terms.keys():\n",
        "    plt.plot(x, Magassag[key].mf)\n",
        "\n",
        "    xv = x_\n",
        "\n",
        "    value = fuzzy.interp_membership(Magassag.universe, Magassag.__getitem__(key).mf, [xv])\n",
        "\n",
        "    print(\"Magassag['{0}'](3) : \\t{1:0.2f}\".format(key, value[0]))\n",
        "\n",
        "    plt.vlines(xv, ymin = 0, ymax = 1, colors = 'k', linestyles = 'dashed')\n",
        "    plt.hlines(value, xmin = 150, xmax = xv, colors = 'k', linestyles = 'dashed')\n",
        "    plt.text(xv+1, value[0], '{:0.2f}'.format(value[0]), verticalalignment = 'center')\n",
        "\n",
        "membershipDemo(162)"
      ],
      "execution_count": 10,
      "outputs": [
        {
          "output_type": "stream",
          "text": [
            "Magassag['alacsony'](3) : \t0.80\n",
            "Magassag['közepes'](3) : \t0.20\n",
            "Magassag['magas'](3) : \t0.00\n"
          ],
          "name": "stdout"
        },
        {
          "output_type": "display_data",
          "data": {
            "image/png": "[encoded data removed]",
            "text/plain": [
              "<Figure size 1440x432 with 1 Axes>"
            ]
          },
          "metadata": {
            "tags": [],
            "needs_background": "light"
          }
        }
      ]
    },
    {
      "cell_type": "code",
      "metadata": {
        "colab": {
          "base_uri": "https://localhost:8080/",
          "height": 440
        },
        "id": "lVnYxSlXRe4U",
        "cellView": "form",
        "outputId": "6aa31307-f38d-4491-f697-71c937846b2d"
      },
      "source": [
        "#@title\n",
        "\n",
        "Testtomeg         = ctrl.Antecedent(np.arange(50, 100, 1), 'testtömeg Y[kg]')\n",
        "\n",
        "Testtomeg.defuzzify_method = 'centroid'\n",
        "Testtomeg.universe.mean()\n",
        "\n",
        "Testtomeg['sovány'] = fuzzy.trapmf(Testtomeg.universe, [50, 50, 60, 70])\n",
        "Testtomeg['közepes'] = fuzzy.trapmf(Testtomeg.universe, [60, 70, 80, 90])\n",
        "Testtomeg['kövér'] = fuzzy.trapmf(Testtomeg.universe, [80, 90, 100, 100])\n",
        "\n",
        "Testtomeg.view()\n",
        "\n",
        "def testtomegDemo(x_):\n",
        "  for key in Testtomeg.terms.keys():\n",
        "    plt.plot(x, Testtomeg[key].mf)\n",
        "\n",
        "    xv = x_\n",
        "\n",
        "    value = fuzzy.interp_membership(Testtomeg.universe, Testtomeg.__getitem__(key).mf, [xv])\n",
        "\n",
        "    print(\"Testtomeg['{0}'](3) : \\t{1:0.2f}\".format(key, value[0]))\n",
        "\n",
        "    plt.vlines(xv, ymin = 0, ymax = 1, colors = 'k', linestyles = 'dashed')\n",
        "    plt.hlines(value, xmin = 50, xmax = xv, colors = 'k', linestyles = 'dashed')\n",
        "    plt.text(xv+1, value[0], '{:0.2f}'.format(value[0]), verticalalignment = 'center')\n",
        "\n",
        "testtomegDemo(67)\n",
        "\n",
        "\n"
      ],
      "execution_count": 11,
      "outputs": [
        {
          "output_type": "stream",
          "text": [
            "Testtomeg['sovány'](3) : \t0.30\n",
            "Testtomeg['közepes'](3) : \t0.70\n",
            "Testtomeg['kövér'](3) : \t0.00\n"
          ],
          "name": "stdout"
        },
        {
          "output_type": "display_data",
          "data": {
            "image/png": "[encoded data removed]",
            "text/plain": [
              "<Figure size 1440x432 with 1 Axes>"
            ]
          },
          "metadata": {
            "tags": [],
            "needs_background": "light"
          }
        }
      ]
    },
    {
      "cell_type": "markdown",
      "metadata": {
        "id": "rc3mw13xdGf3"
      },
      "source": [
        "A két fenti fuzzy halmaz egy lehetséges aggregációja\n",
        "\n"
      ]
    },
    {
      "cell_type": "code",
      "metadata": {
        "cellView": "form",
        "id": "ku4bcqYddy2N"
      },
      "source": [
        "#@title\n",
        "Allapot         = ctrl.Antecedent(np.arange(0, 40, 1), 'állapot subjektív pontszám')\n",
        "\n",
        "Allapot.defuzzify_method = 'centroid'\n",
        "Allapot.universe.mean()\n",
        "\n",
        "Allapot['anorexia'] = fuzzy.trapmf(Allapot.universe, [0, 0, 10, 20])\n",
        "Allapot['normális'] = fuzzy.trimf(Allapot.universe, [10, 20, 30])\n",
        "Allapot['túlsúlyos'] = fuzzy.trapmf(Allapot.universe, [20, 30, 40, 40])\n",
        "\n",
        "# Allapot.view()"
      ],
      "execution_count": 12,
      "outputs": []
    },
    {
      "cell_type": "code",
      "metadata": {
        "id": "cYQ_OGSFRe12"
      },
      "source": [
        "#@title\n",
        "rule1 = ctrl.Rule(antecedent= Magassag['magas'] & Testtomeg['sovány'], consequent = Allapot['anorexia'])\n",
        "\n",
        "rule2 = ctrl.Rule(antecedent= Magassag['alacsony'] & Testtomeg['sovány'], consequent = Allapot['normális'])\n",
        "rule3 = ctrl.Rule(antecedent= Magassag['közepes'] & Testtomeg['közepes'], consequent = Allapot['normális'])\n",
        "rule4 = ctrl.Rule(antecedent= Magassag['magas'] & Testtomeg['kövér'], consequent = Allapot['normális'])\n",
        "\n",
        "rule5 = ctrl.Rule(antecedent= Magassag['alacsony'] & Testtomeg['kövér'], consequent = Allapot['túlsúlyos'])\n"
      ],
      "execution_count": 13,
      "outputs": []
    },
    {
      "cell_type": "code",
      "metadata": {
        "id": "4qDGLPiY1I6k"
      },
      "source": [
        "magasság = 166\n",
        "testtömeg = 88"
      ],
      "execution_count": 14,
      "outputs": []
    },
    {
      "cell_type": "code",
      "metadata": {
        "colab": {
          "base_uri": "https://localhost:8080/",
          "height": 1000
        },
        "cellView": "form",
        "id": "SQfSfPgSftmO",
        "outputId": "cb5aeb8e-8827-4251-b0d1-66a843a453b8"
      },
      "source": [
        "#@title\n",
        "\n",
        "plt.rcParams[\"figure.figsize\"] = (16,4)\n",
        "\n",
        "Magassag         = ctrl.Antecedent(np.arange(150, 200, 1), 'magassag')\n",
        "\n",
        "Magassag['alacsony'] = fuzzy.trapmf(Magassag.universe, [150, 150, 160, 170])\n",
        "Magassag['közepes'] = fuzzy.trapmf(Magassag.universe, [160, 170, 180, 190])\n",
        "Magassag['magas'] = fuzzy.trapmf(Magassag.universe, [180, 190, 200, 200])\n",
        "\n",
        "Testtomeg         = ctrl.Antecedent(np.arange(50, 100, 1), 'testtomeg')\n",
        "\n",
        "Testtomeg['sovány'] = fuzzy.trapmf(Testtomeg.universe, [50, 50, 60, 70])\n",
        "Testtomeg['közepes'] = fuzzy.trapmf(Testtomeg.universe, [60, 70, 80, 90])\n",
        "Testtomeg['kövér'] = fuzzy.trapmf(Testtomeg.universe, [80, 90, 100, 100])\n",
        "\n",
        "Allapot         = ctrl.Consequent(np.arange(0, 40, 1), 'allapot')\n",
        "\n",
        "Allapot['anorexia'] = fuzzy.trapmf(Allapot.universe, [0, 0, 10, 20])\n",
        "Allapot['normális'] = fuzzy.trimf(Allapot.universe, [10, 20, 30])\n",
        "Allapot['túlsúlyos'] = fuzzy.trapmf(Allapot.universe, [20, 30, 40, 40])\n",
        "\n",
        "\n",
        "\n",
        "# rules\n",
        "rule1 = ctrl.Rule(antecedent= Magassag['magas'] & Testtomeg['sovány'], consequent = Allapot['anorexia'])\n",
        "\n",
        "rule2 = ctrl.Rule(antecedent= Magassag['alacsony'] & Testtomeg['sovány'], consequent = Allapot['normális'])\n",
        "rule3 = ctrl.Rule(antecedent= Magassag['közepes'] & Testtomeg['közepes'], consequent = Allapot['normális'])\n",
        "rule4 = ctrl.Rule(antecedent= Magassag['magas'] & Testtomeg['kövér'], consequent = Allapot['normális'])\n",
        "\n",
        "rule5 = ctrl.Rule(antecedent= Magassag['alacsony'] & Testtomeg['kövér'], consequent = Allapot['túlsúlyos'])\n",
        "\n",
        "\n",
        "# plot\n",
        "fig, (ax1, ax2) = plt.subplots(1, 2)\n",
        "\n",
        "\n",
        "def testtomegDemo(x1_):\n",
        "\n",
        "  x1 = np.arange(50, 100, 1)\n",
        "\n",
        "  for key in Testtomeg.terms.keys():\n",
        "    ax1.plot(x1, Testtomeg[key].mf)\n",
        "\n",
        "    xv = x1_\n",
        "\n",
        "    value1 = fuzzy.interp_membership(Testtomeg.universe, Testtomeg.__getitem__(key).mf, [xv])\n",
        "\n",
        "    print(\"Testtomeg['{0}'](3) : \\t{1:0.2f}\".format(key, value1[0]))\n",
        "\n",
        "    ax1.vlines(xv, ymin = 0, ymax = 1, colors = 'k', linestyles = 'dashed')\n",
        "    ax1.hlines(value1, xmin = 100, xmax = xv, colors = 'k', linestyles = 'dashed')\n",
        "    ax1.text(xv-1, value1[0], '{:0.2f}'.format(value1[0]), verticalalignment = 'center', horizontalalignment = 'right')\n",
        "\n",
        "\n",
        "\n",
        "#---------------------------------------------------------------------------\n",
        "\n",
        "\n",
        "def magassagDemo(x2_):\n",
        "\n",
        "  x2 = np.arange(150, 200, 1)\n",
        "\n",
        "  for key in Magassag.terms.keys():\n",
        "    ax2.plot(x2, Magassag[key].mf)\n",
        "\n",
        "    xv = x2_\n",
        "\n",
        "    value2 = fuzzy.interp_membership(Magassag.universe, Magassag.__getitem__(key).mf, [xv])\n",
        "\n",
        "    print(\"Magassag['{0}'](3) : \\t{1:0.2f}\".format(key, value2[0]))\n",
        "\n",
        "    ax2.vlines(xv, ymin = 0, ymax = 1, colors = 'k', linestyles = 'dashed')\n",
        "    ax2.hlines(value2, xmin = 200, xmax = xv, colors = 'k', linestyles = 'dashed')\n",
        "    ax2.text(xv-1, value2[0], '{:0.2f}'.format(value2[0]), verticalalignment = 'center', horizontalalignment = 'right')\n",
        "\n",
        "\n",
        "magassagDemo(magasság)\n",
        "\n",
        "testtomegDemo(testtömeg)\n",
        "\n",
        "#---------------------------------------------------------------------------\n",
        "\n",
        "\n",
        "# a szabályok\n",
        "print(rule1)\n",
        "print(rule2)\n",
        "print(rule3)\n",
        "print(rule4)\n",
        "print(rule5)\n",
        "\n",
        "# két szabályunk van\n",
        "system = ctrl.ControlSystem([rule1, rule2, rule3, rule4, rule5])\n",
        "\n",
        "simulation = ctrl.ControlSystemSimulation(system)\n",
        "\n",
        "simulation.input['magassag'] = magasság\n",
        "simulation.input['testtomeg'] = testtömeg\n",
        "\n",
        "simulation.compute()\n",
        "\n",
        "print('----------------------------------------')\n",
        "print('Állapot  :', simulation.output['allapot'])\n",
        "print('----------------------------------------')\n",
        "print(simulation.input)\n",
        "\n",
        "\n",
        "Testtomeg.view(sim = simulation)\n",
        "Magassag.view(sim = simulation)\n",
        "Allapot.view(sim = simulation)\n"
      ],
      "execution_count": 15,
      "outputs": [
        {
          "output_type": "stream",
          "text": [
            "Magassag['alacsony'](3) : \t0.40\n",
            "Magassag['közepes'](3) : \t0.60\n",
            "Magassag['magas'](3) : \t0.00\n",
            "Testtomeg['sovány'](3) : \t0.00\n",
            "Testtomeg['közepes'](3) : \t0.20\n",
            "Testtomeg['kövér'](3) : \t0.80\n",
            "IF magassag[magas] AND testtomeg[sovány] THEN allapot[anorexia]\n",
            "\tAND aggregation function : fmin\n",
            "\tOR aggregation function  : fmax\n",
            "IF magassag[alacsony] AND testtomeg[sovány] THEN allapot[normális]\n",
            "\tAND aggregation function : fmin\n",
            "\tOR aggregation function  : fmax\n",
            "IF magassag[közepes] AND testtomeg[közepes] THEN allapot[normális]\n",
            "\tAND aggregation function : fmin\n",
            "\tOR aggregation function  : fmax\n",
            "IF magassag[magas] AND testtomeg[kövér] THEN allapot[normális]\n",
            "\tAND aggregation function : fmin\n",
            "\tOR aggregation function  : fmax\n",
            "IF magassag[alacsony] AND testtomeg[kövér] THEN allapot[túlsúlyos]\n",
            "\tAND aggregation function : fmin\n",
            "\tOR aggregation function  : fmax\n",
            "----------------------------------------\n",
            "Állapot  : 27.17424242424242\n",
            "----------------------------------------\n",
            "magassag : 166\n",
            "testtomeg : 88\n",
            "\n"
          ],
          "name": "stdout"
        },
        {
          "output_type": "display_data",
          "data": {
            "image/png": "[encoded data removed]",
            "text/plain": [
              "<Figure size 1152x288 with 2 Axes>"
            ]
          },
          "metadata": {
            "tags": [],
            "needs_background": "light"
          }
        },
        {
          "output_type": "display_data",
          "data": {
            "image/png": "[encoded data removed]",
            "text/plain": [
              "<Figure size 1152x288 with 1 Axes>"
            ]
          },
          "metadata": {
            "tags": [],
            "needs_background": "light"
          }
        },
        {
          "output_type": "display_data",
          "data": {
            "image/png": "[encoded data removed]",
            "text/plain": [
              "<Figure size 1152x288 with 1 Axes>"
            ]
          },
          "metadata": {
            "tags": [],
            "needs_background": "light"
          }
        },
        {
          "output_type": "display_data",
          "data": {
            "image/png": "[encoded data removed]",
            "text/plain": [
              "<Figure size 1152x288 with 1 Axes>"
            ]
          },
          "metadata": {
            "tags": [],
            "needs_background": "light"
          }
        }
      ]
    },
    {
      "cell_type": "code",
      "metadata": {
        "id": "Y7a5yr93zC5S",
        "cellView": "form"
      },
      "source": [
        "#@title\n",
        "def demo(a1, a2, px=16, py=4):\n",
        "  plt.rcParams[\"figure.figsize\"] = (px,py)\n",
        "\n",
        "  magasság = a1\n",
        "  testtömeg = a2\n",
        "\n",
        "  Magassag         = ctrl.Antecedent(np.arange(150, 200, 1), 'magassag')\n",
        "\n",
        "  Magassag['alacsony'] = fuzzy.trapmf(Magassag.universe, [150, 150, 160, 170])\n",
        "  Magassag['közepes'] = fuzzy.trapmf(Magassag.universe, [160, 170, 180, 190])\n",
        "  Magassag['magas'] = fuzzy.trapmf(Magassag.universe, [180, 190, 200, 200])\n",
        "\n",
        "  Testtomeg         = ctrl.Antecedent(np.arange(50, 100, 1), 'testtomeg')\n",
        "\n",
        "  Testtomeg['sovány'] = fuzzy.trapmf(Testtomeg.universe, [50, 50, 60, 70])\n",
        "  Testtomeg['közepes'] = fuzzy.trapmf(Testtomeg.universe, [60, 70, 80, 90])\n",
        "  Testtomeg['kövér'] = fuzzy.trapmf(Testtomeg.universe, [80, 90, 100, 100])\n",
        "\n",
        "  Allapot         = ctrl.Consequent(np.arange(0, 40, 1), 'allapot')\n",
        "\n",
        "  Allapot['anorexia'] = fuzzy.trapmf(Allapot.universe, [0, 0, 10, 20])\n",
        "  Allapot['normális'] = fuzzy.trimf(Allapot.universe, [10, 20, 30])\n",
        "  Allapot['túlsúlyos'] = fuzzy.trapmf(Allapot.universe, [20, 30, 40, 40])\n",
        "\n",
        "\n",
        "  # rules\n",
        "  rule1 = ctrl.Rule(antecedent= Magassag['magas'] & Testtomeg['sovány'], consequent = Allapot['anorexia'])\n",
        "\n",
        "  rule2 = ctrl.Rule(antecedent= Magassag['alacsony'] & Testtomeg['sovány'], consequent = Allapot['normális'])\n",
        "  rule3 = ctrl.Rule(antecedent= Magassag['közepes'] & Testtomeg['közepes'], consequent = Allapot['normális'])\n",
        "  rule4 = ctrl.Rule(antecedent= Magassag['magas'] & Testtomeg['kövér'], consequent = Allapot['normális'])\n",
        "\n",
        "  rule5 = ctrl.Rule(antecedent= Magassag['alacsony'] & Testtomeg['kövér'], consequent = Allapot['túlsúlyos'])\n",
        "\n",
        "\n",
        "  # plot\n",
        "  fig, (ax1, ax2) = plt.subplots(1, 2)\n",
        "\n",
        "\n",
        "  def testtomegDemo(x1_):\n",
        "\n",
        "    x1 = np.arange(50, 100, 1)\n",
        "\n",
        "    for key in Testtomeg.terms.keys():\n",
        "      ax1.plot(x1, Testtomeg[key].mf)\n",
        "\n",
        "      xv = x1_\n",
        "\n",
        "      value1 = fuzzy.interp_membership(Testtomeg.universe, Testtomeg.__getitem__(key).mf, [xv])\n",
        "\n",
        "      # print(\"Testtomeg['{0}'](3) : \\t{1:0.2f}\".format(key, value1[0]))\n",
        "\n",
        "      ax1.vlines(xv, ymin = 0, ymax = 1, colors = 'k', linestyles = 'dashed')\n",
        "      ax1.hlines(value1, xmin = 100, xmax = xv, colors = 'k', linestyles = 'dashed')\n",
        "      ax1.text(xv-1, value1[0], '{:0.2f}'.format(value1[0]), verticalalignment = 'center', horizontalalignment = 'right')\n",
        "\n",
        "\n",
        "\n",
        "  #---------------------------------------------------------------------------\n",
        "\n",
        "\n",
        "  def magassagDemo(x2_):\n",
        "\n",
        "    x2 = np.arange(150, 200, 1)\n",
        "\n",
        "    for key in Magassag.terms.keys():\n",
        "      ax2.plot(x2, Magassag[key].mf)\n",
        "\n",
        "      xv = x2_\n",
        "\n",
        "      value2 = fuzzy.interp_membership(Magassag.universe, Magassag.__getitem__(key).mf, [xv])\n",
        "\n",
        "      # print(\"Magassag['{0}'](3) : \\t{1:0.2f}\".format(key, value2[0]))\n",
        "\n",
        "      ax2.vlines(xv, ymin = 0, ymax = 1, colors = 'k', linestyles = 'dashed')\n",
        "      ax2.hlines(value2, xmin = 200, xmax = xv, colors = 'k', linestyles = 'dashed')\n",
        "      ax2.text(xv-1, value2[0], '{:0.2f}'.format(value2[0]), verticalalignment = 'center', horizontalalignment = 'right')\n",
        "\n",
        "\n",
        "  magassagDemo(magasság)\n",
        "\n",
        "  testtomegDemo(testtömeg)\n",
        "\n",
        "  #---------------------------------------------------------------------------\n",
        "\n",
        "\n",
        "  # két szabályunk van\n",
        "  system = ctrl.ControlSystem([rule1, rule2, rule3, rule4, rule5])\n",
        "\n",
        "  simulation = ctrl.ControlSystemSimulation(system)\n",
        "\n",
        "  simulation.input['magassag'] = magasság\n",
        "  simulation.input['testtomeg'] = testtömeg\n",
        "\n",
        "  simulation.compute()\n",
        "\n",
        "  # print('----------------------------------------')\n",
        "  # print('Állapot  :', simulation.output['allapot'])\n",
        "  # print('----------------------------------------')\n",
        "  # print(simulation.input)\n",
        "\n",
        "\n",
        "  Testtomeg.view(sim = simulation)\n",
        "  Magassag.view(sim = simulation)\n",
        "  Allapot.view(sim = simulation)\n",
        "\n",
        "  return simulation"
      ],
      "execution_count": 16,
      "outputs": []
    },
    {
      "cell_type": "code",
      "metadata": {
        "colab": {
          "base_uri": "https://localhost:8080/",
          "height": 873,
          "referenced_widgets": [
            "3b81b3138c0046368dd5fc3a539e0990",
            "65dcb4fcb3f64637a15bcf91d807cfe2",
            "a11fd844507043b98ea7c2d0a7240aa4",
            "b7634ec03f014a0eb27972cd8b7d03e1",
            "613a2e34714a4a7683352ec9409e0de9",
            "2535c92dfe6a458fa9279b90eca0e2e5",
            "b8f1b7efeca345388fe89dd10ce24e26",
            "d3e49881ed8140eaaf4faf88cb1f8524",
            "354368ebe7184ba6a7f8f27351139158",
            "1e065bed07534867b2fae840bb561f36",
            "0bdbd1a9cac045c490133ae97f7dc785",
            "b87a74b1b489446d8781e9a5878f6b7a",
            "7eb0b8faf94643fbba8777b861665d89",
            "47cf595370174b75b06b9f6515bee7f7",
            "89231b131e7e498b8a5a50c9416c8903",
            "065cae69771245a698ac1bd44890a94a"
          ]
        },
        "cellView": "form",
        "id": "JCfEtjbt3yTA",
        "outputId": "5aa45c0c-813f-4cea-8450-a94ce64081d8"
      },
      "source": [
        "#@title\n",
        "a1 = widgets.IntSlider(min=150, max=200, step=1, value=166)\n",
        "a2 = widgets.IntSlider(min=50, max=100, step=1, value=88)\n",
        "px = widgets.IntSlider(min=8, max=15, step=1, value=11)\n",
        "py = widgets.IntSlider(min=2, max=10, step=1, value=3)\n",
        "\n",
        "ui = widgets.HBox([a1, a2, px, py])\n",
        "\n",
        "out = widgets.interactive_output(demo, {'a1': a1, 'a2': a2, 'px': px, 'py': py})\n",
        "\n",
        "display(ui, out)\n"
      ],
      "execution_count": 17,
      "outputs": [
        {
          "output_type": "display_data",
          "data": {
            "application/vnd.jupyter.widget-view+json": {
              "model_id": "3b81b3138c0046368dd5fc3a539e0990",
              "version_minor": 0,
              "version_major": 2
            },
            "text/plain": [
              "HBox(children=(IntSlider(value=166, max=200, min=150), IntSlider(value=88, min=50), IntSlider(value=11, max=15…"
            ]
          },
          "metadata": {
            "tags": []
          }
        },
        {
          "output_type": "display_data",
          "data": {
            "application/vnd.jupyter.widget-view+json": {
              "model_id": "89231b131e7e498b8a5a50c9416c8903",
              "version_minor": 0,
              "version_major": 2
            },
            "text/plain": [
              "Output()"
            ]
          },
          "metadata": {
            "tags": []
          }
        }
      ]
    },
    {
      "cell_type": "markdown",
      "metadata": {
        "id": "JCa4YGh96SxG"
      },
      "source": [
        "## Aggregáció (folyt.)\n",
        "\n",
        "A fenti példában láttauk , hogy A1(testtömeg) és A2(magasság) együttesen adták a hozzárendelési szabályokat.\n",
        "\n",
        "\n",
        "```\n",
        "rule1 = ctrl.Rule(antecedent= Magassag['magas'] & Testtomeg['sovány'], consequent = Allapot['anorexia'])\n",
        "\n",
        "rule2 = ctrl.Rule(antecedent= Magassag['alacsony'] & Testtomeg['sovány'], consequent = Allapot['normális'])\n",
        "rule3 = ctrl.Rule(antecedent= Magassag['közepes'] & Testtomeg['közepes'], consequent = Allapot['normális'])\n",
        "rule4 = ctrl.Rule(antecedent= Magassag['magas'] & Testtomeg['kövér'], consequent = Allapot['normális'])\n",
        "\n",
        "rule5 = ctrl.Rule(antecedent= Magassag['alacsony'] & Testtomeg['kövér'], consequent = Allapot['túlsúlyos'])\n",
        "```\n",
        "\n",
        "Most csak az 5 szabályt figyelembe véve nézzük meg, hogy mi a hozzárendelési szabály és hogyan alakul az értékük.\n",
        "\n",
        "```\n",
        "rule5 = ctrl.Rule(antecedent= Magassag['alacsony'] & Testtomeg['kövér'], consequent = Allapot['túlsúlyos'])\n",
        "```\n",
        "\n",
        "$\\mu(X_{1_1} = 166) = 0.4$ magasság, alacsony\n",
        "\n",
        "$\\mu(X_{1_2}= 166) = 0.6$ magasság, közepes\n",
        "\n",
        "$\\mu(X_{1_3}= 166) = 0.0$ magasság, magas\n",
        "\n",
        "$\\mu(X_{2_1}= 166) = 0.0$ testtömeg, sovány\n",
        "\n",
        "$\\mu(X_{2_1}= 166) = 0.2$ testtömeg, közepes\n",
        "\n",
        "$\\mu(X_{2_2}= 166) = 0.8$ testtömeg, kövér\n",
        "\n",
        "ezért\n",
        "\n",
        "$$w_1 = max(0.4, 0.8) = 0.4$$, az Állapot változó 'túlsúlyos' tagsági függvényéhez tartozó érték.\n",
        "\n",
        "Egy másik miatt pedig\n",
        "\n",
        "```\n",
        "rule3 = ctrl.Rule(antecedent= Magassag['közepes'] & Testtomeg['közepes'], consequent = Allapot['normális'])\n",
        "```\n",
        "\n",
        "\n",
        "$$w_2 = max(0.6, 0.2) = 0.2$$, az Állapot változó 'normális' tagsági függvényéhez tartozó érték.\n",
        "\n",
        "\n",
        "\n",
        "\n",
        "\n",
        "\n"
      ]
    },
    {
      "cell_type": "markdown",
      "metadata": {
        "id": "B7DZ_prEPiy3"
      },
      "source": [
        "# Defuzzifikáció\n",
        "\n",
        "A tagsági függvényekhez tartozó [0, 1] értéke folytonos értékekké alakítása.\n",
        "\n",
        "$$ y = \\sum_{i=1}^{n}w_i*Y_B$$\n",
        "\n",
        "Ahol $Y_B$ az aggregáció után kapott kimeneti halmaz."
      ]
    },
    {
      "cell_type": "code",
      "metadata": {
        "colab": {
          "base_uri": "https://localhost:8080/"
        },
        "id": "fuqkv6ipcVQj",
        "outputId": "4f57dbb2-4f44-4d66-b0c1-e5c5c4c9889e"
      },
      "source": [
        "mfx1 = Allapot.__getitem__('normális').mf\n",
        "mfx2 = Allapot.__getitem__('túlsúlyos').mf\n",
        "\n",
        "mx  = np.arange(0, mfx.size, 1)\n",
        "\n",
        "defuzzification1_centroid = fuzzy.defuzz(mx, mfx1, 'centroid')\n",
        "defuzzification2_centroid = fuzzy.defuzz(mx, mfx2, 'centroid')\n",
        "\n",
        "print('cog[normális]  =', defuzzification1_centroid)\n",
        "print('cog[túlsúlyos]  =', defuzzification2_centroid)\n",
        "\n",
        "# Állapot = w1 * COG(Állapot['anorixia']) + w2 * COG(Állapot['normális']) + w3 * COG(Állapot['túlsúlyos']) / (w1 + w2 + w3)\n",
        "\n",
        "# Állapot = ( 0.0 * 5 + 0.2 * 20 + 0.4 * 25 ) / ( 0.0 + 0.2 + 0.4 )\n",
        "\n",
        "# Állapot = 27.80\n",
        "\n",
        "result = ( 0.0 * 5 + 0.2 * defuzzification1_centroid + 0.4 * defuzzification2_centroid ) / ( 0.0 + 0.2 + 0.4 )\n",
        "\n",
        "print(result)\n"
      ],
      "execution_count": 52,
      "outputs": [
        {
          "output_type": "stream",
          "text": [
            "cog[normális]  = 19.999999999999996\n",
            "cog[túlsúlyos]  = 31.702380952380953\n",
            "27.801587301587297\n"
          ],
          "name": "stdout"
        }
      ]
    },
    {
      "cell_type": "code",
      "metadata": {
        "colab": {
          "base_uri": "https://localhost:8080/"
        },
        "id": "64noBeA1Xxh5",
        "outputId": "5ef5cf97-da5e-41d4-91b6-26d391d27ebb"
      },
      "source": [
        "simulation.output"
      ],
      "execution_count": 47,
      "outputs": [
        {
          "output_type": "execute_result",
          "data": {
            "text/plain": [
              "OrderedDict([('allapot', 27.17424242424242)])"
            ]
          },
          "metadata": {
            "tags": []
          },
          "execution_count": 47
        }
      ]
    },
    {
      "cell_type": "code",
      "metadata": {
        "id": "EB5I-WWxftdh"
      },
      "source": [
        ""
      ],
      "execution_count": null,
      "outputs": []
    },
    {
      "cell_type": "markdown",
      "metadata": {
        "id": "9YD3yLReUjlv"
      },
      "source": [
        "<a name=\"pelda2\"></a>\n",
        "\n",
        "[vissza a tartalomhoz](#tartalom)\n",
        "\n",
        "# Példa 2"
      ]
    },
    {
      "cell_type": "code",
      "metadata": {
        "id": "0xYlBG69-2j8"
      },
      "source": [
        "plt.rcParams[\"figure.figsize\"] = (14,5)"
      ],
      "execution_count": null,
      "outputs": []
    },
    {
      "cell_type": "code",
      "metadata": {
        "id": "8PQcQnfB-4Q5"
      },
      "source": [
        "# Create universe\n",
        "\n",
        "Étel         = ctrl.Antecedent(np.arange(0, 10.1, 0.1), 'food')\n",
        "\n",
        "Felszolgálás = ctrl.Antecedent(np.arange(0, 10.1, 0.1), 'service')\n",
        "\n",
        "Borravaló    = ctrl.Consequent(np.arange(0, 30.1, 0.1), 'tip')"
      ],
      "execution_count": null,
      "outputs": []
    },
    {
      "cell_type": "code",
      "metadata": {
        "id": "C_jT0ckb_dUJ"
      },
      "source": [
        "Borravaló.defuzzify_method = 'centroid'\n",
        "Borravaló.universe.mean()"
      ],
      "execution_count": null,
      "outputs": []
    },
    {
      "cell_type": "code",
      "metadata": {
        "id": "Nko9KK6P_lc_"
      },
      "source": [
        "Étel.view()"
      ],
      "execution_count": null,
      "outputs": []
    },
    {
      "cell_type": "code",
      "metadata": {
        "id": "WKpqM2BB_qsY"
      },
      "source": [
        "# Határozzuk meg a tagsági függvényeket (ez esetben most a felhőtakaró{napos})\n",
        "\n",
        "Étel['pocsék'] = fuzzy.trapmf(Étel.universe, [0, 0, 1, 3])\n",
        "\n",
        "Étel.view()"
      ],
      "execution_count": null,
      "outputs": []
    },
    {
      "cell_type": "code",
      "metadata": {
        "id": "IruWLeOQ_4fk"
      },
      "source": [
        "# Határozzuk meg a tagsági függvényeket (ez esetben most a felhőtakaró{felhős})\n",
        "\n",
        "Étel['finom'] = fuzzy.trapmf(Étel.universe, [7, 9, 10, 10])\n",
        "\n",
        "Étel.view()"
      ],
      "execution_count": null,
      "outputs": []
    },
    {
      "cell_type": "code",
      "metadata": {
        "id": "nItQYRPwAMSC"
      },
      "source": [
        "# Eddig megvagyunk a Étel változó tagsági fűggvényeivel {pocsék, finom}\n",
        "\n",
        "# Most készítsük el a Felszolgálás tagsági függvényeit is {rossz, jó, kiválló}\n",
        "\n",
        "# Felszolgálás['rossz']   = fuzzy.zmf(Felszolgálás.universe, 0, 5)\n",
        "\n",
        "Felszolgálás['rossz']   = fuzzy.gaussmf(Felszolgálás.universe, 0, 1.5)\n",
        "\n",
        "Felszolgálás['jó']      = fuzzy.gaussmf(Felszolgálás.universe, 5, 1.5)\n",
        "\n",
        "# Felszolgálás['kiválló'] = fuzzy.smf(Felszolgálás.universe, 5, 10)\n",
        "\n",
        "Felszolgálás['kiválló'] = fuzzy.gaussmf(Felszolgálás.universe, 10, 1.5)\n",
        "\n",
        "Felszolgálás.view()"
      ],
      "execution_count": null,
      "outputs": []
    },
    {
      "cell_type": "code",
      "metadata": {
        "id": "nEl3nxqfBEAJ"
      },
      "source": [
        "# Most készítsük el a Borravaló változó tagsági függvyényeit is {kevés, közepes, nagyvonalú}\n",
        "\n",
        "Borravaló['kevés']      = fuzzy.trimf(Borravaló.universe, [0, 5, 10])\n",
        "Borravaló['közepes']    = fuzzy.trimf(Borravaló.universe, [10, 15, 20])\n",
        "Borravaló['nagyvonalú'] = fuzzy.trimf(Borravaló.universe, [20, 25, 30])\n",
        "\n",
        "Borravaló.view()"
      ],
      "execution_count": null,
      "outputs": []
    },
    {
      "cell_type": "code",
      "metadata": {
        "id": "zwsPUpbbRkMO"
      },
      "source": [
        "# Most készítsük el a szabályokat\n",
        "\n",
        "rule1 = ctrl.Rule(antecedent= Felszolgálás['rossz'] | Étel['pocsék'], consequent = Borravaló['kevés'])\n",
        "\n",
        "rule2 = ctrl.Rule(antecedent= Felszolgálás['jó'], consequent = Borravaló['közepes'])\n",
        "\n",
        "rule3 = ctrl.Rule(antecedent= Felszolgálás['kiválló'] | Étel['finom'], consequent = Borravaló['nagyvonalú'])\n"
      ],
      "execution_count": null,
      "outputs": []
    },
    {
      "cell_type": "code",
      "metadata": {
        "id": "XVTnwlGyThV5"
      },
      "source": [
        "def fuzzyDemo(Felszolgálás_ = 3, Étel_ = 8):\n",
        "\n",
        "  # rule1 = setRules(Type)\n",
        "\n",
        "  # a szabályok\n",
        "  print(rule1)\n",
        "  print(rule2)\n",
        "  print(rule3)\n",
        "\n",
        "  # két szabályunk van\n",
        "  system = ctrl.ControlSystem([rule1, rule2, rule3])\n",
        "\n",
        "  simulation = ctrl.ControlSystemSimulation(system)\n",
        "\n",
        "  simulation.input['service'] = Felszolgálás_\n",
        "  simulation.input['food'] = Étel_\n",
        "\n",
        "  simulation.compute()\n",
        "\n",
        "  print('----------------------------------------')\n",
        "  print('borravaló  :', simulation.output['tip'])\n",
        "  print('----------------------------------------')\n",
        "  print(simulation.input)\n",
        "\n",
        "  Felszolgálás.view(sim = simulation)\n",
        "  Étel.view(sim = simulation)\n",
        "  Borravaló.view(sim = simulation)\n",
        "\n",
        "  return simulation\n"
      ],
      "execution_count": null,
      "outputs": []
    },
    {
      "cell_type": "markdown",
      "metadata": {
        "id": "QivgVrmxUSkS"
      },
      "source": [
        "## Igy is vissza lehet kapni az adott bemenet tagsággi függvényhez tartozó értékét"
      ]
    },
    {
      "cell_type": "code",
      "metadata": {
        "id": "ZPTU6X1NUMwo"
      },
      "source": [
        "print(Felszolgálás.universe.shape)\n",
        "\n",
        "# Felszolgálás['jó'] = fuzzy.gaussmf(Felszolgálás.universe, 5, 1.5)\n",
        "mfx = fuzzy.gaussmf(Felszolgálás.universe, 5, 1.5)\n",
        "print(mfx.shape)\n",
        "\n",
        "# mik a tagsággi függvényhez tartozó értékek a következ pontokban (1, 2, 3.5, 5)\n",
        "fuzzy.interp_membership(Felszolgálás.universe, mfx, [1.0, 2.0, 3.5, 5.0])"
      ],
      "execution_count": null,
      "outputs": []
    },
    {
      "cell_type": "code",
      "metadata": {
        "id": "el07jd7jUabz"
      },
      "source": [
        "print(Felszolgálás.__len__())\n",
        "print(Felszolgálás.__getitem__('jó'))\n",
        "a = Felszolgálás.__getitem__('jó')\n",
        "print(type(a))\n",
        "b = a.membership_value\n",
        "print(type(b))\n",
        "a.mf\n",
        "\n",
        "# Elég bonyolultan de le lehet hívni Felszolgálás objektumból a magát a tagsági függvényt (mf)\n",
        "fuzzy.interp_membership(Felszolgálás.universe, Felszolgálás.__getitem__('jó').mf, [1, 2, 3.5, 5])"
      ],
      "execution_count": null,
      "outputs": []
    },
    {
      "cell_type": "code",
      "metadata": {
        "id": "tZcsOd3fVMiS"
      },
      "source": [
        "# ide kéne egy olyan plotot raknom ami mutatja az adott függvényt, és mutatja az egyes x, hez tartozó értéket minkét (ha egynél több átviteli függvényhez is tartozik az y)"
      ],
      "execution_count": null,
      "outputs": []
    },
    {
      "cell_type": "code",
      "metadata": {
        "id": "9ePbBfUj3lq5"
      },
      "source": [
        "plt.plot(Felszolgálás['jó'].mf)\n",
        "plt.plot(Felszolgálás['rossz'].mf)\n",
        "plt.plot(Felszolgálás['kiválló'].mf)\n",
        "\n",
        "print(Felszolgálás.terms)\n",
        "\n",
        "# Elég bonyolultan de le lehet hívni Felszolgálás objektumból a magát a tagsági függvényt (mf)\n",
        "y_service_good    = fuzzy.interp_membership(Felszolgálás.universe, Felszolgálás.__getitem__('jó').mf, [3])\n",
        "y_service_bad     = fuzzy.interp_membership(Felszolgálás.universe, Felszolgálás.__getitem__('rossz').mf, [3])\n",
        "y_service_exelent = fuzzy.interp_membership(Felszolgálás.universe, Felszolgálás.__getitem__('kiválló').mf, [3])\n",
        "\n",
        "\n",
        "print(\"Felszolgálás['rossz'](3) : \\t{0:0.2f}\".format(y_service_bad[0]))\n",
        "print(\"Felszolgálás['jó'](3) : \\t{0:0.2f}\".format(y_service_good[0]))\n",
        "print(\"Felszolgálás['kiválló'](3) : \\t{0:0.2f}\".format(y_service_exelent[0]))\n",
        "\n",
        "plt.vlines(30, ymin = 0, ymax = 1, colors = 'k', linestyles = 'dashed')\n",
        "\n",
        "plt.hlines(y_service_bad, xmin = 0, xmax = 30, colors = 'k', linestyles = 'dashed')\n",
        "plt.hlines(y_service_good, xmin = 0, xmax = 30, colors = 'k', linestyles = 'dashed')\n",
        "\n",
        "plt.text(31, y_service_bad[0], '{:0.2f}'.format(y_service_bad[0]), verticalalignment = 'center')\n",
        "plt.text(31, y_service_good[0], '{:0.2f}'.format(y_service_good[0]), verticalalignment ='center')\n",
        "\n"
      ],
      "execution_count": null,
      "outputs": []
    },
    {
      "cell_type": "code",
      "metadata": {
        "id": "B_PdkZPVBgmz"
      },
      "source": [
        "Étel.terms"
      ],
      "execution_count": null,
      "outputs": []
    },
    {
      "cell_type": "code",
      "metadata": {
        "id": "wWKIKD2V303o"
      },
      "source": [
        "# Elég bonyolultan de le lehet hívni Étel objektumból a magát a tagsági függvényt (mf)\n",
        "fuzzy.interp_membership(Étel.universe, Étel.__getitem__('finom').mf, [8])"
      ],
      "execution_count": null,
      "outputs": []
    },
    {
      "cell_type": "code",
      "metadata": {
        "id": "aIBO9vtBC-A6"
      },
      "source": [
        "for key in Étel.terms.keys():\n",
        "  print(key)"
      ],
      "execution_count": null,
      "outputs": []
    },
    {
      "cell_type": "code",
      "metadata": {
        "id": "CrAGt2-2BcCD"
      },
      "source": [
        "for key in Étel.terms.keys():\n",
        "  plt.plot(Étel[key].mf)\n",
        "\n",
        "  value = fuzzy.interp_membership(Étel.universe, Étel.__getitem__(key).mf, [8])\n",
        "\n",
        "  print(\"Étel['{0}'](3) : \\t{1:0.2f}\".format(key, value[0]))\n",
        "\n",
        "  plt.vlines(80, ymin = 0, ymax = 1, colors = 'k', linestyles = 'dashed')\n",
        "  plt.hlines(value, xmin = 0, xmax = 80, colors = 'k', linestyles = 'dashed')\n",
        "  plt.text(81, value[0], '{:0.2f}'.format(value[0]), verticalalignment = 'center')\n"
      ],
      "execution_count": null,
      "outputs": []
    },
    {
      "cell_type": "markdown",
      "metadata": {
        "id": "MhxPt-dEo5iL"
      },
      "source": [
        "\n",
        "\n",
        "## A bemeneti változók és a hozzá tartozó értékeke a következőek\n",
        "\n"
      ]
    },
    {
      "cell_type": "code",
      "metadata": {
        "id": "sSrlbUotwp9q"
      },
      "source": [
        "# Tehát a bemeneti változók és a hozzá tartozó értékeke a következőek\n",
        "\n",
        "# Felszolgálás = 3 -> Felszolgálás['rossz'](0.14) és Felszolgálás['jó'](0.41)\n",
        "\n",
        "# Étel = 8 -> Étel['pocsék](0.00) és Étel['finom'](0.5)"
      ],
      "execution_count": null,
      "outputs": []
    },
    {
      "cell_type": "markdown",
      "metadata": {
        "id": "fGxhOekzwqlL"
      },
      "source": [
        "## Az aggregációs szabályok\n"
      ]
    },
    {
      "cell_type": "code",
      "metadata": {
        "id": "hENtlwPlwf4r"
      },
      "source": [
        "# Tekintsük most át a szabályokat\n",
        "\n",
        "# rule1 = ctrl.Rule(antecedent= Felszolgálás['rossz'] | Étel['pocsék'], consequent = Borravaló['kevés'])\n",
        "\n",
        "# Felszolgálás['rossz'](0.14) OR Étel['pocsék'](0.00) -> Borravaló['kevés'] -> max(0.14, 0.00) = 0.14\n",
        "\n",
        "\n",
        "# rule2 = ctrl.Rule(antecedent= Felszolgálás['jó'], consequent = Borravaló['közepes'])\n",
        "\n",
        "# Felszolgálás['jó'](0.41) -> Borravaló['közepes'] = 0.41\n",
        "\n",
        "\n",
        "# rule3 = ctrl.Rule(antecedent= Felszolgálás['kiválló'] | Étel['finom'], consequent = Borravaló['nagyvonalú'])\n",
        "\n",
        "# Felszolgálás['kiválló'](0.00) OR Étel['finom'](0.5) -> Borravaló['nagyvonalú'] -> max(0.00, 0.50) = 0.50"
      ],
      "execution_count": null,
      "outputs": []
    },
    {
      "cell_type": "markdown",
      "metadata": {
        "id": "YrijgS9awi4B"
      },
      "source": [
        "## Aggregáció"
      ]
    },
    {
      "cell_type": "code",
      "metadata": {
        "id": "4TzmFzYywFyZ"
      },
      "source": [
        "\n",
        "# Tehát a három szabály alapján a kimeneti változó (Borravaló) mindhárom {kevés, közepes, nagyvonalú} tagsági függvény aktív lesz\n",
        "\n",
        "# A fenti számítások alapján a következő képen\n",
        "\n",
        "# rule1 -> Borravaló['kevés'] = 0.14\n",
        "# rule2 -> Borravaló['közepes'] = 0.41\n",
        "# rule3 -> Borravoló['nagyvonalú'] = 0.5\n"
      ],
      "execution_count": null,
      "outputs": []
    },
    {
      "cell_type": "markdown",
      "metadata": {
        "id": "c5Tn3bs0tUIb"
      },
      "source": [
        "<a name=\"defuzzifikacio\"></a>\n",
        "\n",
        "## Defuzzifikáció<a href=\"#tartalom\"><font color='white'>&nbsp;&nbsp;&nbsp;&nbsp;Tartalom</font></a>\n",
        "\n",
        "###(Mamdani-style)\n",
        "\n",
        "A leggyakrabban használt de-fuzzyfikációs eljárás a középérték, vagy centroid módszer (center of gravity). Azt a pontot keresi meg, amely az aggregált területet két egyenlő részre bontja, a következő módon:\n",
        "\n",
        "$$ COG = \\frac{\\int_{a}^{b} \\mu_A(x)x\\ dx}{\\int_{a}^{b} \\mu_A(x)\\ dx}$$\n",
        "\n",
        "<br>\n"
      ]
    },
    {
      "cell_type": "code",
      "metadata": {
        "id": "L8T4sRsgtTsc"
      },
      "source": [
        "\n",
        "# Borravaló = w1 * COG(Borravaló['kevés']) + w2 * COG(Borravaló['közepes']) + w3 * COG(Borravaló['nagyvonalú']) / (w1 + w2 + w3)\n",
        "\n",
        "# Borravaló = ( 0.14 * 5 + 0.41 * 15 + 0.5 * 25 ) / ( 0.14 + 0.41 + 0.5 )\n",
        "\n",
        "# Borravaló = 18.42\n",
        "\n",
        "( 0.14 * 5 + 0.41 * 15 + 0.5 * 25 ) / ( 0.14 + 0.41 + 0.5 )"
      ],
      "execution_count": null,
      "outputs": []
    },
    {
      "cell_type": "markdown",
      "metadata": {
        "id": "7RAt2vXjFiQt"
      },
      "source": [
        "## Interaktív Demo"
      ]
    },
    {
      "cell_type": "code",
      "metadata": {
        "id": "wxgUiAJsJlIv"
      },
      "source": [
        "f = interact(fuzzyDemo, Felszolgálás_ = (0, 10), Étel_ = (0, 10));"
      ],
      "execution_count": null,
      "outputs": []
    },
    {
      "cell_type": "code",
      "metadata": {
        "id": "aDeZt-uGJlGK"
      },
      "source": [
        "sim = f.widget.result"
      ],
      "execution_count": null,
      "outputs": []
    },
    {
      "cell_type": "code",
      "metadata": {
        "id": "p8Is17Q6MZva"
      },
      "source": [
        "type(sim)"
      ],
      "execution_count": null,
      "outputs": []
    },
    {
      "cell_type": "code",
      "metadata": {
        "id": "UGCLOBu2OtgP"
      },
      "source": [
        "# a sim objektumból a végeredményt így lehetem visszakapni\n",
        "\n",
        "# legfőképpen azt, hogy a Borravaló objektum egyes tagsági függvényein milyen értékek vannak\n",
        "# és azt, hogy a hozzá tartozó érték alapján a különböző függvény alatti terület számítáási módszerekkel\n",
        "# (itt most csak COG) milyen de-fuzzyfikációs értéket kap"
      ],
      "execution_count": null,
      "outputs": []
    },
    {
      "cell_type": "code",
      "metadata": {
        "id": "wIvckHP3O3ry"
      },
      "source": [
        "sim.output"
      ],
      "execution_count": null,
      "outputs": []
    },
    {
      "cell_type": "markdown",
      "metadata": {
        "id": "MYHUS_6-9CA-"
      },
      "source": [
        "## A teljes kimeneti tér ábrázolása a két bemeneti változó függvényében"
      ]
    },
    {
      "cell_type": "code",
      "metadata": {
        "id": "sC429y0y9BrZ"
      },
      "source": [
        "\n",
        "# Ez kiértékelés nagyobb felbontással is elvégezhető te több számítással jár\n",
        "\n",
        "felszolgalas_space = np.linspace(0, 10, 10)\n",
        "etel_space = np.linspace(0, 10, 10)\n",
        "x, y = np.meshgrid(felszolgalas_space, etel_space)\n",
        "z = np.zeros_like(x)\n",
        "\n",
        "\n",
        "# Kiszámítjuk a rendszer kimeneteti értékét a két bemeneti változó függvényében\n",
        "for i in range(10):\n",
        "  for j in range(10):\n",
        "    sim.input['food'] = x[i, j]\n",
        "    sim.input['service'] = y[i, j]\n",
        "    sim.compute()\n",
        "    z[i, j] = sim.output['tip']"
      ],
      "execution_count": null,
      "outputs": []
    },
    {
      "cell_type": "code",
      "metadata": {
        "id": "i6IU5axa-J_x"
      },
      "source": [
        "# 3D plot\n",
        "fig = plt.figure(figsize=(12, 10))\n",
        "ax = fig.add_subplot(111, projection='3d')\n",
        "\n",
        "ax.set_xlabel('Étel minősége')\n",
        "ax.set_ylabel('Felszolgálás mínősége')\n",
        "ax.set_zlabel('Borravaló %')\n",
        "\n",
        "surf = ax.plot_surface(x, y, z, rstride = 1, cstride = 1, cmap = 'viridis', linewidth = 0.4, antialiased = True)\n",
        "\n",
        "cset = ax.contourf(x, y, z, zdir = 'z', offset = -2.5, cmap = 'viridis', alpha = 0.5)\n",
        "\n",
        "ax.view_init(30, 210)"
      ],
      "execution_count": null,
      "outputs": []
    },
    {
      "cell_type": "markdown",
      "metadata": {
        "id": "yS5MZB2iFAAu"
      },
      "source": [
        "## Surface Graphic"
      ]
    },
    {
      "cell_type": "code",
      "metadata": {
        "id": "GPdfO0ouBbS7"
      },
      "source": [
        "import matplotlib.pyplot as plt\n",
        "from mpl_toolkits.mplot3d import Axes3D"
      ],
      "execution_count": null,
      "outputs": []
    },
    {
      "cell_type": "code",
      "metadata": {
        "id": "jN3uctzKFC_c"
      },
      "source": [
        "# A kiértékelés nagyobb felbontással is elvégezhető de több számítással jár\n",
        "\n",
        "service = np.linspace(0, 10, 20)\n",
        "food    = np.linspace(0, 10, 20)\n",
        "\n",
        "x, y = np.meshgrid(service, food)\n",
        "\n",
        "z = np.zeros_like(x)\n",
        "\n",
        "z.shape"
      ],
      "execution_count": null,
      "outputs": []
    },
    {
      "cell_type": "code",
      "metadata": {
        "id": "LSoK9IolFF0P"
      },
      "source": [
        "# Az előzőnél nagyobb felbontásban, ugyan az kisérlet.\n",
        "\n",
        "# A két bemeneti változót 20 egyenlő lépésben vizsgálva az összes lehetséges\n",
        "# kombinációra kiszámolt értékek. Majd ezeket fogom ábrázolni egy 3 dimenziós\n",
        "# interaktív program segítségével\n",
        "\n",
        "for i in range(len(service)):\n",
        "  for j in range(len(food)):\n",
        "    sim.input['service'] = x[i, j]\n",
        "    sim.input['food'] = y[i, j]\n",
        "    sim.compute()\n",
        "    z[i, j] = sim.output['tip']\n",
        "\n",
        "# Ez az ábrázolási mód bár látványos, kettőnél több bemeneti változónál\n",
        "# többet nem tudunk ábrázolni, így használhatósága erősen korlátozott.\n",
        "# Az alábbi példát inkább didaktikai célból hoztam létre"
      ],
      "execution_count": null,
      "outputs": []
    },
    {
      "cell_type": "code",
      "metadata": {
        "id": "GJuDRFunFIRF"
      },
      "source": [
        "%%capture\n",
        "!pip install plotly\n",
        "!pip install chart-studio"
      ],
      "execution_count": null,
      "outputs": []
    },
    {
      "cell_type": "code",
      "metadata": {
        "id": "X4Dkq8V3FNVX"
      },
      "source": [
        "import chart_studio.plotly as py\n",
        "import plotly.graph_objects as go\n",
        "from plotly.offline import iplot"
      ],
      "execution_count": null,
      "outputs": []
    },
    {
      "cell_type": "code",
      "metadata": {
        "id": "t44Boz0kFPNK"
      },
      "source": [
        "surface = go.Surface(x = x, y = y, z = z)\n",
        "data = [surface]\n",
        "\n",
        "fig = go.Figure(data = data)\n",
        "\n",
        "fig.update_layout(title = 'A kimeneti változó értéke a két bemeneti változó függvényében', autosize=False,\n",
        "                  width = 700, height = 500,\n",
        "                  scene = dict(\n",
        "                    xaxis_title = 'food',\n",
        "                    yaxis_title = 'service',\n",
        "                    zaxis_title = 'tip %'),\n",
        "                  margin = dict(l = 65, r = 50, b = 65, t = 60))\n",
        "\n",
        "fig.show()"
      ],
      "execution_count": null,
      "outputs": []
    },
    {
      "cell_type": "markdown",
      "metadata": {
        "id": "s-qCpEpWAb56"
      },
      "source": [
        "\n",
        "<a name=\"felhasznalt-irodalom\"></a>\n",
        "\n",
        "[vissza a tartalomhoz](#tartalom)\n",
        "\n",
        "<a href=\"#tartalom\"><font color='white'>&nbsp;&nbsp;&nbsp;&nbsp;Main page</font></a>\n",
        "\n",
        "## Felhasznált irodalom és internetes cimek <a href=\"#tartalom\"><font color='white'>&nbsp;&nbsp;&nbsp;&nbsp;Main page</font></a>\n",
        "\n",
        "\n",
        "NumPy API Reference Guide\n",
        "<br>\n",
        "https://numpy.org/doc/stable/reference/random/generated/numpy.random.normal.html\n",
        "\n",
        "\n",
        "Seaborn API Reference Guide\n",
        "<br>\n",
        "https://seaborn.pydata.org/examples/pair_grid_with_kde.html\n",
        "\n",
        "\n",
        "Fuzzy Inference Part 4\n",
        "<br>\n",
        "https://www.youtube.com/watch?v=Q6QDVIwztyU\n",
        "\n",
        "\n",
        "Math AP®︎/College Statistics Confidence intervals Confidence intervals for proportions\n",
        "<br>\n",
        "https://www.khanacademy.org/math/ap-statistics/estimating-confidence-ap/one-sample-z-interval-proportion/v/conditions-for-valid-confidence-intervals\n",
        "\n",
        "Getting Started with Fuzzy Logic Toolbox (Matlab)\n",
        "<br>\n",
        "https://www.youtube.com/watch?v=LupUhRJo_sU\n",
        "\n",
        "How to work with Fuzzy Membership functions in Matlab\n",
        "<br>\n",
        "https://www.youtube.com/watch?v=vG3w4JVAKa0\n",
        "\n",
        "------------\n",
        "\n",
        "[2]\n",
        "P. R. Peebles Jr., “Central Limit Theorem” in “Probability, Random Variables and Random Signal Principles”, 4th ed., 2001, pp. 51, 51, 125.\n",
        "\n",
        "\n",
        "[3]\n",
        "Székely Mária - Barna Ildikó, \"Túlélő készlet az SPSS-hez\", 2008 Typotex, ISBN: 9789632790121\n",
        "\n",
        "------------\n",
        "\n",
        "\n",
        "Digitális Tankönyvtár - Fuzzy rendszerek\n",
        "Kóczy T. László, Tikk Domonkos\n",
        "<br>\n",
        "https://regi.tankonyvtar.hu/hu/tartalom/tkt/fuzzy-rendszerek-fuzzy/ch03.html\n",
        "\n",
        "\n",
        "Digitális Tankönyvtár - A bizonytalansági következtetés egyéb módszerei\n",
        "<br>\n",
        "https://regi.tankonyvtar.hu/hu/tartalom/tamop425/0026_mib_4_4/ch14s07.html\n",
        "\n",
        "\n",
        "\n",
        "\n",
        "\n"
      ]
    },
    {
      "cell_type": "markdown",
      "metadata": {
        "id": "m-ifpjOPFZOr"
      },
      "source": [
        "\n",
        "```\n",
        "# Köszönöm a figyelmet\n",
        "```\n",
        "\n",
        "```\n",
        "     Istvan Pintye\n",
        "     ---------------------------------------------------------\n",
        "     MTA SZTAKI Computer and Automation Research Institute\n",
        "                Hungarian Academy of Sciences,\n",
        "     Laboratory of Parallel and Distributed Systems\n",
        "     Postal    : P.O.Box 63. H-1518 Budapest, Hungary\n",
        "     Location  : 1132 Budapest Victor Hugo u. 18-22. Hungary\n",
        "     Phone/Fax : +36 1 329-78-64 (secretary)\n",
        "     Mobile    : +36 30 822-5188\n",
        "     E-mail    : pintye@sztaki.hu\n",
        "     ---------------------------------------------------------\n",
        "```\n"
      ]
    },
    {
      "cell_type": "code",
      "metadata": {
        "id": "QPNZk1ISH-z0"
      },
      "source": [
        ""
      ],
      "execution_count": null,
      "outputs": []
    }
  ]
}